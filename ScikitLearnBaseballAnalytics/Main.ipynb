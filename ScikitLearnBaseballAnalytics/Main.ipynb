{
 "cells": [
  {
   "cell_type": "code",
   "execution_count": 1,
   "metadata": {},
   "outputs": [],
   "source": [
    "# Blog : Part 1 - https://www.datacamp.com/community/tutorials/scikit-learn-tutorial-baseball-1\n",
    "# Blog : Part 2 - https://www.datacamp.com/community/tutorials/scikit-learn-tutorial-baseball-2"
   ]
  },
  {
   "cell_type": "code",
   "execution_count": 2,
   "metadata": {},
   "outputs": [],
   "source": [
    "### PART 1"
   ]
  },
  {
   "cell_type": "code",
   "execution_count": 3,
   "metadata": {},
   "outputs": [],
   "source": [
    "### Importing Data"
   ]
  },
  {
   "cell_type": "code",
   "execution_count": 4,
   "metadata": {},
   "outputs": [],
   "source": [
    "# import pandas and sqlite3\n",
    "import pandas as pd\n",
    "import sqlite3\n",
    "\n",
    "# Connecting to SQLite Database\n",
    "conn = sqlite3.connect('lahman2016.sqlite')"
   ]
  },
  {
   "cell_type": "code",
   "execution_count": 5,
   "metadata": {},
   "outputs": [],
   "source": [
    "# Querying Database for all seasons where a team played 150 or more games\n",
    "# and is still active today.\n",
    "query = '''\n",
    "select * from Teams\n",
    "inner join TeamsFranchises\n",
    "on Teams.franchID == TeamsFranchises.franchID\n",
    "where Teams.G >= 150 and TeamsFranchises.active == 'Y';\n",
    "'''\n",
    "\n",
    "# Creating dataframe from query.\n",
    "Teams = conn.execute(query).fetchall()"
   ]
  },
  {
   "cell_type": "code",
   "execution_count": 6,
   "metadata": {
    "scrolled": false
   },
   "outputs": [
    {
     "name": "stdout",
     "output_type": "stream",
     "text": [
      "     0   1    2    3     4   5    6     7   8   9   ...       42   43   44  \\\n",
      "0  1961  AL  LAA  ANA  None   8  162  82.0  70  91  ...   603510  111  112   \n",
      "1  1962  AL  LAA  ANA  None   3  162  81.0  86  76  ...  1144063   97   97   \n",
      "2  1963  AL  LAA  ANA  None   9  161  81.0  70  91  ...   821015   94   94   \n",
      "3  1964  AL  LAA  ANA  None   5  162  81.0  82  80  ...   760439   90   90   \n",
      "4  1965  AL  CAL  ANA  None   7  162  80.0  75  87  ...   566727   97   98   \n",
      "\n",
      "    45   46   47   48                             49  50    51  \n",
      "0  LAA  LAA  LAA  ANA  Los Angeles Angels of Anaheim   Y  None  \n",
      "1  LAA  LAA  LAA  ANA  Los Angeles Angels of Anaheim   Y  None  \n",
      "2  LAA  LAA  LAA  ANA  Los Angeles Angels of Anaheim   Y  None  \n",
      "3  LAA  LAA  LAA  ANA  Los Angeles Angels of Anaheim   Y  None  \n",
      "4  CAL  CAL  CAL  ANA  Los Angeles Angels of Anaheim   Y  None  \n",
      "\n",
      "[5 rows x 52 columns]\n"
     ]
    }
   ],
   "source": [
    "# Convert Teams to DataFrame\n",
    "teams_df = pd.DataFrame(Teams)\n",
    "\n",
    "# print out first 5 rows\n",
    "print(teams_df.head())"
   ]
  },
  {
   "cell_type": "code",
   "execution_count": 7,
   "metadata": {},
   "outputs": [],
   "source": [
    "### Cleaning and Preparing The Data"
   ]
  },
  {
   "cell_type": "code",
   "execution_count": 8,
   "metadata": {},
   "outputs": [
    {
     "name": "stdout",
     "output_type": "stream",
     "text": [
      "   yearID lgID teamID  franchID divID  Rank    G  Ghome   W   L  ...  \\\n",
      "0    1961   AL    LAA       ANA  None     8  162   82.0  70  91  ...   \n",
      "1    1962   AL    LAA       ANA  None     3  162   81.0  86  76  ...   \n",
      "2    1963   AL    LAA       ANA  None     9  161   81.0  70  91  ...   \n",
      "3    1964   AL    LAA       ANA  None     5  162   81.0  82  80  ...   \n",
      "4    1965   AL    CAL       ANA  None     7  162   80.0  75  87  ...   \n",
      "\n",
      "  attendance  BPF  PPF teamIDBR  teamIDlahman45  teamIDretro  franchID  \\\n",
      "0     603510  111  112      LAA             LAA          LAA       ANA   \n",
      "1    1144063   97   97      LAA             LAA          LAA       ANA   \n",
      "2     821015   94   94      LAA             LAA          LAA       ANA   \n",
      "3     760439   90   90      LAA             LAA          LAA       ANA   \n",
      "4     566727   97   98      CAL             CAL          CAL       ANA   \n",
      "\n",
      "                      franchName  active  NAassoc  \n",
      "0  Los Angeles Angels of Anaheim       Y     None  \n",
      "1  Los Angeles Angels of Anaheim       Y     None  \n",
      "2  Los Angeles Angels of Anaheim       Y     None  \n",
      "3  Los Angeles Angels of Anaheim       Y     None  \n",
      "4  Los Angeles Angels of Anaheim       Y     None  \n",
      "\n",
      "[5 rows x 52 columns]\n",
      "2287\n"
     ]
    }
   ],
   "source": [
    "# Adding column names to dataframe\n",
    "cols = ['yearID','lgID','teamID','franchID','divID','Rank','G','Ghome','W','L','DivWin','WCWin','LgWin','WSWin','R','AB','H','2B','3B','HR','BB','SO','SB','CS','HBP','SF','RA','ER','ERA','CG','SHO','SV','IPouts','HA','HRA','BBA','SOA','E','DP','FP','name','park','attendance','BPF','PPF','teamIDBR','teamIDlahman45','teamIDretro','franchID','franchName','active','NAassoc']\n",
    "teams_df.columns = cols\n",
    "\n",
    "# Print the first rows of 'teams_df'\n",
    "print(teams_df.head())\n",
    "\n",
    "# Print the length of 'teams_df'\n",
    "print(len(teams_df))"
   ]
  },
  {
   "cell_type": "code",
   "execution_count": 9,
   "metadata": {},
   "outputs": [
    {
     "name": "stdout",
     "output_type": "stream",
     "text": [
      "   yearID teamID    G   W    R    AB     H   2B  3B   HR  ...  SHO  SV  \\\n",
      "0    1961    LAA  162  70  744  5424  1331  218  22  189  ...    5  34   \n",
      "1    1962    LAA  162  86  718  5499  1377  232  35  137  ...   15  47   \n",
      "2    1963    LAA  161  70  597  5506  1378  208  38   95  ...   13  31   \n",
      "3    1964    LAA  162  82  544  5362  1297  186  27  102  ...   28  41   \n",
      "4    1965    CAL  162  75  527  5354  1279  200  36   92  ...   14  33   \n",
      "\n",
      "   IPouts    HA  HRA  BBA  SOA    E     DP     FP  \n",
      "0    4314  1391  180  713  973  192  154.0  0.969  \n",
      "1    4398  1412  118  616  858  175  153.0  0.972  \n",
      "2    4365  1317  120  578  889  163  155.0  0.974  \n",
      "3    4350  1273  100  530  965  138  168.0  0.978  \n",
      "4    4323  1259   91  563  847  123  149.0  0.981  \n",
      "\n",
      "[5 rows x 29 columns]\n"
     ]
    }
   ],
   "source": [
    "# Dropping you unnecessary column variables\n",
    "drop_cols = ['lgID','franchID','divID','Rank','Ghome','L','DivWin','WCWin','LgWin','WSWin','SF','name','park','attendance','BPF','PPF','teamIDBR','teamIDlahman45','teamIDretro','franchID','franchName','active','NAassoc']\n",
    "\n",
    "df = teams_df.drop(drop_cols, axis = 1)\n",
    "\n",
    "# Print out first rows of 'df'\n",
    "print(df.head())"
   ]
  },
  {
   "cell_type": "code",
   "execution_count": 10,
   "metadata": {},
   "outputs": [
    {
     "name": "stdout",
     "output_type": "stream",
     "text": [
      "[0, 0, 0, 0, 0, 0, 0, 0, 0, 0, 0, 110, 0, 419, 1777, 0, 0, 0, 0, 0, 0, 0, 0, 0, 0, 0, 0, 22, 0]\n"
     ]
    }
   ],
   "source": [
    "# Print out null values of all columns of 'df'\n",
    "print(df.isnull().sum(axis = 0).tolist())"
   ]
  },
  {
   "cell_type": "code",
   "execution_count": 11,
   "metadata": {},
   "outputs": [
    {
     "name": "stdout",
     "output_type": "stream",
     "text": [
      "[0, 0, 0, 0, 0, 0, 0, 0, 0, 0, 0, 0, 0, 0, 0, 0, 0, 0, 0, 0, 0, 0, 0, 0, 0, 0, 0]\n"
     ]
    }
   ],
   "source": [
    "# Eliminating columns with null values\n",
    "df = df.drop(['CS', 'HBP'], axis = 1)\n",
    "\n",
    "# Filling null values\n",
    "df['SO'] = df['SO'].fillna(df['SO'].median())\n",
    "df['DP'] = df['DP'].fillna(df['DP'].median())\n",
    "\n",
    "# Print out null values of all columns of 'df'\n",
    "print(df.isnull().sum(axis = 0).tolist())"
   ]
  },
  {
   "cell_type": "code",
   "execution_count": 12,
   "metadata": {},
   "outputs": [],
   "source": [
    "### Exploring and Visualizing The Data"
   ]
  },
  {
   "cell_type": "code",
   "execution_count": 13,
   "metadata": {},
   "outputs": [
    {
     "data": {
      "text/plain": [
       "Text(0.5, 1.0, 'Distribution of Wins')"
      ]
     },
     "execution_count": 13,
     "metadata": {},
     "output_type": "execute_result"
    },
    {
     "data": {
      "image/png": "[encoded data removed]",
      "text/plain": [
       "<Figure size 432x288 with 1 Axes>"
      ]
     },
     "metadata": {
      "needs_background": "light"
     },
     "output_type": "display_data"
    }
   ],
   "source": [
    "# import the pyplot module from matplotlib\n",
    "import matplotlib.pyplot as plt\n",
    "\n",
    "# matplotlib plots inline\n",
    "%matplotlib inline\n",
    "\n",
    "# Plotting distribution of wins\n",
    "plt.hist(df['W'])\n",
    "plt.xlabel('Wins')\n",
    "plt.title('Distribution of Wins')"
   ]
  },
  {
   "cell_type": "code",
   "execution_count": 14,
   "metadata": {},
   "outputs": [
    {
     "name": "stdout",
     "output_type": "stream",
     "text": [
      "79.23043288150416\n"
     ]
    }
   ],
   "source": [
    "print(df['W'].mean())"
   ]
  },
  {
   "cell_type": "code",
   "execution_count": 15,
   "metadata": {},
   "outputs": [],
   "source": [
    "# Creating bins for the win column\n",
    "def assign_win_bins(W):\n",
    "    if W < 50:\n",
    "        return 1\n",
    "    if W >= 50 and W <=69:\n",
    "        return 2\n",
    "    if W >= 70 and W <= 89:\n",
    "        return 3\n",
    "    if W >= 90 and W <= 109:\n",
    "        return 4\n",
    "    if W >= 110:\n",
    "        return 5\n",
    "\n",
    "# Apply 'assign_win_bins' to df['W']\n",
    "df['win_bins'] = df['W'].apply(assign_win_bins)"
   ]
  },
  {
   "cell_type": "code",
   "execution_count": 16,
   "metadata": {},
   "outputs": [
    {
     "data": {
      "image/png": "[encoded data removed]",
      "text/plain": [
       "<Figure size 432x288 with 1 Axes>"
      ]
     },
     "metadata": {
      "needs_background": "light"
     },
     "output_type": "display_data"
    }
   ],
   "source": [
    "# Plotting scatter graph of Year vs. Wins\n",
    "plt.scatter(df['yearID'], df['W'], c = df['win_bins'])\n",
    "plt.title('Wins Scatter Plot')\n",
    "plt.xlabel('Year')\n",
    "plt.ylabel('Wins')\n",
    "\n",
    "plt.show()"
   ]
  },
  {
   "cell_type": "code",
   "execution_count": 17,
   "metadata": {},
   "outputs": [],
   "source": [
    "# Filter for rows where 'yearID' is greater than 1900\n",
    "df = df[df['yearID'] > 1900]"
   ]
  },
  {
   "cell_type": "code",
   "execution_count": 18,
   "metadata": {},
   "outputs": [
    {
     "name": "stdout",
     "output_type": "stream",
     "text": [
      "{1961: 12942, 1962: 14461, 1963: 12780, 1964: 13124, 1965: 12946, 1966: 12900, 1967: 12210, 1968: 11109, 1969: 15850, 1970: 16880, 1971: 15073, 1972: 13706, 1973: 16376, 1974: 16046, 1975: 16295, 1976: 15492, 1977: 18803, 1978: 17251, 1979: 18713, 1980: 18053, 1982: 18110, 1983: 18170, 1984: 17921, 1985: 18216, 1986: 18545, 1987: 19883, 1988: 17380, 1989: 17405, 1990: 17919, 1991: 18127, 1992: 17341, 1993: 20864, 1996: 22831, 1997: 21604, 1998: 23297, 1999: 24691, 2000: 24971, 2001: 23199, 2002: 22408, 2003: 22978, 2004: 23376, 2005: 22325, 2006: 23599, 2007: 23322, 2008: 22585, 2009: 22419, 2010: 21308, 2011: 20808, 2012: 21017, 2013: 20255, 2014: 19761, 2015: 20647, 2016: 21744, 1904: 9307, 1905: 9640, 1906: 8322, 1907: 8186, 1908: 8423, 1909: 8805, 1910: 9580, 1911: 11164, 1912: 11154, 1913: 9964, 1914: 9408, 1915: 9444, 1916: 8889, 1917: 8948, 1920: 10762, 1921: 11935, 1922: 12059, 1923: 11874, 1924: 11722, 1925: 12596, 1926: 11443, 1927: 11745, 1928: 11645, 1929: 12747, 1930: 13695, 1931: 11892, 1932: 12116, 1933: 10288, 1934: 11325, 1935: 10498, 1936: 12846, 1937: 12070, 1938: 11260, 1939: 11876, 1940: 11568, 1941: 11168, 1942: 9457, 1943: 9694, 1944: 10353, 1945: 9729, 1946: 9953, 1947: 10827, 1948: 11328, 1949: 11426, 1950: 12013, 1951: 11268, 1952: 10349, 1953: 11426, 1954: 10827, 1955: 11069, 1956: 11031, 1957: 10636, 1958: 10578, 1959: 10853, 1960: 10664}\n",
      "{1961: 2860, 1962: 3242, 1963: 3238, 1964: 3252, 1965: 3246, 1966: 3230, 1967: 3240, 1968: 3250, 1969: 3892, 1970: 3888, 1971: 3876, 1972: 3718, 1973: 3886, 1974: 3890, 1975: 3868, 1976: 3878, 1977: 4206, 1978: 4204, 1979: 4198, 1980: 4210, 1982: 4214, 1983: 4218, 1984: 4210, 1985: 4206, 1986: 4206, 1987: 4210, 1988: 4200, 1989: 4212, 1990: 4210, 1991: 4208, 1992: 4212, 1993: 4538, 1996: 4534, 1997: 4532, 1998: 4864, 1999: 4856, 2000: 4858, 2001: 4858, 2002: 4852, 2003: 4860, 2004: 4856, 2005: 4862, 2006: 4858, 2007: 4862, 2008: 4856, 2009: 4860, 2010: 4860, 2011: 4858, 2012: 4860, 2013: 4862, 2014: 4860, 2015: 4858, 2016: 4856, 1904: 2498, 1905: 2474, 1906: 2307, 1907: 2317, 1908: 2488, 1909: 2482, 1910: 2498, 1911: 2474, 1912: 2464, 1913: 2468, 1914: 2512, 1915: 2490, 1916: 2494, 1917: 2494, 1920: 2468, 1921: 2458, 1922: 2476, 1923: 2466, 1924: 2462, 1925: 2456, 1926: 2468, 1927: 2472, 1928: 2462, 1929: 2458, 1930: 2468, 1931: 2472, 1932: 2466, 1933: 2303, 1934: 2297, 1935: 2158, 1936: 2476, 1937: 2478, 1938: 2297, 1939: 2462, 1940: 2472, 1941: 2488, 1942: 2300, 1943: 2476, 1944: 2484, 1945: 2313, 1946: 2484, 1947: 2486, 1948: 2474, 1949: 2480, 1950: 2476, 1951: 2478, 1952: 2478, 1953: 2480, 1954: 2474, 1955: 2468, 1956: 2478, 1957: 2470, 1958: 2470, 1959: 2476, 1960: 2472}\n"
     ]
    }
   ],
   "source": [
    "# Create runs per year and games per year dictionaries\n",
    "runs_per_year = {}\n",
    "games_per_year = {}\n",
    "\n",
    "for i, row in df.iterrows():\n",
    "    year = row['yearID']\n",
    "    runs = row['R']\n",
    "    games = row['G']\n",
    "    if year in runs_per_year:\n",
    "        runs_per_year[year] = runs_per_year[year] + runs\n",
    "        games_per_year[year] = games_per_year[year] + games\n",
    "    else:\n",
    "        runs_per_year[year] = runs\n",
    "        games_per_year[year] = games\n",
    "\n",
    "print(runs_per_year)\n",
    "print(games_per_year)"
   ]
  },
  {
   "cell_type": "code",
   "execution_count": 19,
   "metadata": {},
   "outputs": [
    {
     "name": "stdout",
     "output_type": "stream",
     "text": [
      "{1961: 4.525174825174825, 1962: 4.460518198642813, 1963: 3.9468807906114884, 1964: 4.035670356703567, 1965: 3.9882932840418976, 1966: 3.9938080495356036, 1967: 3.7685185185185186, 1968: 3.4181538461538463, 1969: 4.07245632065776, 1970: 4.341563786008231, 1971: 3.8888028895768834, 1972: 3.6863905325443787, 1973: 4.214101904271745, 1974: 4.124935732647815, 1975: 4.21277145811789, 1976: 3.99484270242393, 1977: 4.470518307180218, 1978: 4.103472882968601, 1979: 4.457598856598381, 1980: 4.2881235154394295, 1982: 4.297579496915045, 1983: 4.307728781412992, 1984: 4.256769596199525, 1985: 4.330955777460771, 1986: 4.409177365668093, 1987: 4.722802850356294, 1988: 4.1380952380952385, 1989: 4.132241215574549, 1990: 4.256294536817102, 1991: 4.307747148288973, 1992: 4.1170465337132, 1993: 4.597620096959012, 1996: 5.0355094838994265, 1997: 4.766990291262136, 1998: 4.789679276315789, 1999: 5.0846375617792425, 2000: 5.140181144503911, 2001: 4.7754219843557015, 2002: 4.6183017312448476, 2003: 4.72798353909465, 2004: 4.813838550247117, 2005: 4.591731797614151, 2006: 4.857760395224372, 2007: 4.7967914438502675, 2008: 4.650947281713345, 2009: 4.612962962962963, 2010: 4.3843621399176955, 2011: 4.283244133388226, 2012: 4.324485596707819, 2013: 4.1659810777457835, 2014: 4.0660493827160495, 2015: 4.250102923013586, 2016: 4.477759472817134, 1904: 3.7257806244995995, 1905: 3.896523848019402, 1906: 3.6072821846553964, 1907: 3.5330168321104876, 1908: 3.385450160771704, 1909: 3.5475423045930703, 1910: 3.8350680544435547, 1911: 4.512530315278901, 1912: 4.526785714285714, 1913: 4.037277147487845, 1914: 3.745222929936306, 1915: 3.792771084337349, 1916: 3.5641539695268647, 1917: 3.587810745789896, 1920: 4.360615883306321, 1921: 4.855573637103336, 1922: 4.870355411954765, 1923: 4.815085158150851, 1924: 4.761169780666125, 1925: 5.128664495114006, 1926: 4.636547811993517, 1927: 4.75121359223301, 1928: 4.729894394800975, 1929: 5.185923515052888, 1930: 5.5490275526742305, 1931: 4.810679611650485, 1932: 4.913219789132198, 1933: 4.467216673903604, 1934: 4.9303439268611235, 1935: 4.86468952734013, 1936: 5.188206785137318, 1937: 4.870863599677159, 1938: 4.902046147148455, 1939: 4.823720552396425, 1940: 4.679611650485437, 1941: 4.488745980707395, 1942: 4.111739130434783, 1943: 3.9151857835218093, 1944: 4.167874396135265, 1945: 4.206225680933852, 1946: 4.006843800322061, 1947: 4.3551890587288815, 1948: 4.5788197251414715, 1949: 4.607258064516129, 1950: 4.851777059773829, 1951: 4.547215496368039, 1952: 4.17635189669088, 1953: 4.607258064516129, 1954: 4.376313662085691, 1955: 4.485008103727715, 1956: 4.451573849878935, 1957: 4.306072874493927, 1958: 4.282591093117409, 1959: 4.383279483037157, 1960: 4.313915857605178}\n"
     ]
    }
   ],
   "source": [
    "# Create MLB runs per game (per year) dictionary\n",
    "mlb_runs_per_game = {}\n",
    "for k, v in games_per_year.items():\n",
    "    year = k\n",
    "    games = v\n",
    "    runs = runs_per_year[year]\n",
    "    mlb_runs_per_game[year] = runs / games\n",
    "\n",
    "print(mlb_runs_per_game)"
   ]
  },
  {
   "cell_type": "code",
   "execution_count": 20,
   "metadata": {},
   "outputs": [
    {
     "data": {
      "image/png": "[encoded data removed]",
      "text/plain": [
       "<Figure size 432x288 with 1 Axes>"
      ]
     },
     "metadata": {
      "needs_background": "light"
     },
     "output_type": "display_data"
    }
   ],
   "source": [
    "# Create lists from mlb_runs_per_game dictionary\n",
    "lists = sorted(mlb_runs_per_game.items())\n",
    "x, y = zip(*lists)\n",
    "\n",
    "# Create line plot of Year vs. MLB runs per Game\n",
    "plt.plot(x, y)\n",
    "plt.title('MLB Yearly Runs per Game')\n",
    "plt.xlabel('Year')\n",
    "plt.ylabel('MLB Runs per Game')\n",
    "\n",
    "plt.show()"
   ]
  },
  {
   "cell_type": "code",
   "execution_count": 21,
   "metadata": {},
   "outputs": [],
   "source": [
    "### Adding New Features"
   ]
  },
  {
   "cell_type": "code",
   "execution_count": 22,
   "metadata": {},
   "outputs": [
    {
     "name": "stdout",
     "output_type": "stream",
     "text": [
      "   yearID teamID    G   W    R    AB     H   2B  3B   HR  ...  win_bins  \\\n",
      "0    1961    LAA  162  70  744  5424  1331  218  22  189  ...         3   \n",
      "1    1962    LAA  162  86  718  5499  1377  232  35  137  ...         3   \n",
      "2    1963    LAA  161  70  597  5506  1378  208  38   95  ...         3   \n",
      "3    1964    LAA  162  82  544  5362  1297  186  27  102  ...         3   \n",
      "4    1965    CAL  162  75  527  5354  1279  200  36   92  ...         3   \n",
      "\n",
      "   year_label  era_1  era_2  era_3  era_4  era_5  era_6  era_7  era_8  \n",
      "0           4      0      0      0      1      0      0      0      0  \n",
      "1           4      0      0      0      1      0      0      0      0  \n",
      "2           5      0      0      0      0      1      0      0      0  \n",
      "3           5      0      0      0      0      1      0      0      0  \n",
      "4           5      0      0      0      0      1      0      0      0  \n",
      "\n",
      "[5 rows x 37 columns]\n"
     ]
    }
   ],
   "source": [
    "# Creating 'year_label' column, which will give your algorithm\n",
    "# information about how certain years are related\n",
    "# (Dead ball eras, Live ball/Steroid Eras)\n",
    "\n",
    "def assign_label(year):\n",
    "    if year < 1920:\n",
    "        return 1\n",
    "    elif year >= 1920 and year <= 1941:\n",
    "        return 2\n",
    "    elif year >= 1942 and year <= 1945:\n",
    "        return 3\n",
    "    elif year >= 1946 and year <= 1962:\n",
    "        return 4\n",
    "    elif year >= 1963 and year <= 1976:\n",
    "        return 5\n",
    "    elif year >= 1977 and year <= 1992:\n",
    "        return 6\n",
    "    elif year >= 1993 and year <= 2009:\n",
    "        return 7\n",
    "    elif year >= 2010:\n",
    "        return 8\n",
    "\n",
    "# Add year_label column to df\n",
    "df['year_label'] = df['yearID'].apply(assign_label)\n",
    "\n",
    "dummy_df = pd.get_dummies(df['year_label'], prefix = 'era')\n",
    "\n",
    "# Concatenate df and dummy_df\n",
    "df = pd.concat([df, dummy_df], axis = 1)\n",
    "\n",
    "print(df.head())"
   ]
  },
  {
   "cell_type": "code",
   "execution_count": 23,
   "metadata": {},
   "outputs": [],
   "source": [
    "# Create column for MLB runs per game from the mlb_runs_per_game\n",
    "# dictionary\n",
    "def assign_mlb_rpg(year):\n",
    "    return mlb_runs_per_game[year]\n",
    "\n",
    "df['mlb_rpg'] = df['yearID'].apply(assign_mlb_rpg)"
   ]
  },
  {
   "cell_type": "code",
   "execution_count": 24,
   "metadata": {},
   "outputs": [],
   "source": [
    "# Convert years into decade bins and creating dummy variables\n",
    "def assign_decade(year):\n",
    "    if year < 1920:\n",
    "        return 1910\n",
    "    elif year >= 1920 and year <= 1929:\n",
    "        return 1920\n",
    "    elif year >= 1930 and year <= 1939:\n",
    "        return 1930\n",
    "    elif year >= 1940 and year <= 1949:\n",
    "        return 1940\n",
    "    elif year >= 1950 and year <= 1959:\n",
    "        return 1950\n",
    "    elif year >= 1960 and year <= 1969:\n",
    "        return 1960\n",
    "    elif year >= 1970 and year <= 1979:\n",
    "        return 1970\n",
    "    elif year >= 1980 and year <= 1989:\n",
    "        return 1980\n",
    "    elif year >= 1990 and year <= 1999:\n",
    "        return 1990\n",
    "    elif year >= 2000 and year <= 2009:\n",
    "        return 2000\n",
    "    elif year >= 2010:\n",
    "        return 2010\n",
    "\n",
    "df['decade_label'] = df['yearID'].apply(assign_decade)\n",
    "decade_df = pd.get_dummies(df['decade_label'], prefix = 'decade')\n",
    "df = pd.concat([df, decade_df], axis = 1)\n",
    "\n",
    "# Drop unnecessary columns\n",
    "df = df.drop(['yearID', 'year_label', 'decade_label'], axis = 1)"
   ]
  },
  {
   "cell_type": "code",
   "execution_count": 25,
   "metadata": {},
   "outputs": [],
   "source": [
    "# Create new features for Runs per Game and Runs Allowed per Game\n",
    "df['R_per_game'] = df['R'] / df['G']\n",
    "df['RA_per_game'] = df['RA'] / df['G']"
   ]
  },
  {
   "cell_type": "code",
   "execution_count": 26,
   "metadata": {},
   "outputs": [
    {
     "data": {
      "image/png": "[encoded data removed]",
      "text/plain": [
       "<Figure size 864x432 with 2 Axes>"
      ]
     },
     "metadata": {
      "needs_background": "light"
     },
     "output_type": "display_data"
    }
   ],
   "source": [
    "# Create scatter plots for runs per game vs wins and runs allowed\n",
    "# per game vs. wins\n",
    "fig = plt.figure(figsize = (12, 6))\n",
    "\n",
    "ax1 = fig.add_subplot(1, 2, 1)\n",
    "ax2 = fig.add_subplot(1, 2, 2)\n",
    "\n",
    "ax1.scatter(df['R_per_game'], df['W'], c = 'blue')\n",
    "ax1.set_title('Runs per Game vs. Wins')\n",
    "ax1.set_ylabel('Wins')\n",
    "ax1.set_xlabel('Runs per Game')\n",
    "\n",
    "ax2.scatter(df['RA_per_game'], df['W'], c = 'red')\n",
    "ax2.set_title('Runs Allowed per Game vs. Wins')\n",
    "ax2.set_xlabel('Runs Allowed per Game')\n",
    "\n",
    "plt.show()"
   ]
  },
  {
   "cell_type": "code",
   "execution_count": 27,
   "metadata": {},
   "outputs": [
    {
     "data": {
      "text/plain": [
       "G              0.178958\n",
       "W              1.000000\n",
       "R              0.551504\n",
       "AB             0.233996\n",
       "H              0.380281\n",
       "2B             0.262323\n",
       "3B             0.016970\n",
       "HR             0.312713\n",
       "BB             0.345348\n",
       "SO             0.072069\n",
       "SB             0.133300\n",
       "RA            -0.518313\n",
       "ER            -0.372580\n",
       "ERA           -0.425833\n",
       "CG            -0.041788\n",
       "SHO            0.426892\n",
       "SV             0.382174\n",
       "IPouts         0.326087\n",
       "HA            -0.384893\n",
       "HRA            0.009880\n",
       "BBA           -0.284782\n",
       "SOA            0.259205\n",
       "E             -0.304725\n",
       "DP             0.015192\n",
       "FP             0.319597\n",
       "win_bins       0.912545\n",
       "era_1         -0.077104\n",
       "era_2         -0.083089\n",
       "era_3         -0.033073\n",
       "era_4         -0.052278\n",
       "era_5          0.042122\n",
       "era_6          0.058439\n",
       "era_7          0.066049\n",
       "era_8          0.043453\n",
       "mlb_rpg        0.006909\n",
       "decade_1910   -0.077104\n",
       "decade_1920   -0.055176\n",
       "decade_1930   -0.052358\n",
       "decade_1940   -0.050249\n",
       "decade_1950   -0.047499\n",
       "decade_1960    0.028594\n",
       "decade_1970    0.033679\n",
       "decade_1980    0.043516\n",
       "decade_1990    0.044150\n",
       "decade_2000    0.052283\n",
       "decade_2010    0.043453\n",
       "R_per_game     0.528489\n",
       "RA_per_game   -0.550696\n",
       "Name: W, dtype: float64"
      ]
     },
     "execution_count": 27,
     "metadata": {},
     "output_type": "execute_result"
    }
   ],
   "source": [
    "# Correlation\n",
    "df.corr()['W']"
   ]
  },
  {
   "cell_type": "code",
   "execution_count": 28,
   "metadata": {},
   "outputs": [
    {
     "name": "stdout",
     "output_type": "stream",
     "text": [
      "  teamID    G   W    R    AB     H   2B  3B   HR   BB  ...  decade_1940  \\\n",
      "0    LAA  162  70  744  5424  1331  218  22  189  681  ...            0   \n",
      "1    LAA  162  86  718  5499  1377  232  35  137  602  ...            0   \n",
      "2    LAA  161  70  597  5506  1378  208  38   95  448  ...            0   \n",
      "3    LAA  162  82  544  5362  1297  186  27  102  472  ...            0   \n",
      "4    CAL  162  75  527  5354  1279  200  36   92  443  ...            0   \n",
      "\n",
      "   decade_1950  decade_1960  decade_1970  decade_1980  decade_1990  \\\n",
      "0            0            1            0            0            0   \n",
      "1            0            1            0            0            0   \n",
      "2            0            1            0            0            0   \n",
      "3            0            1            0            0            0   \n",
      "4            0            1            0            0            0   \n",
      "\n",
      "   decade_2000  decade_2010  R_per_game  RA_per_game  \n",
      "0            0            0    4.592593     4.839506  \n",
      "1            0            0    4.432099     4.358025  \n",
      "2            0            0    3.708075     4.099379  \n",
      "3            0            0    3.358025     3.401235  \n",
      "4            0            0    3.253086     3.512346  \n",
      "\n",
      "[5 rows x 49 columns]\n"
     ]
    }
   ],
   "source": [
    "# KMeans\n",
    "attributes = ['G','R','AB','H','2B','3B','HR','BB','SO','SB','RA','ER','ERA','CG',\n",
    "'SHO','SV','IPouts','HA','HRA','BBA','SOA','E','DP','FP','era_1','era_2','era_3','era_4','era_5','era_6','era_7','era_8','decade_1910','decade_1920','decade_1930','decade_1940','decade_1950','decade_1960','decade_1970','decade_1980','decade_1990','decade_2000','decade_2010','R_per_game','RA_per_game','mlb_rpg']\n",
    "\n",
    "\n",
    "data_attributes = df[attributes]\n",
    "\n",
    "# Print the first rows of 'df'\n",
    "print(df.head())"
   ]
  },
  {
   "cell_type": "code",
   "execution_count": 29,
   "metadata": {},
   "outputs": [
    {
     "name": "stdout",
     "output_type": "stream",
     "text": [
      "{2: [0.3906998802293878], 3: [0.3380758548481093], 4: [0.25340940061017997], 5: [0.23561577404187492], 6: [0.2138869412081822], 7: [0.19570350588885865], 8: [0.1866085747852742], 9: [0.1735454878870926], 10: [0.16986446409819547]}\n"
     ]
    }
   ],
   "source": [
    "# Import necessary modules from 'sklearn'\n",
    "from sklearn.cluster import KMeans\n",
    "from sklearn import metrics\n",
    "\n",
    "# Create silhouette score dictionary\n",
    "s_score_dict = {}\n",
    "for i in range(2, 11):\n",
    "    km = KMeans(n_clusters = i, random_state = 1)\n",
    "    l = km.fit_predict(data_attributes)\n",
    "    s_s = metrics.silhouette_score(data_attributes, l)\n",
    "    s_score_dict[i] = [s_s]\n",
    "\n",
    "# Print out 's_score_dict'\n",
    "print(s_score_dict)"
   ]
  },
  {
   "cell_type": "code",
   "execution_count": 30,
   "metadata": {},
   "outputs": [
    {
     "data": {
      "image/png": "[encoded data removed]",
      "text/plain": [
       "<Figure size 432x288 with 1 Axes>"
      ]
     },
     "metadata": {
      "needs_background": "light"
     },
     "output_type": "display_data"
    }
   ],
   "source": [
    "# Create K-Means model and determine euclidian distances for each data point\n",
    "kmeans_model = KMeans(n_clusters = 6, random_state = 1)\n",
    "distances = kmeans_model.fit_transform(data_attributes)\n",
    "\n",
    "# Create scatter plot using labels from K-Means model as color\n",
    "labels = kmeans_model.labels_\n",
    "\n",
    "plt.scatter(distances[:, 0], distances[:, 1], c = labels)\n",
    "plt.title('KMeans Clusters')\n",
    "plt.show()"
   ]
  },
  {
   "cell_type": "code",
   "execution_count": 31,
   "metadata": {},
   "outputs": [
    {
     "name": "stdout",
     "output_type": "stream",
     "text": [
      "  teamID    G   W    R    AB     H   2B  3B   HR   BB  ...  decade_1950  \\\n",
      "0    LAA  162  70  744  5424  1331  218  22  189  681  ...            0   \n",
      "1    LAA  162  86  718  5499  1377  232  35  137  602  ...            0   \n",
      "2    LAA  161  70  597  5506  1378  208  38   95  448  ...            0   \n",
      "3    LAA  162  82  544  5362  1297  186  27  102  472  ...            0   \n",
      "4    CAL  162  75  527  5354  1279  200  36   92  443  ...            0   \n",
      "\n",
      "   decade_1960  decade_1970  decade_1980  decade_1990  decade_2000  \\\n",
      "0            1            0            0            0            0   \n",
      "1            1            0            0            0            0   \n",
      "2            1            0            0            0            0   \n",
      "3            1            0            0            0            0   \n",
      "4            1            0            0            0            0   \n",
      "\n",
      "   decade_2010  R_per_game  RA_per_game  labels  \n",
      "0            0    4.592593     4.839506       5  \n",
      "1            0    4.432099     4.358025       0  \n",
      "2            0    3.708075     4.099379       0  \n",
      "3            0    3.358025     3.401235       0  \n",
      "4            0    3.253086     3.512346       0  \n",
      "\n",
      "[5 rows x 50 columns]\n"
     ]
    }
   ],
   "source": [
    "# Add labels from K-Means model to 'df' DataFrame and attributes\n",
    "# list\n",
    "df['labels'] = labels\n",
    "attributes.append('labels')\n",
    "\n",
    "# Print the first rows of 'df'\n",
    "print(df.head())"
   ]
  },
  {
   "cell_type": "code",
   "execution_count": 32,
   "metadata": {},
   "outputs": [
    {
     "name": "stdout",
     "output_type": "stream",
     "text": [
      "     G    R    AB     H   2B  3B   HR   BB      SO   SB  ...  decade_1970  \\\n",
      "0  162  744  5424  1331  218  22  189  681  1068.0   37  ...            0   \n",
      "1  162  718  5499  1377  232  35  137  602   917.0   46  ...            0   \n",
      "2  161  597  5506  1378  208  38   95  448   916.0   43  ...            0   \n",
      "3  162  544  5362  1297  186  27  102  472   920.0   49  ...            0   \n",
      "4  162  527  5354  1279  200  36   92  443   973.0  107  ...            0   \n",
      "\n",
      "   decade_1980  decade_1990  decade_2000  decade_2010  R_per_game  \\\n",
      "0            0            0            0            0    4.592593   \n",
      "1            0            0            0            0    4.432099   \n",
      "2            0            0            0            0    3.708075   \n",
      "3            0            0            0            0    3.358025   \n",
      "4            0            0            0            0    3.253086   \n",
      "\n",
      "   RA_per_game   mlb_rpg  labels   W  \n",
      "0     4.839506  4.525175       5  70  \n",
      "1     4.358025  4.460518       0  86  \n",
      "2     4.099379  3.946881       0  70  \n",
      "3     3.401235  4.035670       0  82  \n",
      "4     3.512346  3.988293       0  75  \n",
      "\n",
      "[5 rows x 48 columns]\n"
     ]
    }
   ],
   "source": [
    "# Create new DataFrame using only variables to be included in models\n",
    "numeric_cols = ['G','R','AB','H','2B','3B','HR','BB','SO','SB','RA','ER','ERA','CG','SHO','SV','IPouts','HA','HRA','BBA','SOA','E','DP','FP','era_1','era_2','era_3','era_4','era_5','era_6','era_7','era_8','decade_1910','decade_1920','decade_1930','decade_1940','decade_1950','decade_1960','decade_1970','decade_1980','decade_1990','decade_2000','decade_2010','R_per_game','RA_per_game','mlb_rpg','labels','W']\n",
    "data = df[numeric_cols]\n",
    "print(data.head())\n",
    "\n",
    "# Split data DataFrame into train and test sets\n",
    "train = data.sample(frac = 0.75, random_state = 1)\n",
    "test = data.loc[~data.index.isin(train.index)]\n",
    "\n",
    "x_train = train[attributes]\n",
    "y_train = train['W']\n",
    "x_test = test[attributes]\n",
    "y_test = test['W']"
   ]
  },
  {
   "cell_type": "code",
   "execution_count": 33,
   "metadata": {},
   "outputs": [
    {
     "name": "stdout",
     "output_type": "stream",
     "text": [
      "2.688790228995924\n"
     ]
    }
   ],
   "source": [
    "# Import LinearRegression from sklearn.linear_model\n",
    "from sklearn.linear_model import LinearRegression\n",
    "\n",
    "# Import mean_absolute error from sklearn.metrics\n",
    "from sklearn.metrics import mean_absolute_error\n",
    "\n",
    "# Create Linear Regression model, fit model, and make predictions\n",
    "lr = LinearRegression(normalize = True)\n",
    "lr.fit(x_train, y_train)\n",
    "predictions = lr.predict(x_test)\n",
    "\n",
    "# Determine mean absolute error\n",
    "mae = mean_absolute_error(y_test, predictions)\n",
    "\n",
    "# Print mae\n",
    "print(mae)"
   ]
  },
  {
   "cell_type": "code",
   "execution_count": 34,
   "metadata": {},
   "outputs": [
    {
     "name": "stdout",
     "output_type": "stream",
     "text": [
      "2.672591874646265\n"
     ]
    }
   ],
   "source": [
    "# Import 'RidgeCV' from 'sklearn.linear_model'\n",
    "from sklearn.linear_model import RidgeCV\n",
    "\n",
    "# Create Ridge Linear Regression model, fit model, and make predictions\n",
    "rrm = RidgeCV(alphas = (0.01, 0.1, 1.0, 10.0), normalize = True)\n",
    "rrm.fit(x_train, y_train)\n",
    "predictions_rrm = rrm.predict(x_test)\n",
    "\n",
    "# Determine mean absolute error\n",
    "mae_rrm = mean_absolute_error(y_test, predictions_rrm)\n",
    "print(mae_rrm)"
   ]
  },
  {
   "cell_type": "code",
   "execution_count": 1,
   "metadata": {},
   "outputs": [],
   "source": [
    "### PART 2"
   ]
  },
  {
   "cell_type": "code",
   "execution_count": 2,
   "metadata": {},
   "outputs": [],
   "source": [
    "# Import data to Dataframes\n",
    "import pandas as pd\n",
    "\n",
    "# Read the CSV files\n",
    "master_df = pd.read_csv('Master.csv', usecols=['playerID','nameFirst','nameLast','bats','throws','debut','finalGame'])\n",
    "fielding_df = pd.read_csv('Fielding.csv', usecols=['playerID','yearID','stint','teamID','lgID','POS','G','GS','InnOuts','PO','A','E','DP'])\n",
    "batting_df = pd.read_csv('Batting.csv')\n",
    "awards_df = pd.read_csv('AwardsPlayers.csv', usecols=['playerID','awardID','yearID'])\n",
    "allstar_df = pd.read_csv('AllstarFull.csv', usecols=['playerID','yearID'])\n",
    "hof_df = pd.read_csv('HallOfFame.csv', usecols=['playerID','yearid','votedBy','needed_note','inducted','category'])\n",
    "appearances_df = pd.read_csv('Appearances.csv')"
   ]
  },
  {
   "cell_type": "code",
   "execution_count": 3,
   "metadata": {},
   "outputs": [],
   "source": [
    "### Data Cleaning and Preprocessing"
   ]
  },
  {
   "cell_type": "code",
   "execution_count": 4,
   "metadata": {},
   "outputs": [
    {
     "data": {
      "text/html": [
       "<div>\n",
       "<style scoped>\n",
       "    .dataframe tbody tr th:only-of-type {\n",
       "        vertical-align: middle;\n",
       "    }\n",
       "\n",
       "    .dataframe tbody tr th {\n",
       "        vertical-align: top;\n",
       "    }\n",
       "\n",
       "    .dataframe thead th {\n",
       "        text-align: right;\n",
       "    }\n",
       "</style>\n",
       "<table border=\"1\" class=\"dataframe\">\n",
       "  <thead>\n",
       "    <tr style=\"text-align: right;\">\n",
       "      <th></th>\n",
       "      <th>playerID</th>\n",
       "      <th>yearID</th>\n",
       "      <th>stint</th>\n",
       "      <th>teamID</th>\n",
       "      <th>lgID</th>\n",
       "      <th>G</th>\n",
       "      <th>AB</th>\n",
       "      <th>R</th>\n",
       "      <th>H</th>\n",
       "      <th>2B</th>\n",
       "      <th>...</th>\n",
       "      <th>RBI</th>\n",
       "      <th>SB</th>\n",
       "      <th>CS</th>\n",
       "      <th>BB</th>\n",
       "      <th>SO</th>\n",
       "      <th>IBB</th>\n",
       "      <th>HBP</th>\n",
       "      <th>SH</th>\n",
       "      <th>SF</th>\n",
       "      <th>GIDP</th>\n",
       "    </tr>\n",
       "  </thead>\n",
       "  <tbody>\n",
       "    <tr>\n",
       "      <th>0</th>\n",
       "      <td>abercda01</td>\n",
       "      <td>1871</td>\n",
       "      <td>1</td>\n",
       "      <td>TRO</td>\n",
       "      <td>NaN</td>\n",
       "      <td>1</td>\n",
       "      <td>4</td>\n",
       "      <td>0</td>\n",
       "      <td>0</td>\n",
       "      <td>0</td>\n",
       "      <td>...</td>\n",
       "      <td>0.0</td>\n",
       "      <td>0.0</td>\n",
       "      <td>0.0</td>\n",
       "      <td>0</td>\n",
       "      <td>0.0</td>\n",
       "      <td>NaN</td>\n",
       "      <td>NaN</td>\n",
       "      <td>NaN</td>\n",
       "      <td>NaN</td>\n",
       "      <td>NaN</td>\n",
       "    </tr>\n",
       "    <tr>\n",
       "      <th>1</th>\n",
       "      <td>addybo01</td>\n",
       "      <td>1871</td>\n",
       "      <td>1</td>\n",
       "      <td>RC1</td>\n",
       "      <td>NaN</td>\n",
       "      <td>25</td>\n",
       "      <td>118</td>\n",
       "      <td>30</td>\n",
       "      <td>32</td>\n",
       "      <td>6</td>\n",
       "      <td>...</td>\n",
       "      <td>13.0</td>\n",
       "      <td>8.0</td>\n",
       "      <td>1.0</td>\n",
       "      <td>4</td>\n",
       "      <td>0.0</td>\n",
       "      <td>NaN</td>\n",
       "      <td>NaN</td>\n",
       "      <td>NaN</td>\n",
       "      <td>NaN</td>\n",
       "      <td>NaN</td>\n",
       "    </tr>\n",
       "    <tr>\n",
       "      <th>2</th>\n",
       "      <td>allisar01</td>\n",
       "      <td>1871</td>\n",
       "      <td>1</td>\n",
       "      <td>CL1</td>\n",
       "      <td>NaN</td>\n",
       "      <td>29</td>\n",
       "      <td>137</td>\n",
       "      <td>28</td>\n",
       "      <td>40</td>\n",
       "      <td>4</td>\n",
       "      <td>...</td>\n",
       "      <td>19.0</td>\n",
       "      <td>3.0</td>\n",
       "      <td>1.0</td>\n",
       "      <td>2</td>\n",
       "      <td>5.0</td>\n",
       "      <td>NaN</td>\n",
       "      <td>NaN</td>\n",
       "      <td>NaN</td>\n",
       "      <td>NaN</td>\n",
       "      <td>NaN</td>\n",
       "    </tr>\n",
       "    <tr>\n",
       "      <th>3</th>\n",
       "      <td>allisdo01</td>\n",
       "      <td>1871</td>\n",
       "      <td>1</td>\n",
       "      <td>WS3</td>\n",
       "      <td>NaN</td>\n",
       "      <td>27</td>\n",
       "      <td>133</td>\n",
       "      <td>28</td>\n",
       "      <td>44</td>\n",
       "      <td>10</td>\n",
       "      <td>...</td>\n",
       "      <td>27.0</td>\n",
       "      <td>1.0</td>\n",
       "      <td>1.0</td>\n",
       "      <td>0</td>\n",
       "      <td>2.0</td>\n",
       "      <td>NaN</td>\n",
       "      <td>NaN</td>\n",
       "      <td>NaN</td>\n",
       "      <td>NaN</td>\n",
       "      <td>NaN</td>\n",
       "    </tr>\n",
       "    <tr>\n",
       "      <th>4</th>\n",
       "      <td>ansonca01</td>\n",
       "      <td>1871</td>\n",
       "      <td>1</td>\n",
       "      <td>RC1</td>\n",
       "      <td>NaN</td>\n",
       "      <td>25</td>\n",
       "      <td>120</td>\n",
       "      <td>29</td>\n",
       "      <td>39</td>\n",
       "      <td>11</td>\n",
       "      <td>...</td>\n",
       "      <td>16.0</td>\n",
       "      <td>6.0</td>\n",
       "      <td>2.0</td>\n",
       "      <td>2</td>\n",
       "      <td>1.0</td>\n",
       "      <td>NaN</td>\n",
       "      <td>NaN</td>\n",
       "      <td>NaN</td>\n",
       "      <td>NaN</td>\n",
       "      <td>NaN</td>\n",
       "    </tr>\n",
       "  </tbody>\n",
       "</table>\n",
       "<p>5 rows × 22 columns</p>\n",
       "</div>"
      ],
      "text/plain": [
       "    playerID  yearID  stint teamID lgID   G   AB   R   H  2B  ...   RBI   SB  \\\n",
       "0  abercda01    1871      1    TRO  NaN   1    4   0   0   0  ...   0.0  0.0   \n",
       "1   addybo01    1871      1    RC1  NaN  25  118  30  32   6  ...  13.0  8.0   \n",
       "2  allisar01    1871      1    CL1  NaN  29  137  28  40   4  ...  19.0  3.0   \n",
       "3  allisdo01    1871      1    WS3  NaN  27  133  28  44  10  ...  27.0  1.0   \n",
       "4  ansonca01    1871      1    RC1  NaN  25  120  29  39  11  ...  16.0  6.0   \n",
       "\n",
       "    CS  BB   SO  IBB  HBP  SH  SF  GIDP  \n",
       "0  0.0   0  0.0  NaN  NaN NaN NaN   NaN  \n",
       "1  1.0   4  0.0  NaN  NaN NaN NaN   NaN  \n",
       "2  1.0   2  5.0  NaN  NaN NaN NaN   NaN  \n",
       "3  1.0   0  2.0  NaN  NaN NaN NaN   NaN  \n",
       "4  2.0   2  1.0  NaN  NaN NaN NaN   NaN  \n",
       "\n",
       "[5 rows x 22 columns]"
      ]
     },
     "execution_count": 4,
     "metadata": {},
     "output_type": "execute_result"
    }
   ],
   "source": [
    "# Print first few rows of 'batting_df'\n",
    "batting_df.head()"
   ]
  },
  {
   "cell_type": "code",
   "execution_count": 5,
   "metadata": {},
   "outputs": [],
   "source": [
    "# Initialize dictionaires for player stats and years played\n",
    "player_stats = {}\n",
    "years_played = {}\n",
    "\n",
    "# Create dictionaries for player stats and years played from 'batting_df'\n",
    "for i, row in batting_df.iterrows():\n",
    "    playerID = row['playerID']\n",
    "    if playerID in player_stats:\n",
    "        player_stats[playerID]['G'] = player_stats[playerID]['G'] + row['G']\n",
    "        player_stats[playerID]['AB'] = player_stats[playerID]['AB'] + row['AB']\n",
    "        player_stats[playerID]['R'] = player_stats[playerID]['R'] + row['R']\n",
    "        player_stats[playerID]['H'] = player_stats[playerID]['H'] + row['H']\n",
    "        player_stats[playerID]['2B'] = player_stats[playerID]['2B'] + row['2B']\n",
    "        player_stats[playerID]['3B'] = player_stats[playerID]['3B'] + row['3B']\n",
    "        player_stats[playerID]['HR'] = player_stats[playerID]['HR'] + row['HR']\n",
    "        player_stats[playerID]['RBI'] = player_stats[playerID]['RBI'] + row['RBI']\n",
    "        player_stats[playerID]['SB'] = player_stats[playerID]['SB'] + row['SB']\n",
    "        player_stats[playerID]['BB'] = player_stats[playerID]['BB'] + row['BB']\n",
    "        player_stats[playerID]['SO'] = player_stats[playerID]['SO'] + row['SO']\n",
    "        player_stats[playerID]['IBB'] = player_stats[playerID]['IBB'] + row['IBB']\n",
    "        player_stats[playerID]['HBP'] = player_stats[playerID]['HBP'] + row['HBP']\n",
    "        player_stats[playerID]['SH'] = player_stats[playerID]['SH'] + row['SH']\n",
    "        player_stats[playerID]['SF'] = player_stats[playerID]['SF'] + row['SF']\n",
    "        years_played[playerID].append(row['yearID'])\n",
    "    else:\n",
    "        player_stats[playerID] = {}\n",
    "        player_stats[playerID]['G'] = row['G']\n",
    "        player_stats[playerID]['AB'] = row['AB']\n",
    "        player_stats[playerID]['R'] = row['R']\n",
    "        player_stats[playerID]['H'] = row['H']\n",
    "        player_stats[playerID]['2B'] = row['2B']\n",
    "        player_stats[playerID]['3B'] = row['3B']\n",
    "        player_stats[playerID]['HR'] = row['HR']\n",
    "        player_stats[playerID]['RBI'] = row['RBI']\n",
    "        player_stats[playerID]['SB'] = row['SB']\n",
    "        player_stats[playerID]['BB'] = row['BB']\n",
    "        player_stats[playerID]['SO'] = row['SO']\n",
    "        player_stats[playerID]['IBB'] = row['IBB']\n",
    "        player_stats[playerID]['HBP'] = row['HBP']\n",
    "        player_stats[playerID]['SH'] = row['SH']\n",
    "        player_stats[playerID]['SF'] = row['SF']\n",
    "        years_played[playerID] = []\n",
    "        years_played[playerID].append(row['yearID'])"
   ]
  },
  {
   "cell_type": "code",
   "execution_count": 6,
   "metadata": {},
   "outputs": [],
   "source": [
    "# Iterate through 'years_played' and add the number of years played to 'player_stats'\n",
    "for k, v in years_played.items():\n",
    "    player_stats[k]['Years_Played'] = len(list(set(v)))"
   ]
  },
  {
   "cell_type": "code",
   "execution_count": 7,
   "metadata": {},
   "outputs": [],
   "source": [
    "# Initialize 'fielder_list'\n",
    "fielder_list = []\n",
    "\n",
    "# Add fielding stats to `player_stats` from `fielding_df`\n",
    "for i, row in fielding_df.iterrows():\n",
    "    playerID = row['playerID']\n",
    "    Gf = row['G']\n",
    "    GSf = row['GS']\n",
    "    POf = row['PO']\n",
    "    Af = row['A']\n",
    "    Ef = row['E']\n",
    "    DPf = row['DP']\n",
    "    if playerID in player_stats and playerID in fielder_list:\n",
    "        player_stats[playerID]['Gf'] = player_stats[playerID]['Gf'] + Gf\n",
    "        player_stats[playerID]['GSf'] = player_stats[playerID]['GSf'] + GSf\n",
    "        player_stats[playerID]['POf'] = player_stats[playerID]['POf'] + POf\n",
    "        player_stats[playerID]['Af'] = player_stats[playerID]['Af'] + Af\n",
    "        player_stats[playerID]['Ef'] = player_stats[playerID]['Ef'] + Ef\n",
    "        player_stats[playerID]['DPf'] = player_stats[playerID]['DPf'] + DPf\n",
    "    else:\n",
    "        fielder_list.append(playerID)\n",
    "        player_stats[playerID]['Gf'] = Gf\n",
    "        player_stats[playerID]['GSf'] = GSf\n",
    "        player_stats[playerID]['POf'] = POf\n",
    "        player_stats[playerID]['Af'] = Af\n",
    "        player_stats[playerID]['Ef'] = Ef\n",
    "        player_stats[playerID]['DPf'] = DPf"
   ]
  },
  {
   "cell_type": "code",
   "execution_count": 8,
   "metadata": {},
   "outputs": [
    {
     "name": "stdout",
     "output_type": "stream",
     "text": [
      "['Pitching Triple Crown' 'Triple Crown' 'Baseball Magazine All-Star'\n",
      " 'Most Valuable Player' 'TSN All-Star' 'TSN Guide MVP'\n",
      " 'TSN Major League Player of the Year' 'TSN Pitcher of the Year'\n",
      " 'TSN Player of the Year' 'Rookie of the Year' 'Babe Ruth Award'\n",
      " 'Lou Gehrig Memorial Award' 'World Series MVP' 'Cy Young Award'\n",
      " 'Gold Glove' 'TSN Fireman of the Year' 'All-Star Game MVP' 'Hutch Award'\n",
      " 'Roberto Clemente Award' 'Rolaids Relief Man Award' 'NLCS MVP' 'ALCS MVP'\n",
      " 'Silver Slugger' 'Branch Rickey Award' 'Hank Aaron Award'\n",
      " 'TSN Reliever of the Year' 'Comeback Player of the Year'\n",
      " 'Outstanding DH Award' 'Reliever of the Year Award']\n"
     ]
    }
   ],
   "source": [
    "# Print out unique awards from 'awards_df'\n",
    "print(awards_df['awardID'].unique())"
   ]
  },
  {
   "cell_type": "code",
   "execution_count": 9,
   "metadata": {},
   "outputs": [],
   "source": [
    "# Create DataFrames for each award\n",
    "mvp = awards_df[awards_df['awardID'] == 'Most Valuable Player']\n",
    "roy = awards_df[awards_df['awardID'] == 'Rookie of the Year']\n",
    "gg = awards_df[awards_df['awardID'] == 'Gold Glove']\n",
    "ss = awards_df[awards_df['awardID'] == 'Silver Slugger']\n",
    "ws_mvp = awards_df[awards_df['awardID'] == 'World Series MVP']\n",
    "\n",
    "# Include each DataFrame in 'awards_list'\n",
    "awards_list = [mvp, roy, gg, ss, ws_mvp]\n",
    "\n",
    "# Initialize lists for each of the above DataFrames\n",
    "mvp_list = []\n",
    "roy_list = []\n",
    "gg_list = []\n",
    "ss_list = []\n",
    "ws_mvp_list = []\n",
    "\n",
    "# Include each of the above lists in lists\n",
    "lists = [mvp_list, roy_list, gg_list, ss_list, ws_mvp_list]\n",
    "\n",
    "# Add a count for each award for each player in 'player_stats'\n",
    "for index, v in enumerate(awards_list):\n",
    "    for i, row in v.iterrows():\n",
    "        playerID = row['playerID']\n",
    "        award = row['awardID']\n",
    "        if playerID in player_stats and playerID in lists[index]:\n",
    "            player_stats[playerID][award] += 1\n",
    "        else:\n",
    "            lists[index].append(playerID)\n",
    "            player_stats[playerID][award] = 1"
   ]
  },
  {
   "cell_type": "code",
   "execution_count": 10,
   "metadata": {},
   "outputs": [],
   "source": [
    "# Initialize 'allstar_list'\n",
    "allstar_list = []\n",
    "\n",
    "# Add a count of each Allstar game appearance for each player in player_stats\n",
    "for i, row in allstar_df.iterrows():\n",
    "    playerID = row['playerID']\n",
    "    if playerID in player_stats and playerID in allstar_list:\n",
    "        player_stats[playerID]['AS_games'] += 1\n",
    "    else:\n",
    "        allstar_list.append(playerID)\n",
    "        player_stats[playerID]['AS_games'] = 1"
   ]
  },
  {
   "cell_type": "code",
   "execution_count": 11,
   "metadata": {},
   "outputs": [],
   "source": [
    "# filter 'hot_df' to include only instances where player was inducted into the Hall of Fame\n",
    "hof_df = hof_df[(hof_df['inducted'] == 'Y') & (hof_df['category'] == 'Player')]\n",
    "\n",
    "# Indicate which players in 'player_stats' were inducted into the Hall of Fame\n",
    "for i, row in hof_df.iterrows():\n",
    "    playerID = row['playerID']\n",
    "    if playerID in player_stats:\n",
    "        player_stats[playerID]['HoF'] = 1\n",
    "        player_stats[playerID]['votedBy'] = row['votedBy']"
   ]
  },
  {
   "cell_type": "code",
   "execution_count": 12,
   "metadata": {},
   "outputs": [],
   "source": [
    "# Convert 'player_stats' into a DataFrame\n",
    "stats_df = pd.DataFrame.from_dict(player_stats, orient = 'index')"
   ]
  },
  {
   "cell_type": "code",
   "execution_count": 13,
   "metadata": {},
   "outputs": [
    {
     "data": {
      "text/html": [
       "<div>\n",
       "<style scoped>\n",
       "    .dataframe tbody tr th:only-of-type {\n",
       "        vertical-align: middle;\n",
       "    }\n",
       "\n",
       "    .dataframe tbody tr th {\n",
       "        vertical-align: top;\n",
       "    }\n",
       "\n",
       "    .dataframe thead th {\n",
       "        text-align: right;\n",
       "    }\n",
       "</style>\n",
       "<table border=\"1\" class=\"dataframe\">\n",
       "  <thead>\n",
       "    <tr style=\"text-align: right;\">\n",
       "      <th></th>\n",
       "      <th>playerID</th>\n",
       "      <th>nameFirst</th>\n",
       "      <th>nameLast</th>\n",
       "      <th>bats</th>\n",
       "      <th>throws</th>\n",
       "      <th>debut</th>\n",
       "      <th>finalGame</th>\n",
       "      <th>G</th>\n",
       "      <th>AB</th>\n",
       "      <th>R</th>\n",
       "      <th>...</th>\n",
       "      <th>DPf</th>\n",
       "      <th>HoF</th>\n",
       "      <th>votedBy</th>\n",
       "      <th>Most Valuable Player</th>\n",
       "      <th>AS_games</th>\n",
       "      <th>Gold Glove</th>\n",
       "      <th>Rookie of the Year</th>\n",
       "      <th>World Series MVP</th>\n",
       "      <th>Silver Slugger</th>\n",
       "      <th>playerIDmstr</th>\n",
       "    </tr>\n",
       "  </thead>\n",
       "  <tbody>\n",
       "    <tr>\n",
       "      <th>0</th>\n",
       "      <td>aardsda01</td>\n",
       "      <td>David</td>\n",
       "      <td>Aardsma</td>\n",
       "      <td>R</td>\n",
       "      <td>R</td>\n",
       "      <td>2004-04-06</td>\n",
       "      <td>2015-08-23</td>\n",
       "      <td>331</td>\n",
       "      <td>4</td>\n",
       "      <td>0</td>\n",
       "      <td>...</td>\n",
       "      <td>2.0</td>\n",
       "      <td>NaN</td>\n",
       "      <td>NaN</td>\n",
       "      <td>NaN</td>\n",
       "      <td>NaN</td>\n",
       "      <td>NaN</td>\n",
       "      <td>NaN</td>\n",
       "      <td>NaN</td>\n",
       "      <td>NaN</td>\n",
       "      <td>aardsda01</td>\n",
       "    </tr>\n",
       "    <tr>\n",
       "      <th>1</th>\n",
       "      <td>aaronha01</td>\n",
       "      <td>Hank</td>\n",
       "      <td>Aaron</td>\n",
       "      <td>R</td>\n",
       "      <td>R</td>\n",
       "      <td>1954-04-13</td>\n",
       "      <td>1976-10-03</td>\n",
       "      <td>3298</td>\n",
       "      <td>12364</td>\n",
       "      <td>2174</td>\n",
       "      <td>...</td>\n",
       "      <td>218.0</td>\n",
       "      <td>1.0</td>\n",
       "      <td>BBWAA</td>\n",
       "      <td>1.0</td>\n",
       "      <td>25.0</td>\n",
       "      <td>3.0</td>\n",
       "      <td>NaN</td>\n",
       "      <td>NaN</td>\n",
       "      <td>NaN</td>\n",
       "      <td>aaronha01</td>\n",
       "    </tr>\n",
       "    <tr>\n",
       "      <th>2</th>\n",
       "      <td>aaronto01</td>\n",
       "      <td>Tommie</td>\n",
       "      <td>Aaron</td>\n",
       "      <td>R</td>\n",
       "      <td>R</td>\n",
       "      <td>1962-04-10</td>\n",
       "      <td>1971-09-26</td>\n",
       "      <td>437</td>\n",
       "      <td>944</td>\n",
       "      <td>102</td>\n",
       "      <td>...</td>\n",
       "      <td>124.0</td>\n",
       "      <td>NaN</td>\n",
       "      <td>NaN</td>\n",
       "      <td>NaN</td>\n",
       "      <td>NaN</td>\n",
       "      <td>NaN</td>\n",
       "      <td>NaN</td>\n",
       "      <td>NaN</td>\n",
       "      <td>NaN</td>\n",
       "      <td>aaronto01</td>\n",
       "    </tr>\n",
       "    <tr>\n",
       "      <th>3</th>\n",
       "      <td>aasedo01</td>\n",
       "      <td>Don</td>\n",
       "      <td>Aase</td>\n",
       "      <td>R</td>\n",
       "      <td>R</td>\n",
       "      <td>1977-07-26</td>\n",
       "      <td>1990-10-03</td>\n",
       "      <td>448</td>\n",
       "      <td>5</td>\n",
       "      <td>0</td>\n",
       "      <td>...</td>\n",
       "      <td>10.0</td>\n",
       "      <td>NaN</td>\n",
       "      <td>NaN</td>\n",
       "      <td>NaN</td>\n",
       "      <td>1.0</td>\n",
       "      <td>NaN</td>\n",
       "      <td>NaN</td>\n",
       "      <td>NaN</td>\n",
       "      <td>NaN</td>\n",
       "      <td>aasedo01</td>\n",
       "    </tr>\n",
       "    <tr>\n",
       "      <th>4</th>\n",
       "      <td>abadan01</td>\n",
       "      <td>Andy</td>\n",
       "      <td>Abad</td>\n",
       "      <td>L</td>\n",
       "      <td>L</td>\n",
       "      <td>2001-09-10</td>\n",
       "      <td>2006-04-13</td>\n",
       "      <td>15</td>\n",
       "      <td>21</td>\n",
       "      <td>1</td>\n",
       "      <td>...</td>\n",
       "      <td>3.0</td>\n",
       "      <td>NaN</td>\n",
       "      <td>NaN</td>\n",
       "      <td>NaN</td>\n",
       "      <td>NaN</td>\n",
       "      <td>NaN</td>\n",
       "      <td>NaN</td>\n",
       "      <td>NaN</td>\n",
       "      <td>NaN</td>\n",
       "      <td>abadan01</td>\n",
       "    </tr>\n",
       "  </tbody>\n",
       "</table>\n",
       "<p>5 rows × 38 columns</p>\n",
       "</div>"
      ],
      "text/plain": [
       "    playerID nameFirst nameLast bats throws       debut   finalGame     G  \\\n",
       "0  aardsda01     David  Aardsma    R      R  2004-04-06  2015-08-23   331   \n",
       "1  aaronha01      Hank    Aaron    R      R  1954-04-13  1976-10-03  3298   \n",
       "2  aaronto01    Tommie    Aaron    R      R  1962-04-10  1971-09-26   437   \n",
       "3   aasedo01       Don     Aase    R      R  1977-07-26  1990-10-03   448   \n",
       "4   abadan01      Andy     Abad    L      L  2001-09-10  2006-04-13    15   \n",
       "\n",
       "      AB     R  ...    DPf  HoF  votedBy  Most Valuable Player  AS_games  \\\n",
       "0      4     0  ...    2.0  NaN      NaN                   NaN       NaN   \n",
       "1  12364  2174  ...  218.0  1.0    BBWAA                   1.0      25.0   \n",
       "2    944   102  ...  124.0  NaN      NaN                   NaN       NaN   \n",
       "3      5     0  ...   10.0  NaN      NaN                   NaN       1.0   \n",
       "4     21     1  ...    3.0  NaN      NaN                   NaN       NaN   \n",
       "\n",
       "   Gold Glove  Rookie of the Year  World Series MVP  Silver Slugger  \\\n",
       "0         NaN                 NaN               NaN             NaN   \n",
       "1         3.0                 NaN               NaN             NaN   \n",
       "2         NaN                 NaN               NaN             NaN   \n",
       "3         NaN                 NaN               NaN             NaN   \n",
       "4         NaN                 NaN               NaN             NaN   \n",
       "\n",
       "   playerIDmstr  \n",
       "0     aardsda01  \n",
       "1     aaronha01  \n",
       "2     aaronto01  \n",
       "3      aasedo01  \n",
       "4      abadan01  \n",
       "\n",
       "[5 rows x 38 columns]"
      ]
     },
     "execution_count": 13,
     "metadata": {},
     "output_type": "execute_result"
    }
   ],
   "source": [
    "# Add a column for playerID from the 'stats_df' index\n",
    "stats_df['playerID'] = stats_df.index\n",
    "\n",
    "# Join 'stats_df' and 'master_df'\n",
    "master_df = master_df.join(stats_df, on = 'playerID', how = 'inner', rsuffix = 'mstr')\n",
    "\n",
    "# Inspect first rows of 'master_df'\n",
    "master_df.head()"
   ]
  },
  {
   "cell_type": "code",
   "execution_count": 14,
   "metadata": {},
   "outputs": [
    {
     "name": "stdout",
     "output_type": "stream",
     "text": [
      "   yearID teamID lgID   playerID  G_all  GS  G_batting  G_defense  G_p  G_c  \\\n",
      "0    1871    TRO  NaN  abercda01      1 NaN          1          1    0    0   \n",
      "1    1871    RC1  NaN   addybo01     25 NaN         25         25    0    0   \n",
      "2    1871    CL1  NaN  allisar01     29 NaN         29         29    0    0   \n",
      "3    1871    WS3  NaN  allisdo01     27 NaN         27         27    0   27   \n",
      "4    1871    RC1  NaN  ansonca01     25 NaN         25         25    0    5   \n",
      "\n",
      "   ...  G_2b  G_3b  G_ss  G_lf  G_cf  G_rf  G_of  G_dh  G_ph  G_pr  \n",
      "0  ...     0     0     1     0     0     0     0   NaN   NaN   NaN  \n",
      "1  ...    22     0     3     0     0     0     0   NaN   NaN   NaN  \n",
      "2  ...     2     0     0     0    29     0    29   NaN   NaN   NaN  \n",
      "3  ...     0     0     0     0     0     0     0   NaN   NaN   NaN  \n",
      "4  ...     2    20     0     1     0     0     1   NaN   NaN   NaN  \n",
      "\n",
      "[5 rows x 21 columns]\n"
     ]
    }
   ],
   "source": [
    "print(appearances_df.head())"
   ]
  },
  {
   "cell_type": "code",
   "execution_count": 15,
   "metadata": {},
   "outputs": [],
   "source": [
    "# Initialize a dictionary\n",
    "pos_dict = {}\n",
    "\n",
    "\n",
    "# Iterate through 'appearances_df'\n",
    "# Add a count for the number of appearances for each player at each position\n",
    "# Also add a count for the number of games played for each player in each era.\n",
    "for i, row in appearances_df.iterrows():\n",
    "    ID = row['playerID']\n",
    "    year = row['yearID']\n",
    "    if ID in pos_dict:\n",
    "        pos_dict[ID]['G_all'] = pos_dict[ID]['G_all'] + row['G_all']\n",
    "        pos_dict[ID]['G_p'] = pos_dict[ID]['G_p'] + row['G_p']\n",
    "        pos_dict[ID]['G_c'] = pos_dict[ID]['G_c'] + row['G_c']\n",
    "        pos_dict[ID]['G_1b'] = pos_dict[ID]['G_1b'] + row['G_1b']\n",
    "        pos_dict[ID]['G_2b'] = pos_dict[ID]['G_2b'] + row['G_2b']\n",
    "        pos_dict[ID]['G_3b'] = pos_dict[ID]['G_3b'] + row['G_3b']\n",
    "        pos_dict[ID]['G_ss'] = pos_dict[ID]['G_ss'] + row['G_ss']\n",
    "        pos_dict[ID]['G_lf'] = pos_dict[ID]['G_lf'] + row['G_lf']\n",
    "        pos_dict[ID]['G_cf'] = pos_dict[ID]['G_cf'] + row['G_cf']\n",
    "        pos_dict[ID]['G_rf'] = pos_dict[ID]['G_rf'] + row['G_rf']\n",
    "        pos_dict[ID]['G_of'] = pos_dict[ID]['G_of'] + row['G_of']\n",
    "        pos_dict[ID]['G_dh'] = pos_dict[ID]['G_dh'] + row['G_dh']\n",
    "        if year < 1920:\n",
    "            pos_dict[ID]['pre1920'] = pos_dict[ID]['pre1920'] + row['G_all']\n",
    "        elif year >= 1920 and year <= 1941:\n",
    "            pos_dict[ID]['1920-41'] = pos_dict[ID]['1920-41'] + row['G_all']\n",
    "        elif year >= 1942 and year <= 1945:\n",
    "            pos_dict[ID]['1942-45'] = pos_dict[ID]['1942-45'] + row['G_all']\n",
    "        elif year >= 1946 and year <= 1962:\n",
    "            pos_dict[ID]['1946-62'] = pos_dict[ID]['1946-62'] + row['G_all']\n",
    "        elif year >= 1963 and year <= 1976:\n",
    "            pos_dict[ID]['1963-76'] = pos_dict[ID]['1963-76'] + row['G_all']\n",
    "        elif year >= 1977 and year <= 1992:\n",
    "            pos_dict[ID]['1977-92'] = pos_dict[ID]['1977-92'] + row['G_all']\n",
    "        elif year >= 1993 and year <= 2009:\n",
    "            pos_dict[ID]['1993-2009'] = pos_dict[ID]['1993-2009'] + row['G_all']\n",
    "        elif year > 2009:\n",
    "            pos_dict[ID]['post2009'] = pos_dict[ID]['post2009'] + row['G_all']\n",
    "    else:\n",
    "        pos_dict[ID] = {}\n",
    "        pos_dict[ID]['G_all'] = row['G_all']\n",
    "        pos_dict[ID]['G_p'] = row['G_p']\n",
    "        pos_dict[ID]['G_c'] = row['G_c']\n",
    "        pos_dict[ID]['G_1b'] = row['G_1b']\n",
    "        pos_dict[ID]['G_2b'] = row['G_2b']\n",
    "        pos_dict[ID]['G_3b'] = row['G_3b']\n",
    "        pos_dict[ID]['G_ss'] = row['G_ss']\n",
    "        pos_dict[ID]['G_lf'] = row['G_lf']\n",
    "        pos_dict[ID]['G_cf'] = row['G_cf']\n",
    "        pos_dict[ID]['G_rf'] = row['G_rf']\n",
    "        pos_dict[ID]['G_of'] = row['G_of']\n",
    "        pos_dict[ID]['G_dh'] = row['G_dh']\n",
    "        pos_dict[ID]['pre1920'] = 0\n",
    "        pos_dict[ID]['1920-41'] = 0\n",
    "        pos_dict[ID]['1942-45'] = 0\n",
    "        pos_dict[ID]['1946-62'] = 0\n",
    "        pos_dict[ID]['1963-76'] = 0\n",
    "        pos_dict[ID]['1977-92'] = 0\n",
    "        pos_dict[ID]['1993-2009'] = 0\n",
    "        pos_dict[ID]['post2009'] = 0\n",
    "        if year < 1920:\n",
    "            pos_dict[ID]['pre1920'] = row['G_all']\n",
    "        elif year >= 1920 and year <= 1941:\n",
    "            pos_dict[ID]['1920-41'] = row['G_all']\n",
    "        elif year >= 1942 and year <= 1945:\n",
    "            pos_dict[ID]['1942-45'] = row['G_all']\n",
    "        elif year >= 1946 and year <= 1962:\n",
    "            pos_dict[ID]['1946-62'] = row['G_all']\n",
    "        elif year >= 1963 and year <= 1976:\n",
    "            pos_dict[ID]['1963-76'] = row['G_all']\n",
    "        elif year >= 1977 and year <= 1992:\n",
    "            pos_dict[ID]['1977-92'] = row['G_all']\n",
    "        elif year >= 1993 and year <= 2009:\n",
    "            pos_dict[ID]['1993-2009'] = row['G_all']\n",
    "        elif year > 2009:\n",
    "            pos_dict[ID]['post2009'] = row['G_all']"
   ]
  },
  {
   "cell_type": "code",
   "execution_count": 16,
   "metadata": {},
   "outputs": [],
   "source": [
    "# Convert the pos_dict to a DataFrame\n",
    "pos_df = pd.DataFrame.from_dict(pos_dict, orient = 'index')"
   ]
  },
  {
   "cell_type": "code",
   "execution_count": 17,
   "metadata": {},
   "outputs": [
    {
     "name": "stdout",
     "output_type": "stream",
     "text": [
      "Index(['G_all', 'G_p', 'G_c', 'G_1b', 'G_2b', 'G_3b', 'G_ss', 'G_lf', 'G_cf',\n",
      "       'G_rf', 'G_of', 'G_dh', 'pre1920', '1920-41', '1942-45', '1946-62',\n",
      "       '1963-76', '1977-92', '1993-2009', 'post2009'],\n",
      "      dtype='object')\n",
      "           G_all  G_p  G_c  G_1b  G_2b  G_3b  G_ss  G_lf  G_cf  G_rf  G_of  \\\n",
      "abercda01      1    0    0     0     0     0     1     0     0     0     0   \n",
      "addybo01     274    0    0     0    79     5     4     3     2   183   188   \n",
      "allisar01    168    0    3    35     4     0     0     8    56    68   132   \n",
      "allisdo01    318    1  279     2     1     0     1     0     6    55    61   \n",
      "ansonca01   2524    3  105  2152    18   220     9    46     8    32    86   \n",
      "\n",
      "           G_dh  pre1920  1920-41  1942-45  1946-62  1963-76  1977-92  \\\n",
      "abercda01   NaN        1        0        0        0        0        0   \n",
      "addybo01    NaN      274        0        0        0        0        0   \n",
      "allisar01   NaN      168        0        0        0        0        0   \n",
      "allisdo01   NaN      318        0        0        0        0        0   \n",
      "ansonca01   NaN     2524        0        0        0        0        0   \n",
      "\n",
      "           1993-2009  post2009  \n",
      "abercda01          0         0  \n",
      "addybo01           0         0  \n",
      "allisar01          0         0  \n",
      "allisdo01          0         0  \n",
      "ansonca01          0         0  \n"
     ]
    }
   ],
   "source": [
    "# Print the columns\n",
    "print(pos_df.columns)\n",
    "\n",
    "# Print the first rows\n",
    "print(pos_df.head())"
   ]
  },
  {
   "cell_type": "code",
   "execution_count": 18,
   "metadata": {},
   "outputs": [
    {
     "name": "stdout",
     "output_type": "stream",
     "text": [
      "           G_all  G_p  G_c  G_1b  G_2b  G_3b  G_ss  G_lf  G_cf  G_rf  ...  \\\n",
      "abercda01      1    0    0     0     0     0     1     0     0     0  ...   \n",
      "addybo01     274    0    0     0    79     5     4     3     2   183  ...   \n",
      "allisar01    168    0    3    35     4     0     0     8    56    68  ...   \n",
      "allisdo01    318    1  279     2     1     0     1     0     6    55  ...   \n",
      "ansonca01   2524    3  105  2152    18   220     9    46     8    32  ...   \n",
      "\n",
      "           G_of_percent  G_dh_percent  pre1920_percent  1920-41_percent  \\\n",
      "abercda01      0.000000           NaN              1.0              0.0   \n",
      "addybo01       0.686131           NaN              1.0              0.0   \n",
      "allisar01      0.785714           NaN              1.0              0.0   \n",
      "allisdo01      0.191824           NaN              1.0              0.0   \n",
      "ansonca01      0.034073           NaN              1.0              0.0   \n",
      "\n",
      "           1942-45_percent  1946-62_percent  1963-76_percent  1977-92_percent  \\\n",
      "abercda01              0.0              0.0              0.0              0.0   \n",
      "addybo01               0.0              0.0              0.0              0.0   \n",
      "allisar01              0.0              0.0              0.0              0.0   \n",
      "allisdo01              0.0              0.0              0.0              0.0   \n",
      "ansonca01              0.0              0.0              0.0              0.0   \n",
      "\n",
      "           1993-2009_percent  post2009_percent  \n",
      "abercda01                0.0               0.0  \n",
      "addybo01                 0.0               0.0  \n",
      "allisar01                0.0               0.0  \n",
      "allisdo01                0.0               0.0  \n",
      "ansonca01                0.0               0.0  \n",
      "\n",
      "[5 rows x 39 columns]\n"
     ]
    }
   ],
   "source": [
    "# Create a list from the columns of 'pos_df'\n",
    "pos_col_list = pos_df.columns.tolist()\n",
    "\n",
    "# Remove the string 'G_all'\n",
    "pos_col_list.remove('G_all')\n",
    "\n",
    "# Loop through the list and divide each column by the players\n",
    "# total games played\n",
    "for col in pos_col_list:\n",
    "    column = col + '_percent'\n",
    "    pos_df[column] = pos_df[col] / pos_df['G_all']\n",
    "\n",
    "# Print out the first rows of 'pos_df'\n",
    "print(pos_df.head())"
   ]
  },
  {
   "cell_type": "code",
   "execution_count": 19,
   "metadata": {},
   "outputs": [
    {
     "data": {
      "text/plain": [
       "<bound method DataFrame.info of            G_all  G_p  G_c  G_1b  G_2b  G_3b  G_ss  G_lf  G_cf  G_rf  ...  \\\n",
       "abercda01      1    0    0     0     0     0     1     0     0     0  ...   \n",
       "addybo01     274    0    0     0    79     5     4     3     2   183  ...   \n",
       "allisar01    168    0    3    35     4     0     0     8    56    68  ...   \n",
       "ansonca01   2524    3  105  2152    18   220     9    46     8    32  ...   \n",
       "armstbo01     12    0    0     0     0     0     0     0    11     1  ...   \n",
       "...          ...  ...  ...   ...   ...   ...   ...   ...   ...   ...  ...   \n",
       "valaipa01     13    0    0     0     5     6     2     0     0     0  ...   \n",
       "vogelda01      8    0    0     4     0     0     0     0     0     0  ...   \n",
       "walshco02     38    0    0     0     1    11     0     2     0     0  ...   \n",
       "wendljo01     28    0    0     0    28     0     0     0     0     0  ...   \n",
       "whitety01     86    1    0    58     2     3     0     0     0     0  ...   \n",
       "\n",
       "           G_of_percent  G_dh_percent  pre1920_percent  1920-41_percent  \\\n",
       "abercda01      0.000000           NaN              1.0              0.0   \n",
       "addybo01       0.686131           NaN              1.0              0.0   \n",
       "allisar01      0.785714           NaN              1.0              0.0   \n",
       "ansonca01      0.034073           NaN              1.0              0.0   \n",
       "armstbo01      1.000000           NaN              1.0              0.0   \n",
       "...                 ...           ...              ...              ...   \n",
       "valaipa01      0.000000      0.000000              0.0              0.0   \n",
       "vogelda01      0.000000      0.125000              0.0              0.0   \n",
       "walshco02      0.052632      0.000000              0.0              0.0   \n",
       "wendljo01      0.000000      0.000000              0.0              0.0   \n",
       "whitety01      0.000000      0.174419              0.0              0.0   \n",
       "\n",
       "           1942-45_percent  1946-62_percent  1963-76_percent  1977-92_percent  \\\n",
       "abercda01              0.0              0.0              0.0              0.0   \n",
       "addybo01               0.0              0.0              0.0              0.0   \n",
       "allisar01              0.0              0.0              0.0              0.0   \n",
       "ansonca01              0.0              0.0              0.0              0.0   \n",
       "armstbo01              0.0              0.0              0.0              0.0   \n",
       "...                    ...              ...              ...              ...   \n",
       "valaipa01              0.0              0.0              0.0              0.0   \n",
       "vogelda01              0.0              0.0              0.0              0.0   \n",
       "walshco02              0.0              0.0              0.0              0.0   \n",
       "wendljo01              0.0              0.0              0.0              0.0   \n",
       "whitety01              0.0              0.0              0.0              0.0   \n",
       "\n",
       "           1993-2009_percent  post2009_percent  \n",
       "abercda01                0.0               0.0  \n",
       "addybo01                 0.0               0.0  \n",
       "allisar01                0.0               0.0  \n",
       "ansonca01                0.0               0.0  \n",
       "armstbo01                0.0               0.0  \n",
       "...                      ...               ...  \n",
       "valaipa01                0.0               1.0  \n",
       "vogelda01                0.0               1.0  \n",
       "walshco02                0.0               1.0  \n",
       "wendljo01                0.0               1.0  \n",
       "whitety01                0.0               1.0  \n",
       "\n",
       "[8175 rows x 39 columns]>"
      ]
     },
     "execution_count": 19,
     "metadata": {},
     "output_type": "execute_result"
    }
   ],
   "source": [
    "# Filter 'pos_df' to eliminate players who played 10% or more of their games as Pitchers or Catchers\n",
    "pos_df = pos_df[(pos_df['G_p_percent'] < 0.1) & (pos_df['G_c_percent'] < 0.1)]\n",
    "\n",
    "# Get info on 'pos_df'\n",
    "pos_df.info"
   ]
  },
  {
   "cell_type": "code",
   "execution_count": 20,
   "metadata": {},
   "outputs": [
    {
     "name": "stdout",
     "output_type": "stream",
     "text": [
      "    playerID nameFirst     nameLast bats throws       debut   finalGame     G  \\\n",
      "1  aaronha01      Hank        Aaron    R      R  1954-04-13  1976-10-03  3298   \n",
      "2  aaronto01    Tommie        Aaron    R      R  1962-04-10  1971-09-26   437   \n",
      "4   abadan01      Andy         Abad    L      L  2001-09-10  2006-04-13    15   \n",
      "6  abadijo01      John       Abadie    R      R  1875-04-26  1875-06-10    12   \n",
      "7  abbated01        Ed  Abbaticchio    R      R  1897-09-04  1910-09-15   855   \n",
      "\n",
      "      AB     R  ...  G_of_percent  G_dh_percent  pre1920_percent  \\\n",
      "1  12364  2174  ...      0.836871      0.060946              0.0   \n",
      "2    944   102  ...      0.313501      0.000000              0.0   \n",
      "4     21     1  ...      0.066667      0.000000              0.0   \n",
      "6     49     4  ...      0.000000           NaN              1.0   \n",
      "7   3044   355  ...      0.003509           NaN              1.0   \n",
      "\n",
      "   1920-41_percent  1942-45_percent  1946-62_percent  1963-76_percent  \\\n",
      "1              0.0              0.0         0.409339         0.590661   \n",
      "2              0.0              0.0         0.322654         0.677346   \n",
      "4              0.0              0.0         0.000000         0.000000   \n",
      "6              0.0              0.0         0.000000         0.000000   \n",
      "7              0.0              0.0         0.000000         0.000000   \n",
      "\n",
      "   1977-92_percent  1993-2009_percent  post2009_percent  \n",
      "1              0.0                0.0               0.0  \n",
      "2              0.0                0.0               0.0  \n",
      "4              0.0                1.0               0.0  \n",
      "6              0.0                0.0               0.0  \n",
      "7              0.0                0.0               0.0  \n",
      "\n",
      "[5 rows x 77 columns]\n"
     ]
    }
   ],
   "source": [
    "# Join 'pos_df' and 'master_df'\n",
    "master_df = master_df.join(pos_df, on = 'playerID', how = 'right')\n",
    "\n",
    "# Print out the first rows of 'master_df'\n",
    "print(master_df.head())"
   ]
  },
  {
   "cell_type": "code",
   "execution_count": 21,
   "metadata": {},
   "outputs": [
    {
     "name": "stdout",
     "output_type": "stream",
     "text": [
      "<class 'pandas.core.frame.DataFrame'>\n",
      "Int64Index: 70 entries, 1 to 19011\n",
      "Data columns (total 77 columns):\n",
      "playerID                70 non-null object\n",
      "nameFirst               70 non-null object\n",
      "nameLast                70 non-null object\n",
      "bats                    70 non-null object\n",
      "throws                  70 non-null object\n",
      "debut                   70 non-null object\n",
      "finalGame               70 non-null object\n",
      "G                       70 non-null int64\n",
      "AB                      70 non-null int64\n",
      "R                       70 non-null int64\n",
      "H                       70 non-null int64\n",
      "2B                      70 non-null int64\n",
      "3B                      70 non-null int64\n",
      "HR                      70 non-null int64\n",
      "RBI                     70 non-null float64\n",
      "SB                      70 non-null float64\n",
      "BB                      70 non-null int64\n",
      "SO                      64 non-null float64\n",
      "IBB                     33 non-null float64\n",
      "HBP                     70 non-null float64\n",
      "SH                      69 non-null float64\n",
      "SF                      35 non-null float64\n",
      "Years_Played            70 non-null int64\n",
      "Gf                      70 non-null float64\n",
      "GSf                     33 non-null float64\n",
      "POf                     70 non-null float64\n",
      "Af                      70 non-null float64\n",
      "Ef                      70 non-null float64\n",
      "DPf                     70 non-null float64\n",
      "HoF                     70 non-null float64\n",
      "votedBy                 70 non-null object\n",
      "Most Valuable Player    42 non-null float64\n",
      "AS_games                60 non-null float64\n",
      "Gold Glove              27 non-null float64\n",
      "Rookie of the Year      11 non-null float64\n",
      "World Series MVP        6 non-null float64\n",
      "Silver Slugger          23 non-null float64\n",
      "playerIDmstr            70 non-null object\n",
      "G_all                   70 non-null int64\n",
      "G_p                     70 non-null int64\n",
      "G_c                     70 non-null int64\n",
      "G_1b                    70 non-null int64\n",
      "G_2b                    70 non-null int64\n",
      "G_3b                    70 non-null int64\n",
      "G_ss                    70 non-null int64\n",
      "G_lf                    70 non-null int64\n",
      "G_cf                    70 non-null int64\n",
      "G_rf                    70 non-null int64\n",
      "G_of                    70 non-null int64\n",
      "G_dh                    64 non-null float64\n",
      "pre1920                 70 non-null int64\n",
      "1920-41                 70 non-null int64\n",
      "1942-45                 70 non-null int64\n",
      "1946-62                 70 non-null int64\n",
      "1963-76                 70 non-null int64\n",
      "1977-92                 70 non-null int64\n",
      "1993-2009               70 non-null int64\n",
      "post2009                70 non-null int64\n",
      "G_p_percent             70 non-null float64\n",
      "G_c_percent             70 non-null float64\n",
      "G_1b_percent            70 non-null float64\n",
      "G_2b_percent            70 non-null float64\n",
      "G_3b_percent            70 non-null float64\n",
      "G_ss_percent            70 non-null float64\n",
      "G_lf_percent            70 non-null float64\n",
      "G_cf_percent            70 non-null float64\n",
      "G_rf_percent            70 non-null float64\n",
      "G_of_percent            70 non-null float64\n",
      "G_dh_percent            64 non-null float64\n",
      "pre1920_percent         70 non-null float64\n",
      "1920-41_percent         70 non-null float64\n",
      "1942-45_percent         70 non-null float64\n",
      "1946-62_percent         70 non-null float64\n",
      "1963-76_percent         70 non-null float64\n",
      "1977-92_percent         70 non-null float64\n",
      "1993-2009_percent       70 non-null float64\n",
      "post2009_percent        70 non-null float64\n",
      "dtypes: float64(40), int64(28), object(9)\n",
      "memory usage: 42.7+ KB\n"
     ]
    }
   ],
   "source": [
    "# Replace NA values with 'None'\n",
    "master_df['votedBy'] = master_df['votedBy'].fillna('NoNe')\n",
    "\n",
    "# Filter 'master_df' to include only players who were voted into\n",
    "# the Hall of Fame or Players who did not make it at all\n",
    "master_df = master_df[(master_df['votedBy'] == 'None') |\n",
    "                     (master_df['votedBy'] == 'BBWAA') |\n",
    "                     (master_df['votedBy'] == 'Run Off')]\n",
    "\n",
    "# Inspect 'master_df'\n",
    "master_df.info()"
   ]
  },
  {
   "cell_type": "code",
   "execution_count": 22,
   "metadata": {},
   "outputs": [
    {
     "name": "stdout",
     "output_type": "stream",
     "text": [
      "      playerID nameFirst  nameLast bats throws       debut   finalGame     G  \\\n",
      "1    aaronha01      Hank     Aaron    R      R  1954-04-13  1976-10-03  3298   \n",
      "245  alomaro01   Roberto    Alomar    B      R  1988-04-22  2004-09-05  2379   \n",
      "398  aparilu01      Luis  Aparicio    R      R  1956-04-17  1973-09-28  2601   \n",
      "405  applilu01      Luke   Appling    R      R  1930-09-10  1950-10-01  2422   \n",
      "596  bagweje01      Jeff   Bagwell    R      R  1991-04-08  2005-10-02  2150   \n",
      "\n",
      "        AB     R  ...  pre1920_percent  1920-41_percent  1942-45_percent  \\\n",
      "1    12364  2174  ...              0.0         0.000000         0.000000   \n",
      "245   9073  1508  ...              0.0         0.000000         0.000000   \n",
      "398  10230  1335  ...              0.0         0.000000         0.000000   \n",
      "405   8856  1319  ...              0.0         0.614368         0.130058   \n",
      "596   7797  1517  ...              0.0         0.000000         0.000000   \n",
      "\n",
      "     1946-62_percent  1963-76_percent  1977-92_percent  1993-2009_percent  \\\n",
      "1           0.409339         0.590661         0.000000           0.000000   \n",
      "245         0.000000         0.000000         0.319882           0.680118   \n",
      "398         0.405229         0.594771         0.000000           0.000000   \n",
      "405         0.255574         0.000000         0.000000           0.000000   \n",
      "596         0.000000         0.000000         0.147907           0.852093   \n",
      "\n",
      "     post2009_percent  bats_R  throws_R  \n",
      "1                 0.0       1         1  \n",
      "245               0.0       0         1  \n",
      "398               0.0       1         1  \n",
      "405               0.0       1         1  \n",
      "596               0.0       1         1  \n",
      "\n",
      "[5 rows x 79 columns]\n"
     ]
    }
   ],
   "source": [
    "# Create a function to convert the bats and throws columns to numeric\n",
    "def bats_throws(col):\n",
    "    if col == \"R\":\n",
    "        return 1\n",
    "    else:\n",
    "        return 0\n",
    "    \n",
    "# Use the 'apply()' method to create numeric columns from the bats\n",
    "# and throws columns\n",
    "master_df['bats_R'] = master_df['bats'].apply(bats_throws)\n",
    "master_df['throws_R'] = master_df['throws'].apply(bats_throws)\n",
    "\n",
    "# Print out the first rows of 'master_df'\n",
    "print(master_df.head())"
   ]
  },
  {
   "cell_type": "code",
   "execution_count": 23,
   "metadata": {},
   "outputs": [
    {
     "name": "stdout",
     "output_type": "stream",
     "text": [
      "      playerID nameFirst  nameLast bats throws      debut  finalGame     G  \\\n",
      "1    aaronha01      Hank     Aaron    R      R 1954-04-13 1976-10-03  3298   \n",
      "245  alomaro01   Roberto    Alomar    B      R 1988-04-22 2004-09-05  2379   \n",
      "398  aparilu01      Luis  Aparicio    R      R 1956-04-17 1973-09-28  2601   \n",
      "405  applilu01      Luke   Appling    R      R 1930-09-10 1950-10-01  2422   \n",
      "596  bagweje01      Jeff   Bagwell    R      R 1991-04-08 2005-10-02  2150   \n",
      "\n",
      "        AB     R  ...  1942-45_percent  1946-62_percent  1963-76_percent  \\\n",
      "1    12364  2174  ...         0.000000         0.409339         0.590661   \n",
      "245   9073  1508  ...         0.000000         0.000000         0.000000   \n",
      "398  10230  1335  ...         0.000000         0.405229         0.594771   \n",
      "405   8856  1319  ...         0.130058         0.255574         0.000000   \n",
      "596   7797  1517  ...         0.000000         0.000000         0.000000   \n",
      "\n",
      "     1977-92_percent  1993-2009_percent  post2009_percent  bats_R  throws_R  \\\n",
      "1           0.000000           0.000000               0.0       1         1   \n",
      "245         0.319882           0.680118               0.0       0         1   \n",
      "398         0.000000           0.000000               0.0       1         1   \n",
      "405         0.000000           0.000000               0.0       1         1   \n",
      "596         0.147907           0.852093               0.0       1         1   \n",
      "\n",
      "     debutYear  finalYear  \n",
      "1         1954       1976  \n",
      "245       1988       2004  \n",
      "398       1956       1973  \n",
      "405       1930       1950  \n",
      "596       1991       2005  \n",
      "\n",
      "[5 rows x 81 columns]\n"
     ]
    }
   ],
   "source": [
    "# Import datetime\n",
    "from datetime import datetime\n",
    "\n",
    "# Convert the 'debut' column to datetime\n",
    "master_df['debut'] = pd.to_datetime(master_df['debut'])\n",
    "# Convert the 'finalGame' column to datetime\n",
    "master_df['finalGame'] = pd.to_datetime(master_df['finalGame'])\n",
    "\n",
    "# Create new columns for debutYear and finalYear\n",
    "master_df['debutYear'] = pd.to_numeric(master_df['debut'].dt.strftime('%Y'), errors = 'coerce')\n",
    "master_df['finalYear'] = pd.to_numeric(master_df['finalGame'].dt.strftime('%Y'), errors = 'coerce')\n",
    "\n",
    "# Return the first rows of 'master_df'\n",
    "print(master_df.head())"
   ]
  },
  {
   "cell_type": "code",
   "execution_count": 24,
   "metadata": {},
   "outputs": [
    {
     "name": "stdout",
     "output_type": "stream",
     "text": [
      "Index(['playerID', 'nameFirst', 'nameLast', 'debut', 'finalGame', 'G', 'AB',\n",
      "       'R', 'H', '2B', '3B', 'HR', 'RBI', 'SB', 'BB', 'SO', 'HBP', 'SH', 'SF',\n",
      "       'Years_Played', 'Af', 'Ef', 'DPf', 'HoF', 'Most Valuable Player',\n",
      "       'AS_games', 'Gold Glove', 'Rookie of the Year', 'World Series MVP',\n",
      "       'Silver Slugger', 'G_all', 'G_p', 'G_c', 'G_1b', 'G_2b', 'G_3b', 'G_ss',\n",
      "       'G_lf', 'G_cf', 'G_rf', 'G_of', 'G_dh', 'pre1920', '1920-41', '1942-45',\n",
      "       '1946-62', '1963-76', '1977-92', '1993-2009', 'post2009', 'G_p_percent',\n",
      "       'G_c_percent', 'G_1b_percent', 'G_2b_percent', 'G_3b_percent',\n",
      "       'G_ss_percent', 'G_lf_percent', 'G_cf_percent', 'G_rf_percent',\n",
      "       'G_of_percent', 'G_dh_percent', 'pre1920_percent', '1920-41_percent',\n",
      "       '1942-45_percent', '1946-62_percent', '1963-76_percent',\n",
      "       '1977-92_percent', '1993-2009_percent', 'post2009_percent', 'bats_R',\n",
      "       'throws_R', 'debutYear', 'finalYear'],\n",
      "      dtype='object')\n",
      "[0, 0, 0, 0, 0, 0, 0, 0, 0, 0, 0, 0, 0, 0, 0, 6, 0, 1, 35, 0, 0, 0, 0, 0, 28, 10, 43, 59, 64, 47, 0, 0, 0, 0, 0, 0, 0, 0, 0, 0, 0, 6, 0, 0, 0, 0, 0, 0, 0, 0, 0, 0, 0, 0, 0, 0, 0, 0, 0, 0, 6, 0, 0, 0, 0, 0, 0, 0, 0, 0, 0, 0, 0]\n"
     ]
    }
   ],
   "source": [
    "# Eliminating unnecessary columns\n",
    "df = master_df.drop(['votedBy', 'IBB', 'bats', 'throws', 'GSf', 'POf','Gf', 'playerIDmstr'], axis=1)\n",
    "\n",
    "# Print 'df' columns\n",
    "print(df.columns)\n",
    "\n",
    "# Print a list of null values\n",
    "print(df.isnull().sum(axis = 0).tolist())"
   ]
  },
  {
   "cell_type": "code",
   "execution_count": 25,
   "metadata": {},
   "outputs": [
    {
     "name": "stdout",
     "output_type": "stream",
     "text": [
      "[0, 0, 0, 0, 0, 0, 0, 0, 0, 0, 0, 0, 0, 0, 0, 0, 0, 0, 0, 0, 0, 0, 0, 0, 0, 0, 0, 0, 0, 0, 0, 0, 0, 0, 0, 0, 0, 0, 0, 0, 0, 0, 0, 0, 0, 0, 0, 0, 0, 0, 0, 0, 0, 0, 0, 0, 0, 0, 0, 0, 0, 0, 0, 0, 0, 0, 0, 0, 0, 0, 0, 0, 0]\n"
     ]
    }
   ],
   "source": [
    "# Fill null values in numeric columns with 0\n",
    "fill_cols = ['AS_games', 'Silver Slugger', 'Rookie of the Year', 'Gold Glove', 'Most Valuable Player', 'HoF', '1977-92', 'pre1920', '1942-45', '1946-62', '1963-76', '1920-41', '1993-2009', 'HBP', 'SB', 'SF', 'SH', 'RBI', 'SO', 'World Series MVP', 'G_dh_percent', 'G_dh', 'Af', 'DPf', 'Ef']\n",
    "\n",
    "for col in fill_cols:\n",
    "    df[col] = df[col].fillna(0)\n",
    "    \n",
    "# Drop any additional rows with null values\n",
    "df = df.dropna()\n",
    "\n",
    "# Check to make sure null values have been removed\n",
    "print(df.isnull().sum(axis = 0).tolist())"
   ]
  },
  {
   "cell_type": "code",
   "execution_count": 26,
   "metadata": {},
   "outputs": [],
   "source": [
    "### Feature Engineering : Creating New Features"
   ]
  },
  {
   "cell_type": "code",
   "execution_count": 27,
   "metadata": {},
   "outputs": [
    {
     "name": "stdout",
     "output_type": "stream",
     "text": [
      "Index(['playerID', 'nameFirst', 'nameLast', 'debut', 'finalGame', 'G', 'AB',\n",
      "       'R', 'H', '2B', '3B', 'HR', 'RBI', 'SB', 'BB', 'SO', 'HBP', 'SH', 'SF',\n",
      "       'Years_Played', 'Af', 'Ef', 'DPf', 'HoF', 'Most Valuable Player',\n",
      "       'AS_games', 'Gold Glove', 'Rookie of the Year', 'World Series MVP',\n",
      "       'Silver Slugger', 'G_all', 'G_p', 'G_c', 'G_1b', 'G_2b', 'G_3b', 'G_ss',\n",
      "       'G_lf', 'G_cf', 'G_rf', 'G_of', 'G_dh', 'pre1920', '1920-41', '1942-45',\n",
      "       '1946-62', '1963-76', '1977-92', '1993-2009', 'post2009', 'G_p_percent',\n",
      "       'G_c_percent', 'G_1b_percent', 'G_2b_percent', 'G_3b_percent',\n",
      "       'G_ss_percent', 'G_lf_percent', 'G_cf_percent', 'G_rf_percent',\n",
      "       'G_of_percent', 'G_dh_percent', 'pre1920_percent', '1920-41_percent',\n",
      "       '1942-45_percent', '1946-62_percent', '1963-76_percent',\n",
      "       '1977-92_percent', '1993-2009_percent', 'post2009_percent', 'bats_R',\n",
      "       'throws_R', 'debutYear', 'finalYear', 'AVE', 'OBP', 'Slug_Percent',\n",
      "       'OPS'],\n",
      "      dtype='object')\n"
     ]
    }
   ],
   "source": [
    "# Create Batting Average (`AVE`) column\n",
    "df['AVE'] = df['H'] / df['AB']\n",
    "\n",
    "# Create On Base Percent (`OBP`) column\n",
    "plate_appearances = (df['AB'] + df['BB'] + df['SF'] + df['SH'] + df['HBP'])\n",
    "df['OBP'] = (df['H'] + df['BB'] + df['HBP']) / plate_appearances\n",
    "\n",
    "# Create Slugging Percent (`Slug_Percent`) column\n",
    "single = ((df['H'] - df['2B']) - df['3B']) - df['HR']\n",
    "df['Slug_Percent'] = ((df['HR'] * 4) + (df['3B'] * 3) + (df['2B'] * 2) + single) / df['AB']\n",
    "\n",
    "# Create On Base plus Slugging Percent (`OPS`) column\n",
    "hr = df['HR'] * 4\n",
    "triple = df['3B'] * 3\n",
    "double = df['2B'] * 2\n",
    "df['OPS'] = df['OBP'] + df['Slug_Percent']\n",
    "\n",
    "# Double check the `df` columns \n",
    "print(df.columns)"
   ]
  },
  {
   "cell_type": "code",
   "execution_count": 28,
   "metadata": {},
   "outputs": [
    {
     "name": "stdout",
     "output_type": "stream",
     "text": [
      "<class 'pandas.core.frame.DataFrame'>\n",
      "Int64Index: 70 entries, 1 to 19011\n",
      "Data columns (total 77 columns):\n",
      "playerID                70 non-null object\n",
      "nameFirst               70 non-null object\n",
      "nameLast                70 non-null object\n",
      "debut                   70 non-null datetime64[ns]\n",
      "finalGame               70 non-null datetime64[ns]\n",
      "G                       70 non-null int64\n",
      "AB                      70 non-null int64\n",
      "R                       70 non-null int64\n",
      "H                       70 non-null int64\n",
      "2B                      70 non-null int64\n",
      "3B                      70 non-null int64\n",
      "HR                      70 non-null int64\n",
      "RBI                     70 non-null float64\n",
      "SB                      70 non-null float64\n",
      "BB                      70 non-null int64\n",
      "SO                      70 non-null float64\n",
      "HBP                     70 non-null float64\n",
      "SH                      70 non-null float64\n",
      "SF                      70 non-null float64\n",
      "Years_Played            70 non-null int64\n",
      "Af                      70 non-null float64\n",
      "Ef                      70 non-null float64\n",
      "DPf                     70 non-null float64\n",
      "HoF                     70 non-null float64\n",
      "Most Valuable Player    70 non-null float64\n",
      "AS_games                70 non-null float64\n",
      "Gold Glove              70 non-null float64\n",
      "Rookie of the Year      70 non-null float64\n",
      "World Series MVP        70 non-null float64\n",
      "Silver Slugger          70 non-null float64\n",
      "G_all                   70 non-null int64\n",
      "G_p                     70 non-null int64\n",
      "G_c                     70 non-null int64\n",
      "G_1b                    70 non-null int64\n",
      "G_2b                    70 non-null int64\n",
      "G_3b                    70 non-null int64\n",
      "G_ss                    70 non-null int64\n",
      "G_lf                    70 non-null int64\n",
      "G_cf                    70 non-null int64\n",
      "G_rf                    70 non-null int64\n",
      "G_of                    70 non-null int64\n",
      "G_dh                    70 non-null float64\n",
      "pre1920                 70 non-null int64\n",
      "1920-41                 70 non-null int64\n",
      "1942-45                 70 non-null int64\n",
      "1946-62                 70 non-null int64\n",
      "1963-76                 70 non-null int64\n",
      "1977-92                 70 non-null int64\n",
      "1993-2009               70 non-null int64\n",
      "post2009                70 non-null int64\n",
      "G_p_percent             70 non-null float64\n",
      "G_c_percent             70 non-null float64\n",
      "G_1b_percent            70 non-null float64\n",
      "G_2b_percent            70 non-null float64\n",
      "G_3b_percent            70 non-null float64\n",
      "G_ss_percent            70 non-null float64\n",
      "G_lf_percent            70 non-null float64\n",
      "G_cf_percent            70 non-null float64\n",
      "G_rf_percent            70 non-null float64\n",
      "G_of_percent            70 non-null float64\n",
      "G_dh_percent            70 non-null float64\n",
      "pre1920_percent         70 non-null float64\n",
      "1920-41_percent         70 non-null float64\n",
      "1942-45_percent         70 non-null float64\n",
      "1946-62_percent         70 non-null float64\n",
      "1963-76_percent         70 non-null float64\n",
      "1977-92_percent         70 non-null float64\n",
      "1993-2009_percent       70 non-null float64\n",
      "post2009_percent        70 non-null float64\n",
      "bats_R                  70 non-null int64\n",
      "throws_R                70 non-null int64\n",
      "debutYear               70 non-null int64\n",
      "finalYear               70 non-null int64\n",
      "AVE                     70 non-null float64\n",
      "OBP                     70 non-null float64\n",
      "Slug_Percent            70 non-null float64\n",
      "OPS                     70 non-null float64\n",
      "dtypes: datetime64[ns](2), float64(40), int64(32), object(3)\n",
      "memory usage: 42.7+ KB\n"
     ]
    }
   ],
   "source": [
    "# Eliminate Jackson and Rose from 'df'\n",
    "df = df[(df['playerID'] != 'rosepe01') & (df['playerID'] != 'jacksjo01')]\n",
    "\n",
    "# Retrieve 'df' information\n",
    "df.info()"
   ]
  },
  {
   "cell_type": "code",
   "execution_count": 29,
   "metadata": {},
   "outputs": [
    {
     "name": "stdout",
     "output_type": "stream",
     "text": [
      "Index(['playerID', 'nameFirst', 'nameLast', 'debut', 'finalGame', 'G', 'AB',\n",
      "       'R', 'H', '2B', '3B', 'HR', 'RBI', 'SB', 'BB', 'SO', 'HBP', 'SH', 'SF',\n",
      "       'Years_Played', 'Af', 'Ef', 'DPf', 'HoF', 'Most Valuable Player',\n",
      "       'AS_games', 'Gold Glove', 'Rookie of the Year', 'World Series MVP',\n",
      "       'Silver Slugger', 'G_all', 'G_p', 'G_c', 'G_1b', 'G_2b', 'G_3b', 'G_ss',\n",
      "       'G_lf', 'G_cf', 'G_rf', 'G_of', 'G_dh', 'pre1920', '1920-41', '1942-45',\n",
      "       '1946-62', '1963-76', '1977-92', '1993-2009', 'post2009', 'G_p_percent',\n",
      "       'G_c_percent', 'G_1b_percent', 'G_2b_percent', 'G_3b_percent',\n",
      "       'G_ss_percent', 'G_lf_percent', 'G_cf_percent', 'G_rf_percent',\n",
      "       'G_of_percent', 'G_dh_percent', 'pre1920_percent', '1920-41_percent',\n",
      "       '1942-45_percent', '1946-62_percent', '1963-76_percent',\n",
      "       '1977-92_percent', '1993-2009_percent', 'post2009_percent', 'bats_R',\n",
      "       'throws_R', 'debutYear', 'finalYear', 'AVE', 'OBP', 'Slug_Percent',\n",
      "       'OPS', 'first_aap'],\n",
      "      dtype='object')\n"
     ]
    }
   ],
   "source": [
    "# Make a function that will create a new column to honor Jackie Robinson, the first African American Major league Baseball Player\n",
    "def first_aap(col):\n",
    "    if col == 'robinja02':\n",
    "        return 1\n",
    "    else:\n",
    "        return 0\n",
    "\n",
    "# Apply 'first_aap' to 'df[playerID]'\n",
    "df['first_aap'] = df['playerID']\n",
    "\n",
    "# Retrieve 'df' columns\n",
    "print(df.columns)"
   ]
  },
  {
   "cell_type": "code",
   "execution_count": 30,
   "metadata": {},
   "outputs": [
    {
     "name": "stdout",
     "output_type": "stream",
     "text": [
      "70\n"
     ]
    }
   ],
   "source": [
    "# Filter the 'df' for the remaining Hall of Fame members in the data\n",
    "df_hof = df[df['HoF'] == 1]\n",
    "\n",
    "# Print the length of the new DataFrame\n",
    "print(len(df_hof))"
   ]
  },
  {
   "cell_type": "code",
   "execution_count": 31,
   "metadata": {},
   "outputs": [
    {
     "data": {
      "text/plain": [
       "<Figure size 1500x1200 with 4 Axes>"
      ]
     },
     "metadata": {},
     "output_type": "display_data"
    }
   ],
   "source": [
    "# Import the pyplot module from matplotlib\n",
    "import matplotlib.pyplot as plt\n",
    "\n",
    "# Initialize the figure and add subplots\n",
    "fig = plt.figure(figsize = (15, 12))\n",
    "ax1 = fig.add_subplot(2, 2, 1)\n",
    "ax2 = fig.add_subplot(2, 2, 2)\n",
    "ax3 = fig.add_subplot(2, 2, 3)\n",
    "ax4 = fig.add_subplot(2, 2, 4)\n",
    "\n",
    "# Create distribution plots for Hits, Home Runs, Years Played and All Star Games\n",
    "ax1.hist(df_hof['H'])\n",
    "ax1.set_title('Distribution of Hits')\n",
    "ax1.set_ylabel('HoF Careers')\n",
    "ax2.hist(df_hof['HR'])\n",
    "ax2.set_title('Distribution of Home Runs')\n",
    "ax3.hist(df_hof['Years_Played'])\n",
    "ax3.set_title('Distribution of Years Played')\n",
    "ax3.set_ylabel('HoF Careers')\n",
    "ax4.hist(df_hof['AS_games'])\n",
    "ax4.set_title('Distribution of All Star Game Appearances')\n",
    "\n",
    "# Show the plot\n",
    "plt.show()"
   ]
  },
  {
   "cell_type": "code",
   "execution_count": 32,
   "metadata": {},
   "outputs": [
    {
     "data": {
      "image/png": "[encoded data removed]",
      "text/plain": [
       "<Figure size 1008x504 with 2 Axes>"
      ]
     },
     "metadata": {
      "needs_background": "light"
     },
     "output_type": "display_data"
    }
   ],
   "source": [
    "# Filter 'df' for players with 10 or more years of experience\n",
    "df_10 = df[(df['Years_Played'] >= 10) & (df['HoF'] == 0)]\n",
    "\n",
    "# Initialize the figure and add subplots\n",
    "fig = plt.figure(figsize=(14, 7))\n",
    "ax1 = fig.add_subplot(1, 2, 1)\n",
    "ax2 = fig.add_subplot(1, 2, 2)\n",
    "\n",
    "# Create Scatter plots for Hits vs. Average and Home Runs vs. Average\n",
    "ax1.scatter(df_hof['H'], df_hof['AVE'], c='r', label='HoF Player')\n",
    "ax1.scatter(df_10['H'], df_10['AVE'], c='b', label='Non HoF Player')\n",
    "ax1.set_title('Career Hits vs. Career Batting Average')\n",
    "ax1.set_xlabel('Career Hits')\n",
    "ax1.set_ylabel('Career Average')\n",
    "ax2.scatter(df_hof['HR'], df_hof['AVE'], c='r', label='HoF Player')\n",
    "ax2.scatter(df_10['HR'], df_10['AVE'], c='b', label='Non HoF Player')\n",
    "ax2.set_title('Career Home Runs vs. Career Batting Average')\n",
    "ax2.set_xlabel('Career Home Runs')\n",
    "ax2.legend(loc='lower right', scatterpoints=1)\n",
    "\n",
    "# Show the plot\n",
    "plt.show()"
   ]
  },
  {
   "cell_type": "code",
   "execution_count": 33,
   "metadata": {},
   "outputs": [
    {
     "name": "stdout",
     "output_type": "stream",
     "text": [
      "[0, 0, 0, 0, 0, 0, 0, 0, 0, 0, 0, 0, 0, 0, 0, 0, 0, 0, 0, 0, 0, 0, 0, 0, 0, 0, 0, 0, 0, 0, 0, 0, 0, 0, 0, 0, 0, 0, 0, 0, 0, 0, 0, 0, 0, 0, 0, 0, 0, 0, 0, 0, 0, 0, 0, 0, 0, 0, 0, 0, 0, 0, 0, 0, 0, 0, 0, 0, 0, 0, 0, 0, 0, 0, 0, 0, 0, 0]\n"
     ]
    }
   ],
   "source": [
    "# Check for null values\n",
    "print(df.isnull().sum(axis = 0).tolist())\n",
    "\n",
    "# Eliminate rows with null values\n",
    "df = df.dropna()"
   ]
  },
  {
   "cell_type": "code",
   "execution_count": 35,
   "metadata": {},
   "outputs": [
    {
     "name": "stdout",
     "output_type": "stream",
     "text": [
      "       playerID nameFirst  nameLast      debut  finalGame     G     AB     R  \\\n",
      "1     aaronha01      Hank     Aaron 1954-04-13 1976-10-03  3298  12364  2174   \n",
      "398   aparilu01      Luis  Aparicio 1956-04-17 1973-09-28  2601  10230  1335   \n",
      "405   applilu01      Luke   Appling 1930-09-10 1950-10-01  2422   8856  1319   \n",
      "714   bankser01     Ernie     Banks 1953-09-17 1971-09-26  2528   9421  1305   \n",
      "1515  boggswa01      Wade     Boggs 1982-04-10 1999-08-27  2440   9180  1513   \n",
      "\n",
      "         H   2B  ...  bats_R  throws_R  debutYear  finalYear       AVE  \\\n",
      "1     3771  624  ...       1         1       1954       1976  0.304998   \n",
      "398   2677  394  ...       1         1       1956       1973  0.261681   \n",
      "405   2749  440  ...       1         1       1930       1950  0.310411   \n",
      "714   2583  407  ...       1         1       1953       1971  0.274175   \n",
      "1515  3010  578  ...       0         1       1982       1999  0.327887   \n",
      "\n",
      "           OBP  Slug_Percent       OPS  first_aap  YSLS  \n",
      "1     0.373386      0.554513  0.927899  aaronha01    40  \n",
      "398   0.306322      0.342522  0.648844  aparilu01    43  \n",
      "405   0.396564      0.398374  0.794937  applilu01    66  \n",
      "714   0.331683      0.499522  0.831205  bankser01    45  \n",
      "1515  0.413873      0.442702  0.856575  boggswa01    17  \n",
      "\n",
      "[5 rows x 79 columns]\n",
      "       playerID nameFirst   nameLast      debut  finalGame     G     AB     R  \\\n",
      "245   alomaro01   Roberto     Alomar 1988-04-22 2004-09-05  2379   9073  1508   \n",
      "596   bagweje01      Jeff    Bagwell 1991-04-08 2005-10-02  2150   7797  1517   \n",
      "6694  griffke02       Ken    Griffey 1989-04-03 2010-05-31  2671   9801  1662   \n",
      "6858  gwynnto01      Tony      Gwynn 1982-07-19 2001-10-07  2440   9288  1383   \n",
      "7452  henderi01    Rickey  Henderson 1979-06-24 2003-09-19  3081  10961  2295   \n",
      "\n",
      "         H   2B  ...  bats_R  throws_R  debutYear  finalYear       AVE  \\\n",
      "245   2724  504  ...       0         1       1988       2004  0.300231   \n",
      "596   2314  488  ...       1         1       1991       2005  0.296781   \n",
      "6694  2781  524  ...       0         0       1989       2010  0.283747   \n",
      "6858  3141  543  ...       0         0       1982       2001  0.338178   \n",
      "7452  3055  510  ...       1         0       1979       2003  0.278715   \n",
      "\n",
      "           OBP  Slug_Percent       OPS  first_aap  YSLS  \n",
      "245   0.365962      0.442852  0.808814  alomaro01    12  \n",
      "596   0.407486      0.540336  0.947822  bagweje01    11  \n",
      "6694  0.369250      0.537802  0.907052  griffke02     6  \n",
      "6858  0.386532      0.458549  0.845081  gwynnto01    15  \n",
      "7452  0.400345      0.418575  0.818920  henderi01    13  \n",
      "\n",
      "[5 rows x 79 columns]\n"
     ]
    }
   ],
   "source": [
    "# Create column for years since retirement\n",
    "df['YSLS'] = 2016 - df['finalYear']\n",
    "\n",
    "# Filter 'df' for players who retired more than 15 years ago\n",
    "df_hitters = df[df['YSLS'] > 15]\n",
    "\n",
    "print(df_hitters.head())\n",
    "\n",
    "# Filter 'df' for players who retired less than 15 years ago and for currently active players\n",
    "df_eligible = df[df['YSLS'] <= 15]\n",
    "\n",
    "print(df_eligible.head())"
   ]
  },
  {
   "cell_type": "code",
   "execution_count": 36,
   "metadata": {},
   "outputs": [
    {
     "name": "stdout",
     "output_type": "stream",
     "text": [
      "Index(['playerID', 'nameFirst', 'nameLast', 'debut', 'finalGame', 'G', 'AB',\n",
      "       'R', 'H', '2B', '3B', 'HR', 'RBI', 'SB', 'BB', 'SO', 'HBP', 'SH', 'SF',\n",
      "       'Years_Played', 'Af', 'Ef', 'DPf', 'HoF', 'Most Valuable Player',\n",
      "       'AS_games', 'Gold Glove', 'Rookie of the Year', 'World Series MVP',\n",
      "       'Silver Slugger', 'G_all', 'G_p', 'G_c', 'G_1b', 'G_2b', 'G_3b', 'G_ss',\n",
      "       'G_lf', 'G_cf', 'G_rf', 'G_of', 'G_dh', 'pre1920', '1920-41', '1942-45',\n",
      "       '1946-62', '1963-76', '1977-92', '1993-2009', 'post2009', 'G_p_percent',\n",
      "       'G_c_percent', 'G_1b_percent', 'G_2b_percent', 'G_3b_percent',\n",
      "       'G_ss_percent', 'G_lf_percent', 'G_cf_percent', 'G_rf_percent',\n",
      "       'G_of_percent', 'G_dh_percent', 'pre1920_percent', '1920-41_percent',\n",
      "       '1942-45_percent', '1946-62_percent', '1963-76_percent',\n",
      "       '1977-92_percent', '1993-2009_percent', 'post2009_percent', 'bats_R',\n",
      "       'throws_R', 'debutYear', 'finalYear', 'AVE', 'OBP', 'Slug_Percent',\n",
      "       'OPS', 'first_aap', 'YSLS'],\n",
      "      dtype='object')\n"
     ]
    }
   ],
   "source": [
    "print(df.columns)"
   ]
  },
  {
   "cell_type": "code",
   "execution_count": 69,
   "metadata": {},
   "outputs": [
    {
     "name": "stdout",
     "output_type": "stream",
     "text": [
      "       playerID nameFirst  nameLast  HoF  Years_Played     H    BB   HR  \\\n",
      "1     aaronha01      Hank     Aaron  1.0            23  3771  1402  755   \n",
      "398   aparilu01      Luis  Aparicio  1.0            18  2677   736   83   \n",
      "405   applilu01      Luke   Appling  1.0            20  2749  1302   45   \n",
      "714   bankser01     Ernie     Banks  1.0            19  2583   763  512   \n",
      "1515  boggswa01      Wade     Boggs  1.0            18  3010  1412  118   \n",
      "\n",
      "           AVE       OBP  ...  G_dh_percent  1920-41_percent  G_ss_percent  \\\n",
      "1     0.304998  0.373386  ...      0.060946         0.000000      0.000000   \n",
      "398   0.261681  0.306322  ...      0.000000         0.000000      0.992695   \n",
      "405   0.310411  0.396564  ...      0.000000         0.614368      0.915772   \n",
      "714   0.274175  0.331683  ...      0.000000         0.000000      0.445016   \n",
      "1515  0.327887  0.413873  ...      0.043852         0.000000      0.000000   \n",
      "\n",
      "      post2009_percent  1977-92_percent  G_2b_percent  G_3b_percent  \\\n",
      "1                  0.0         0.000000      0.013038      0.002122   \n",
      "398                0.0         0.000000      0.000000      0.000000   \n",
      "405                0.0         0.000000      0.016515      0.036334   \n",
      "714                0.0         0.000000      0.000000      0.027294   \n",
      "1515               0.0         0.665984      0.000000      0.906967   \n",
      "\n",
      "      G_of_percent  pre1920_percent  first_aap  \n",
      "1         0.836871              0.0  aaronha01  \n",
      "398       0.000000              0.0  aparilu01  \n",
      "405       0.000000              0.0  applilu01  \n",
      "714       0.009098              0.0  bankser01  \n",
      "1515      0.000410              0.0  boggswa01  \n",
      "\n",
      "[5 rows x 47 columns]\n"
     ]
    }
   ],
   "source": [
    "# Select columns to use for models, and identification columns\n",
    "num_cols_hitters = ['playerID', 'nameFirst', 'nameLast', 'HoF', 'Years_Played', 'H', 'BB', 'HR', 'AVE', 'OBP', 'Slug_Percent', 'OPS',  'RBI','R', 'SB', '2B', '3B', 'AB', 'SO', 'Most Valuable Player', 'World Series MVP', 'AS_games','Gold Glove', 'Rookie of the Year', 'Silver Slugger', 'bats_R', 'throws_R', 'DPf', 'Af', 'Ef', 'YSLS', 'G_all', '1963-76_percent', '1993-2009_percent', '1946-62_percent', 'G_1b_percent', '1942-45_percent','G_dh_percent', '1920-41_percent', 'G_ss_percent','post2009_percent', '1977-92_percent', 'G_2b_percent', 'G_3b_percent','G_of_percent', 'pre1920_percent', 'first_aap']\n",
    "\n",
    "# Create a new DataFrame ('data') from the 'df_hitters' using the columns above\n",
    "data = df_hitters[num_cols_hitters]\n",
    "\n",
    "# Return the first rows of 'data'\n",
    "print(data.head())"
   ]
  },
  {
   "cell_type": "code",
   "execution_count": 70,
   "metadata": {},
   "outputs": [
    {
     "name": "stdout",
     "output_type": "stream",
     "text": [
      "61\n",
      "61\n"
     ]
    }
   ],
   "source": [
    "# Print length of 'data'\n",
    "print(len(data))\n",
    "\n",
    "# Print how many Hall of Fame members are in data\n",
    "print(len(data[data['HoF'] == 1]))"
   ]
  },
  {
   "cell_type": "code",
   "execution_count": 71,
   "metadata": {},
   "outputs": [],
   "source": [
    "# Create 'target' Series\n",
    "target = data['HoF']\n",
    "\n",
    "# Create 'features' DataFrame\n",
    "features = data.drop(['playerID', 'nameFirst', 'nameLast', 'HoF', 'first_aap'], axis = 1)"
   ]
  },
  {
   "cell_type": "code",
   "execution_count": 72,
   "metadata": {},
   "outputs": [],
   "source": [
    "### Logistic Regression"
   ]
  },
  {
   "cell_type": "code",
   "execution_count": 73,
   "metadata": {},
   "outputs": [
    {
     "name": "stderr",
     "output_type": "stream",
     "text": [
      "/Users/brijrajsinhgohil/anaconda3/lib/python3.7/site-packages/sklearn/linear_model/logistic.py:432: FutureWarning: Default solver will be changed to 'lbfgs' in 0.22. Specify a solver to silence this warning.\n",
      "  FutureWarning)\n"
     ]
    },
    {
     "ename": "ValueError",
     "evalue": "This solver needs samples of at least 2 classes in the data, but the data contains only one class: 1.0",
     "output_type": "error",
     "traceback": [
      "\u001b[0;31m---------------------------------------------------------------------------\u001b[0m",
      "\u001b[0;31mValueError\u001b[0m                                Traceback (most recent call last)",
      "\u001b[0;32m<ipython-input-73-455c41ecf7e4>\u001b[0m in \u001b[0;36m<module>\u001b[0;34m\u001b[0m\n\u001b[1;32m     10\u001b[0m \u001b[0;34m\u001b[0m\u001b[0m\n\u001b[1;32m     11\u001b[0m \u001b[0;31m# Create predictions using cross validation\u001b[0m\u001b[0;34m\u001b[0m\u001b[0;34m\u001b[0m\u001b[0;34m\u001b[0m\u001b[0m\n\u001b[0;32m---> 12\u001b[0;31m \u001b[0mpredictions_lr\u001b[0m \u001b[0;34m=\u001b[0m \u001b[0mcross_val_predict\u001b[0m\u001b[0;34m(\u001b[0m\u001b[0mlr\u001b[0m\u001b[0;34m,\u001b[0m \u001b[0mfeatures\u001b[0m\u001b[0;34m,\u001b[0m \u001b[0mtarget\u001b[0m\u001b[0;34m,\u001b[0m \u001b[0mcv\u001b[0m\u001b[0;34m=\u001b[0m\u001b[0mkf\u001b[0m\u001b[0;34m)\u001b[0m\u001b[0;34m\u001b[0m\u001b[0;34m\u001b[0m\u001b[0m\n\u001b[0m",
      "\u001b[0;32m~/anaconda3/lib/python3.7/site-packages/sklearn/model_selection/_validation.py\u001b[0m in \u001b[0;36mcross_val_predict\u001b[0;34m(estimator, X, y, groups, cv, n_jobs, verbose, fit_params, pre_dispatch, method)\u001b[0m\n\u001b[1;32m    787\u001b[0m     prediction_blocks = parallel(delayed(_fit_and_predict)(\n\u001b[1;32m    788\u001b[0m         clone(estimator), X, y, train, test, verbose, fit_params, method)\n\u001b[0;32m--> 789\u001b[0;31m         for train, test in cv.split(X, y, groups))\n\u001b[0m\u001b[1;32m    790\u001b[0m \u001b[0;34m\u001b[0m\u001b[0m\n\u001b[1;32m    791\u001b[0m     \u001b[0;31m# Concatenate the predictions\u001b[0m\u001b[0;34m\u001b[0m\u001b[0;34m\u001b[0m\u001b[0;34m\u001b[0m\u001b[0m\n",
      "\u001b[0;32m~/anaconda3/lib/python3.7/site-packages/joblib/parallel.py\u001b[0m in \u001b[0;36m__call__\u001b[0;34m(self, iterable)\u001b[0m\n\u001b[1;32m    919\u001b[0m             \u001b[0;31m# remaining jobs.\u001b[0m\u001b[0;34m\u001b[0m\u001b[0;34m\u001b[0m\u001b[0;34m\u001b[0m\u001b[0m\n\u001b[1;32m    920\u001b[0m             \u001b[0mself\u001b[0m\u001b[0;34m.\u001b[0m\u001b[0m_iterating\u001b[0m \u001b[0;34m=\u001b[0m \u001b[0;32mFalse\u001b[0m\u001b[0;34m\u001b[0m\u001b[0;34m\u001b[0m\u001b[0m\n\u001b[0;32m--> 921\u001b[0;31m             \u001b[0;32mif\u001b[0m \u001b[0mself\u001b[0m\u001b[0;34m.\u001b[0m\u001b[0mdispatch_one_batch\u001b[0m\u001b[0;34m(\u001b[0m\u001b[0miterator\u001b[0m\u001b[0;34m)\u001b[0m\u001b[0;34m:\u001b[0m\u001b[0;34m\u001b[0m\u001b[0;34m\u001b[0m\u001b[0m\n\u001b[0m\u001b[1;32m    922\u001b[0m                 \u001b[0mself\u001b[0m\u001b[0;34m.\u001b[0m\u001b[0m_iterating\u001b[0m \u001b[0;34m=\u001b[0m \u001b[0mself\u001b[0m\u001b[0;34m.\u001b[0m\u001b[0m_original_iterator\u001b[0m \u001b[0;32mis\u001b[0m \u001b[0;32mnot\u001b[0m \u001b[0;32mNone\u001b[0m\u001b[0;34m\u001b[0m\u001b[0;34m\u001b[0m\u001b[0m\n\u001b[1;32m    923\u001b[0m \u001b[0;34m\u001b[0m\u001b[0m\n",
      "\u001b[0;32m~/anaconda3/lib/python3.7/site-packages/joblib/parallel.py\u001b[0m in \u001b[0;36mdispatch_one_batch\u001b[0;34m(self, iterator)\u001b[0m\n\u001b[1;32m    757\u001b[0m                 \u001b[0;32mreturn\u001b[0m \u001b[0;32mFalse\u001b[0m\u001b[0;34m\u001b[0m\u001b[0;34m\u001b[0m\u001b[0m\n\u001b[1;32m    758\u001b[0m             \u001b[0;32melse\u001b[0m\u001b[0;34m:\u001b[0m\u001b[0;34m\u001b[0m\u001b[0;34m\u001b[0m\u001b[0m\n\u001b[0;32m--> 759\u001b[0;31m                 \u001b[0mself\u001b[0m\u001b[0;34m.\u001b[0m\u001b[0m_dispatch\u001b[0m\u001b[0;34m(\u001b[0m\u001b[0mtasks\u001b[0m\u001b[0;34m)\u001b[0m\u001b[0;34m\u001b[0m\u001b[0;34m\u001b[0m\u001b[0m\n\u001b[0m\u001b[1;32m    760\u001b[0m                 \u001b[0;32mreturn\u001b[0m \u001b[0;32mTrue\u001b[0m\u001b[0;34m\u001b[0m\u001b[0;34m\u001b[0m\u001b[0m\n\u001b[1;32m    761\u001b[0m \u001b[0;34m\u001b[0m\u001b[0m\n",
      "\u001b[0;32m~/anaconda3/lib/python3.7/site-packages/joblib/parallel.py\u001b[0m in \u001b[0;36m_dispatch\u001b[0;34m(self, batch)\u001b[0m\n\u001b[1;32m    714\u001b[0m         \u001b[0;32mwith\u001b[0m \u001b[0mself\u001b[0m\u001b[0;34m.\u001b[0m\u001b[0m_lock\u001b[0m\u001b[0;34m:\u001b[0m\u001b[0;34m\u001b[0m\u001b[0;34m\u001b[0m\u001b[0m\n\u001b[1;32m    715\u001b[0m             \u001b[0mjob_idx\u001b[0m \u001b[0;34m=\u001b[0m \u001b[0mlen\u001b[0m\u001b[0;34m(\u001b[0m\u001b[0mself\u001b[0m\u001b[0;34m.\u001b[0m\u001b[0m_jobs\u001b[0m\u001b[0;34m)\u001b[0m\u001b[0;34m\u001b[0m\u001b[0;34m\u001b[0m\u001b[0m\n\u001b[0;32m--> 716\u001b[0;31m             \u001b[0mjob\u001b[0m \u001b[0;34m=\u001b[0m \u001b[0mself\u001b[0m\u001b[0;34m.\u001b[0m\u001b[0m_backend\u001b[0m\u001b[0;34m.\u001b[0m\u001b[0mapply_async\u001b[0m\u001b[0;34m(\u001b[0m\u001b[0mbatch\u001b[0m\u001b[0;34m,\u001b[0m \u001b[0mcallback\u001b[0m\u001b[0;34m=\u001b[0m\u001b[0mcb\u001b[0m\u001b[0;34m)\u001b[0m\u001b[0;34m\u001b[0m\u001b[0;34m\u001b[0m\u001b[0m\n\u001b[0m\u001b[1;32m    717\u001b[0m             \u001b[0;31m# A job can complete so quickly than its callback is\u001b[0m\u001b[0;34m\u001b[0m\u001b[0;34m\u001b[0m\u001b[0;34m\u001b[0m\u001b[0m\n\u001b[1;32m    718\u001b[0m             \u001b[0;31m# called before we get here, causing self._jobs to\u001b[0m\u001b[0;34m\u001b[0m\u001b[0;34m\u001b[0m\u001b[0;34m\u001b[0m\u001b[0m\n",
      "\u001b[0;32m~/anaconda3/lib/python3.7/site-packages/joblib/_parallel_backends.py\u001b[0m in \u001b[0;36mapply_async\u001b[0;34m(self, func, callback)\u001b[0m\n\u001b[1;32m    180\u001b[0m     \u001b[0;32mdef\u001b[0m \u001b[0mapply_async\u001b[0m\u001b[0;34m(\u001b[0m\u001b[0mself\u001b[0m\u001b[0;34m,\u001b[0m \u001b[0mfunc\u001b[0m\u001b[0;34m,\u001b[0m \u001b[0mcallback\u001b[0m\u001b[0;34m=\u001b[0m\u001b[0;32mNone\u001b[0m\u001b[0;34m)\u001b[0m\u001b[0;34m:\u001b[0m\u001b[0;34m\u001b[0m\u001b[0;34m\u001b[0m\u001b[0m\n\u001b[1;32m    181\u001b[0m         \u001b[0;34m\"\"\"Schedule a func to be run\"\"\"\u001b[0m\u001b[0;34m\u001b[0m\u001b[0;34m\u001b[0m\u001b[0m\n\u001b[0;32m--> 182\u001b[0;31m         \u001b[0mresult\u001b[0m \u001b[0;34m=\u001b[0m \u001b[0mImmediateResult\u001b[0m\u001b[0;34m(\u001b[0m\u001b[0mfunc\u001b[0m\u001b[0;34m)\u001b[0m\u001b[0;34m\u001b[0m\u001b[0;34m\u001b[0m\u001b[0m\n\u001b[0m\u001b[1;32m    183\u001b[0m         \u001b[0;32mif\u001b[0m \u001b[0mcallback\u001b[0m\u001b[0;34m:\u001b[0m\u001b[0;34m\u001b[0m\u001b[0;34m\u001b[0m\u001b[0m\n\u001b[1;32m    184\u001b[0m             \u001b[0mcallback\u001b[0m\u001b[0;34m(\u001b[0m\u001b[0mresult\u001b[0m\u001b[0;34m)\u001b[0m\u001b[0;34m\u001b[0m\u001b[0;34m\u001b[0m\u001b[0m\n",
      "\u001b[0;32m~/anaconda3/lib/python3.7/site-packages/joblib/_parallel_backends.py\u001b[0m in \u001b[0;36m__init__\u001b[0;34m(self, batch)\u001b[0m\n\u001b[1;32m    547\u001b[0m         \u001b[0;31m# Don't delay the application, to avoid keeping the input\u001b[0m\u001b[0;34m\u001b[0m\u001b[0;34m\u001b[0m\u001b[0;34m\u001b[0m\u001b[0m\n\u001b[1;32m    548\u001b[0m         \u001b[0;31m# arguments in memory\u001b[0m\u001b[0;34m\u001b[0m\u001b[0;34m\u001b[0m\u001b[0;34m\u001b[0m\u001b[0m\n\u001b[0;32m--> 549\u001b[0;31m         \u001b[0mself\u001b[0m\u001b[0;34m.\u001b[0m\u001b[0mresults\u001b[0m \u001b[0;34m=\u001b[0m \u001b[0mbatch\u001b[0m\u001b[0;34m(\u001b[0m\u001b[0;34m)\u001b[0m\u001b[0;34m\u001b[0m\u001b[0;34m\u001b[0m\u001b[0m\n\u001b[0m\u001b[1;32m    550\u001b[0m \u001b[0;34m\u001b[0m\u001b[0m\n\u001b[1;32m    551\u001b[0m     \u001b[0;32mdef\u001b[0m \u001b[0mget\u001b[0m\u001b[0;34m(\u001b[0m\u001b[0mself\u001b[0m\u001b[0;34m)\u001b[0m\u001b[0;34m:\u001b[0m\u001b[0;34m\u001b[0m\u001b[0;34m\u001b[0m\u001b[0m\n",
      "\u001b[0;32m~/anaconda3/lib/python3.7/site-packages/joblib/parallel.py\u001b[0m in \u001b[0;36m__call__\u001b[0;34m(self)\u001b[0m\n\u001b[1;32m    223\u001b[0m         \u001b[0;32mwith\u001b[0m \u001b[0mparallel_backend\u001b[0m\u001b[0;34m(\u001b[0m\u001b[0mself\u001b[0m\u001b[0;34m.\u001b[0m\u001b[0m_backend\u001b[0m\u001b[0;34m,\u001b[0m \u001b[0mn_jobs\u001b[0m\u001b[0;34m=\u001b[0m\u001b[0mself\u001b[0m\u001b[0;34m.\u001b[0m\u001b[0m_n_jobs\u001b[0m\u001b[0;34m)\u001b[0m\u001b[0;34m:\u001b[0m\u001b[0;34m\u001b[0m\u001b[0;34m\u001b[0m\u001b[0m\n\u001b[1;32m    224\u001b[0m             return [func(*args, **kwargs)\n\u001b[0;32m--> 225\u001b[0;31m                     for func, args, kwargs in self.items]\n\u001b[0m\u001b[1;32m    226\u001b[0m \u001b[0;34m\u001b[0m\u001b[0m\n\u001b[1;32m    227\u001b[0m     \u001b[0;32mdef\u001b[0m \u001b[0m__len__\u001b[0m\u001b[0;34m(\u001b[0m\u001b[0mself\u001b[0m\u001b[0;34m)\u001b[0m\u001b[0;34m:\u001b[0m\u001b[0;34m\u001b[0m\u001b[0;34m\u001b[0m\u001b[0m\n",
      "\u001b[0;32m~/anaconda3/lib/python3.7/site-packages/joblib/parallel.py\u001b[0m in \u001b[0;36m<listcomp>\u001b[0;34m(.0)\u001b[0m\n\u001b[1;32m    223\u001b[0m         \u001b[0;32mwith\u001b[0m \u001b[0mparallel_backend\u001b[0m\u001b[0;34m(\u001b[0m\u001b[0mself\u001b[0m\u001b[0;34m.\u001b[0m\u001b[0m_backend\u001b[0m\u001b[0;34m,\u001b[0m \u001b[0mn_jobs\u001b[0m\u001b[0;34m=\u001b[0m\u001b[0mself\u001b[0m\u001b[0;34m.\u001b[0m\u001b[0m_n_jobs\u001b[0m\u001b[0;34m)\u001b[0m\u001b[0;34m:\u001b[0m\u001b[0;34m\u001b[0m\u001b[0;34m\u001b[0m\u001b[0m\n\u001b[1;32m    224\u001b[0m             return [func(*args, **kwargs)\n\u001b[0;32m--> 225\u001b[0;31m                     for func, args, kwargs in self.items]\n\u001b[0m\u001b[1;32m    226\u001b[0m \u001b[0;34m\u001b[0m\u001b[0m\n\u001b[1;32m    227\u001b[0m     \u001b[0;32mdef\u001b[0m \u001b[0m__len__\u001b[0m\u001b[0;34m(\u001b[0m\u001b[0mself\u001b[0m\u001b[0;34m)\u001b[0m\u001b[0;34m:\u001b[0m\u001b[0;34m\u001b[0m\u001b[0;34m\u001b[0m\u001b[0m\n",
      "\u001b[0;32m~/anaconda3/lib/python3.7/site-packages/sklearn/model_selection/_validation.py\u001b[0m in \u001b[0;36m_fit_and_predict\u001b[0;34m(estimator, X, y, train, test, verbose, fit_params, method)\u001b[0m\n\u001b[1;32m    874\u001b[0m         \u001b[0mestimator\u001b[0m\u001b[0;34m.\u001b[0m\u001b[0mfit\u001b[0m\u001b[0;34m(\u001b[0m\u001b[0mX_train\u001b[0m\u001b[0;34m,\u001b[0m \u001b[0;34m**\u001b[0m\u001b[0mfit_params\u001b[0m\u001b[0;34m)\u001b[0m\u001b[0;34m\u001b[0m\u001b[0;34m\u001b[0m\u001b[0m\n\u001b[1;32m    875\u001b[0m     \u001b[0;32melse\u001b[0m\u001b[0;34m:\u001b[0m\u001b[0;34m\u001b[0m\u001b[0;34m\u001b[0m\u001b[0m\n\u001b[0;32m--> 876\u001b[0;31m         \u001b[0mestimator\u001b[0m\u001b[0;34m.\u001b[0m\u001b[0mfit\u001b[0m\u001b[0;34m(\u001b[0m\u001b[0mX_train\u001b[0m\u001b[0;34m,\u001b[0m \u001b[0my_train\u001b[0m\u001b[0;34m,\u001b[0m \u001b[0;34m**\u001b[0m\u001b[0mfit_params\u001b[0m\u001b[0;34m)\u001b[0m\u001b[0;34m\u001b[0m\u001b[0;34m\u001b[0m\u001b[0m\n\u001b[0m\u001b[1;32m    877\u001b[0m     \u001b[0mfunc\u001b[0m \u001b[0;34m=\u001b[0m \u001b[0mgetattr\u001b[0m\u001b[0;34m(\u001b[0m\u001b[0mestimator\u001b[0m\u001b[0;34m,\u001b[0m \u001b[0mmethod\u001b[0m\u001b[0;34m)\u001b[0m\u001b[0;34m\u001b[0m\u001b[0;34m\u001b[0m\u001b[0m\n\u001b[1;32m    878\u001b[0m     \u001b[0mpredictions\u001b[0m \u001b[0;34m=\u001b[0m \u001b[0mfunc\u001b[0m\u001b[0;34m(\u001b[0m\u001b[0mX_test\u001b[0m\u001b[0;34m)\u001b[0m\u001b[0;34m\u001b[0m\u001b[0;34m\u001b[0m\u001b[0m\n",
      "\u001b[0;32m~/anaconda3/lib/python3.7/site-packages/sklearn/linear_model/logistic.py\u001b[0m in \u001b[0;36mfit\u001b[0;34m(self, X, y, sample_weight)\u001b[0m\n\u001b[1;32m   1547\u001b[0m                 \u001b[0mself\u001b[0m\u001b[0;34m.\u001b[0m\u001b[0mclass_weight\u001b[0m\u001b[0;34m,\u001b[0m \u001b[0mself\u001b[0m\u001b[0;34m.\u001b[0m\u001b[0mpenalty\u001b[0m\u001b[0;34m,\u001b[0m \u001b[0mself\u001b[0m\u001b[0;34m.\u001b[0m\u001b[0mdual\u001b[0m\u001b[0;34m,\u001b[0m \u001b[0mself\u001b[0m\u001b[0;34m.\u001b[0m\u001b[0mverbose\u001b[0m\u001b[0;34m,\u001b[0m\u001b[0;34m\u001b[0m\u001b[0;34m\u001b[0m\u001b[0m\n\u001b[1;32m   1548\u001b[0m                 \u001b[0mself\u001b[0m\u001b[0;34m.\u001b[0m\u001b[0mmax_iter\u001b[0m\u001b[0;34m,\u001b[0m \u001b[0mself\u001b[0m\u001b[0;34m.\u001b[0m\u001b[0mtol\u001b[0m\u001b[0;34m,\u001b[0m \u001b[0mself\u001b[0m\u001b[0;34m.\u001b[0m\u001b[0mrandom_state\u001b[0m\u001b[0;34m,\u001b[0m\u001b[0;34m\u001b[0m\u001b[0;34m\u001b[0m\u001b[0m\n\u001b[0;32m-> 1549\u001b[0;31m                 sample_weight=sample_weight)\n\u001b[0m\u001b[1;32m   1550\u001b[0m             \u001b[0mself\u001b[0m\u001b[0;34m.\u001b[0m\u001b[0mn_iter_\u001b[0m \u001b[0;34m=\u001b[0m \u001b[0mnp\u001b[0m\u001b[0;34m.\u001b[0m\u001b[0marray\u001b[0m\u001b[0;34m(\u001b[0m\u001b[0;34m[\u001b[0m\u001b[0mn_iter_\u001b[0m\u001b[0;34m]\u001b[0m\u001b[0;34m)\u001b[0m\u001b[0;34m\u001b[0m\u001b[0;34m\u001b[0m\u001b[0m\n\u001b[1;32m   1551\u001b[0m             \u001b[0;32mreturn\u001b[0m \u001b[0mself\u001b[0m\u001b[0;34m\u001b[0m\u001b[0;34m\u001b[0m\u001b[0m\n",
      "\u001b[0;32m~/anaconda3/lib/python3.7/site-packages/sklearn/svm/base.py\u001b[0m in \u001b[0;36m_fit_liblinear\u001b[0;34m(X, y, C, fit_intercept, intercept_scaling, class_weight, penalty, dual, verbose, max_iter, tol, random_state, multi_class, loss, epsilon, sample_weight)\u001b[0m\n\u001b[1;32m    877\u001b[0m             raise ValueError(\"This solver needs samples of at least 2 classes\"\n\u001b[1;32m    878\u001b[0m                              \u001b[0;34m\" in the data, but the data contains only one\"\u001b[0m\u001b[0;34m\u001b[0m\u001b[0;34m\u001b[0m\u001b[0m\n\u001b[0;32m--> 879\u001b[0;31m                              \" class: %r\" % classes_[0])\n\u001b[0m\u001b[1;32m    880\u001b[0m \u001b[0;34m\u001b[0m\u001b[0m\n\u001b[1;32m    881\u001b[0m         \u001b[0mclass_weight_\u001b[0m \u001b[0;34m=\u001b[0m \u001b[0mcompute_class_weight\u001b[0m\u001b[0;34m(\u001b[0m\u001b[0mclass_weight\u001b[0m\u001b[0;34m,\u001b[0m \u001b[0mclasses_\u001b[0m\u001b[0;34m,\u001b[0m \u001b[0my\u001b[0m\u001b[0;34m)\u001b[0m\u001b[0;34m\u001b[0m\u001b[0;34m\u001b[0m\u001b[0m\n",
      "\u001b[0;31mValueError\u001b[0m: This solver needs samples of at least 2 classes in the data, but the data contains only one class: 1.0"
     ]
    }
   ],
   "source": [
    "# Import cross_val_predict, KFold and LogisticRegression from 'sklearn'\n",
    "from sklearn.model_selection import cross_val_predict, KFold\n",
    "from sklearn.linear_model import LogisticRegression\n",
    "\n",
    "# Create Logistic Regression model\n",
    "lr = LogisticRegression(class_weight='balanced')\n",
    "\n",
    "# Create an instance of the KFold class\n",
    "kf = KFold(features.shape[0], random_state=1)\n",
    "\n",
    "# Create predictions using cross validation\n",
    "predictions_lr = cross_val_predict(lr, features, target, cv=kf)"
   ]
  },
  {
   "cell_type": "code",
   "execution_count": 61,
   "metadata": {},
   "outputs": [
    {
     "ename": "NameError",
     "evalue": "name 'predictions_lr' is not defined",
     "output_type": "error",
     "traceback": [
      "\u001b[0;31m---------------------------------------------------------------------------\u001b[0m",
      "\u001b[0;31mNameError\u001b[0m                                 Traceback (most recent call last)",
      "\u001b[0;32m<ipython-input-61-c37a5807c665>\u001b[0m in \u001b[0;36m<module>\u001b[0;34m\u001b[0m\n\u001b[1;32m      3\u001b[0m \u001b[0;34m\u001b[0m\u001b[0m\n\u001b[1;32m      4\u001b[0m \u001b[0;31m# Convert predictions and target to Numpy arrays\u001b[0m\u001b[0;34m\u001b[0m\u001b[0;34m\u001b[0m\u001b[0;34m\u001b[0m\u001b[0m\n\u001b[0;32m----> 5\u001b[0;31m \u001b[0mnp_predictions_lr\u001b[0m \u001b[0;34m=\u001b[0m \u001b[0mnp\u001b[0m\u001b[0;34m.\u001b[0m\u001b[0masarray\u001b[0m\u001b[0;34m(\u001b[0m\u001b[0mpredictions_lr\u001b[0m\u001b[0;34m)\u001b[0m\u001b[0;34m\u001b[0m\u001b[0;34m\u001b[0m\u001b[0m\n\u001b[0m\u001b[1;32m      6\u001b[0m \u001b[0mnp_target\u001b[0m \u001b[0;34m=\u001b[0m \u001b[0mtarget\u001b[0m\u001b[0;34m.\u001b[0m\u001b[0mas_matrix\u001b[0m\u001b[0;34m(\u001b[0m\u001b[0;34m)\u001b[0m\u001b[0;34m\u001b[0m\u001b[0;34m\u001b[0m\u001b[0m\n",
      "\u001b[0;31mNameError\u001b[0m: name 'predictions_lr' is not defined"
     ]
    }
   ],
   "source": [
    "# Import Numpy as np\n",
    "import numpy as np\n",
    "\n",
    "# Convert predictions and target to Numpy arrays\n",
    "np_predictions_lr = np.asarray(predictions_lr)\n",
    "np_target = target.as_matrix()"
   ]
  },
  {
   "cell_type": "code",
   "execution_count": 74,
   "metadata": {},
   "outputs": [
    {
     "ename": "NameError",
     "evalue": "name 'np_predictions_lr' is not defined",
     "output_type": "error",
     "traceback": [
      "\u001b[0;31m---------------------------------------------------------------------------\u001b[0m",
      "\u001b[0;31mNameError\u001b[0m                                 Traceback (most recent call last)",
      "\u001b[0;32m<ipython-input-74-acabde9a2f7d>\u001b[0m in \u001b[0;36m<module>\u001b[0;34m\u001b[0m\n\u001b[1;32m      1\u001b[0m \u001b[0;31m# Determine True Positive Count\u001b[0m\u001b[0;34m\u001b[0m\u001b[0;34m\u001b[0m\u001b[0;34m\u001b[0m\u001b[0m\n\u001b[0;32m----> 2\u001b[0;31m \u001b[0mtp_filter_lr\u001b[0m \u001b[0;34m=\u001b[0m \u001b[0;34m(\u001b[0m\u001b[0mnp_predictions_lr\u001b[0m \u001b[0;34m==\u001b[0m \u001b[0;36m1\u001b[0m\u001b[0;34m)\u001b[0m \u001b[0;34m&\u001b[0m \u001b[0;34m(\u001b[0m\u001b[0mnp_target\u001b[0m \u001b[0;34m==\u001b[0m \u001b[0;36m1\u001b[0m\u001b[0;34m)\u001b[0m\u001b[0;34m\u001b[0m\u001b[0;34m\u001b[0m\u001b[0m\n\u001b[0m\u001b[1;32m      3\u001b[0m \u001b[0mtp_lr\u001b[0m \u001b[0;34m=\u001b[0m \u001b[0mlen\u001b[0m\u001b[0;34m(\u001b[0m\u001b[0mnp_predictions_lr\u001b[0m\u001b[0;34m[\u001b[0m\u001b[0mtp_filter_lr\u001b[0m\u001b[0;34m]\u001b[0m\u001b[0;34m)\u001b[0m\u001b[0;34m\u001b[0m\u001b[0;34m\u001b[0m\u001b[0m\n\u001b[1;32m      4\u001b[0m \u001b[0;34m\u001b[0m\u001b[0m\n\u001b[1;32m      5\u001b[0m \u001b[0;31m# Determine False Negative Count\u001b[0m\u001b[0;34m\u001b[0m\u001b[0;34m\u001b[0m\u001b[0;34m\u001b[0m\u001b[0m\n",
      "\u001b[0;31mNameError\u001b[0m: name 'np_predictions_lr' is not defined"
     ]
    }
   ],
   "source": [
    "# Determine True Positive Count\n",
    "tp_filter_lr = (np_predictions_lr == 1) & (np_target == 1)\n",
    "tp_lr = len(np_predictions_lr[tp_filter_lr])\n",
    "\n",
    "# Determine False Negative Count\n",
    "fn_filter_lr = (np_predictions_lr == 0) & (np_target == 1)\n",
    "fn_lr = len(np_predictions_lr[fn_filter_lr])\n",
    "\n",
    "# Determine False Positive Count\n",
    "fp_filter_lr = (np_predictions_lr == 1) & (np_target == 0)\n",
    "fp_lr = len(np_predictions_lr[fp_filter_lr])\n",
    "\n",
    "# Determine True Negative Count\n",
    "tn_filter_lr = (np_predictions_lr == 0) & (np_target == 0)\n",
    "tn_lr = len(np_predictions_lr[tn_filter_lr])\n",
    "\n",
    "# Determine True Postive rate\n",
    "tpr_lr = tp_lr / (tp_lr + fn_lr)\n",
    "\n",
    "# Determine False Negative Rate\n",
    "fnr_lr = fn_lr / (fp_lr + tn_lr)\n",
    "\n",
    "# Print each count\n",
    "print(tp_lr)\n",
    "print(fn_lr)\n",
    "print(fp_lr)\n",
    "\n",
    "# Print each rate\n",
    "print(tpr_lr)\n",
    "print(fnr_lr)\n",
    "print(fpr_lr)"
   ]
  },
  {
   "cell_type": "code",
   "execution_count": 75,
   "metadata": {},
   "outputs": [],
   "source": [
    "### Random Forest"
   ]
  },
  {
   "cell_type": "code",
   "execution_count": 77,
   "metadata": {},
   "outputs": [
    {
     "ename": "ValueError",
     "evalue": "Class label 0 not present.",
     "output_type": "error",
     "traceback": [
      "\u001b[0;31m---------------------------------------------------------------------------\u001b[0m",
      "\u001b[0;31mValueError\u001b[0m                                Traceback (most recent call last)",
      "\u001b[0;32m<ipython-input-77-1f831a9105cb>\u001b[0m in \u001b[0;36m<module>\u001b[0;34m\u001b[0m\n\u001b[1;32m     12\u001b[0m \u001b[0;34m\u001b[0m\u001b[0m\n\u001b[1;32m     13\u001b[0m \u001b[0;31m# Create predictions using cross_validation\u001b[0m\u001b[0;34m\u001b[0m\u001b[0;34m\u001b[0m\u001b[0;34m\u001b[0m\u001b[0m\n\u001b[0;32m---> 14\u001b[0;31m \u001b[0mpredictions_rf\u001b[0m \u001b[0;34m=\u001b[0m \u001b[0mcross_val_predict\u001b[0m\u001b[0;34m(\u001b[0m\u001b[0mrf\u001b[0m\u001b[0;34m,\u001b[0m \u001b[0mfeatures\u001b[0m\u001b[0;34m,\u001b[0m \u001b[0mtarget\u001b[0m\u001b[0;34m,\u001b[0m \u001b[0mcv\u001b[0m \u001b[0;34m=\u001b[0m \u001b[0mkf\u001b[0m\u001b[0;34m)\u001b[0m\u001b[0;34m\u001b[0m\u001b[0;34m\u001b[0m\u001b[0m\n\u001b[0m\u001b[1;32m     15\u001b[0m \u001b[0;34m\u001b[0m\u001b[0m\n\u001b[1;32m     16\u001b[0m \u001b[0;31m# Convert predictions to Numpy array\u001b[0m\u001b[0;34m\u001b[0m\u001b[0;34m\u001b[0m\u001b[0;34m\u001b[0m\u001b[0m\n",
      "\u001b[0;32m~/anaconda3/lib/python3.7/site-packages/sklearn/model_selection/_validation.py\u001b[0m in \u001b[0;36mcross_val_predict\u001b[0;34m(estimator, X, y, groups, cv, n_jobs, verbose, fit_params, pre_dispatch, method)\u001b[0m\n\u001b[1;32m    787\u001b[0m     prediction_blocks = parallel(delayed(_fit_and_predict)(\n\u001b[1;32m    788\u001b[0m         clone(estimator), X, y, train, test, verbose, fit_params, method)\n\u001b[0;32m--> 789\u001b[0;31m         for train, test in cv.split(X, y, groups))\n\u001b[0m\u001b[1;32m    790\u001b[0m \u001b[0;34m\u001b[0m\u001b[0m\n\u001b[1;32m    791\u001b[0m     \u001b[0;31m# Concatenate the predictions\u001b[0m\u001b[0;34m\u001b[0m\u001b[0;34m\u001b[0m\u001b[0;34m\u001b[0m\u001b[0m\n",
      "\u001b[0;32m~/anaconda3/lib/python3.7/site-packages/joblib/parallel.py\u001b[0m in \u001b[0;36m__call__\u001b[0;34m(self, iterable)\u001b[0m\n\u001b[1;32m    919\u001b[0m             \u001b[0;31m# remaining jobs.\u001b[0m\u001b[0;34m\u001b[0m\u001b[0;34m\u001b[0m\u001b[0;34m\u001b[0m\u001b[0m\n\u001b[1;32m    920\u001b[0m             \u001b[0mself\u001b[0m\u001b[0;34m.\u001b[0m\u001b[0m_iterating\u001b[0m \u001b[0;34m=\u001b[0m \u001b[0;32mFalse\u001b[0m\u001b[0;34m\u001b[0m\u001b[0;34m\u001b[0m\u001b[0m\n\u001b[0;32m--> 921\u001b[0;31m             \u001b[0;32mif\u001b[0m \u001b[0mself\u001b[0m\u001b[0;34m.\u001b[0m\u001b[0mdispatch_one_batch\u001b[0m\u001b[0;34m(\u001b[0m\u001b[0miterator\u001b[0m\u001b[0;34m)\u001b[0m\u001b[0;34m:\u001b[0m\u001b[0;34m\u001b[0m\u001b[0;34m\u001b[0m\u001b[0m\n\u001b[0m\u001b[1;32m    922\u001b[0m                 \u001b[0mself\u001b[0m\u001b[0;34m.\u001b[0m\u001b[0m_iterating\u001b[0m \u001b[0;34m=\u001b[0m \u001b[0mself\u001b[0m\u001b[0;34m.\u001b[0m\u001b[0m_original_iterator\u001b[0m \u001b[0;32mis\u001b[0m \u001b[0;32mnot\u001b[0m \u001b[0;32mNone\u001b[0m\u001b[0;34m\u001b[0m\u001b[0;34m\u001b[0m\u001b[0m\n\u001b[1;32m    923\u001b[0m \u001b[0;34m\u001b[0m\u001b[0m\n",
      "\u001b[0;32m~/anaconda3/lib/python3.7/site-packages/joblib/parallel.py\u001b[0m in \u001b[0;36mdispatch_one_batch\u001b[0;34m(self, iterator)\u001b[0m\n\u001b[1;32m    757\u001b[0m                 \u001b[0;32mreturn\u001b[0m \u001b[0;32mFalse\u001b[0m\u001b[0;34m\u001b[0m\u001b[0;34m\u001b[0m\u001b[0m\n\u001b[1;32m    758\u001b[0m             \u001b[0;32melse\u001b[0m\u001b[0;34m:\u001b[0m\u001b[0;34m\u001b[0m\u001b[0;34m\u001b[0m\u001b[0m\n\u001b[0;32m--> 759\u001b[0;31m                 \u001b[0mself\u001b[0m\u001b[0;34m.\u001b[0m\u001b[0m_dispatch\u001b[0m\u001b[0;34m(\u001b[0m\u001b[0mtasks\u001b[0m\u001b[0;34m)\u001b[0m\u001b[0;34m\u001b[0m\u001b[0;34m\u001b[0m\u001b[0m\n\u001b[0m\u001b[1;32m    760\u001b[0m                 \u001b[0;32mreturn\u001b[0m \u001b[0;32mTrue\u001b[0m\u001b[0;34m\u001b[0m\u001b[0;34m\u001b[0m\u001b[0m\n\u001b[1;32m    761\u001b[0m \u001b[0;34m\u001b[0m\u001b[0m\n",
      "\u001b[0;32m~/anaconda3/lib/python3.7/site-packages/joblib/parallel.py\u001b[0m in \u001b[0;36m_dispatch\u001b[0;34m(self, batch)\u001b[0m\n\u001b[1;32m    714\u001b[0m         \u001b[0;32mwith\u001b[0m \u001b[0mself\u001b[0m\u001b[0;34m.\u001b[0m\u001b[0m_lock\u001b[0m\u001b[0;34m:\u001b[0m\u001b[0;34m\u001b[0m\u001b[0;34m\u001b[0m\u001b[0m\n\u001b[1;32m    715\u001b[0m             \u001b[0mjob_idx\u001b[0m \u001b[0;34m=\u001b[0m \u001b[0mlen\u001b[0m\u001b[0;34m(\u001b[0m\u001b[0mself\u001b[0m\u001b[0;34m.\u001b[0m\u001b[0m_jobs\u001b[0m\u001b[0;34m)\u001b[0m\u001b[0;34m\u001b[0m\u001b[0;34m\u001b[0m\u001b[0m\n\u001b[0;32m--> 716\u001b[0;31m             \u001b[0mjob\u001b[0m \u001b[0;34m=\u001b[0m \u001b[0mself\u001b[0m\u001b[0;34m.\u001b[0m\u001b[0m_backend\u001b[0m\u001b[0;34m.\u001b[0m\u001b[0mapply_async\u001b[0m\u001b[0;34m(\u001b[0m\u001b[0mbatch\u001b[0m\u001b[0;34m,\u001b[0m \u001b[0mcallback\u001b[0m\u001b[0;34m=\u001b[0m\u001b[0mcb\u001b[0m\u001b[0;34m)\u001b[0m\u001b[0;34m\u001b[0m\u001b[0;34m\u001b[0m\u001b[0m\n\u001b[0m\u001b[1;32m    717\u001b[0m             \u001b[0;31m# A job can complete so quickly than its callback is\u001b[0m\u001b[0;34m\u001b[0m\u001b[0;34m\u001b[0m\u001b[0;34m\u001b[0m\u001b[0m\n\u001b[1;32m    718\u001b[0m             \u001b[0;31m# called before we get here, causing self._jobs to\u001b[0m\u001b[0;34m\u001b[0m\u001b[0;34m\u001b[0m\u001b[0;34m\u001b[0m\u001b[0m\n",
      "\u001b[0;32m~/anaconda3/lib/python3.7/site-packages/joblib/_parallel_backends.py\u001b[0m in \u001b[0;36mapply_async\u001b[0;34m(self, func, callback)\u001b[0m\n\u001b[1;32m    180\u001b[0m     \u001b[0;32mdef\u001b[0m \u001b[0mapply_async\u001b[0m\u001b[0;34m(\u001b[0m\u001b[0mself\u001b[0m\u001b[0;34m,\u001b[0m \u001b[0mfunc\u001b[0m\u001b[0;34m,\u001b[0m \u001b[0mcallback\u001b[0m\u001b[0;34m=\u001b[0m\u001b[0;32mNone\u001b[0m\u001b[0;34m)\u001b[0m\u001b[0;34m:\u001b[0m\u001b[0;34m\u001b[0m\u001b[0;34m\u001b[0m\u001b[0m\n\u001b[1;32m    181\u001b[0m         \u001b[0;34m\"\"\"Schedule a func to be run\"\"\"\u001b[0m\u001b[0;34m\u001b[0m\u001b[0;34m\u001b[0m\u001b[0m\n\u001b[0;32m--> 182\u001b[0;31m         \u001b[0mresult\u001b[0m \u001b[0;34m=\u001b[0m \u001b[0mImmediateResult\u001b[0m\u001b[0;34m(\u001b[0m\u001b[0mfunc\u001b[0m\u001b[0;34m)\u001b[0m\u001b[0;34m\u001b[0m\u001b[0;34m\u001b[0m\u001b[0m\n\u001b[0m\u001b[1;32m    183\u001b[0m         \u001b[0;32mif\u001b[0m \u001b[0mcallback\u001b[0m\u001b[0;34m:\u001b[0m\u001b[0;34m\u001b[0m\u001b[0;34m\u001b[0m\u001b[0m\n\u001b[1;32m    184\u001b[0m             \u001b[0mcallback\u001b[0m\u001b[0;34m(\u001b[0m\u001b[0mresult\u001b[0m\u001b[0;34m)\u001b[0m\u001b[0;34m\u001b[0m\u001b[0;34m\u001b[0m\u001b[0m\n",
      "\u001b[0;32m~/anaconda3/lib/python3.7/site-packages/joblib/_parallel_backends.py\u001b[0m in \u001b[0;36m__init__\u001b[0;34m(self, batch)\u001b[0m\n\u001b[1;32m    547\u001b[0m         \u001b[0;31m# Don't delay the application, to avoid keeping the input\u001b[0m\u001b[0;34m\u001b[0m\u001b[0;34m\u001b[0m\u001b[0;34m\u001b[0m\u001b[0m\n\u001b[1;32m    548\u001b[0m         \u001b[0;31m# arguments in memory\u001b[0m\u001b[0;34m\u001b[0m\u001b[0;34m\u001b[0m\u001b[0;34m\u001b[0m\u001b[0m\n\u001b[0;32m--> 549\u001b[0;31m         \u001b[0mself\u001b[0m\u001b[0;34m.\u001b[0m\u001b[0mresults\u001b[0m \u001b[0;34m=\u001b[0m \u001b[0mbatch\u001b[0m\u001b[0;34m(\u001b[0m\u001b[0;34m)\u001b[0m\u001b[0;34m\u001b[0m\u001b[0;34m\u001b[0m\u001b[0m\n\u001b[0m\u001b[1;32m    550\u001b[0m \u001b[0;34m\u001b[0m\u001b[0m\n\u001b[1;32m    551\u001b[0m     \u001b[0;32mdef\u001b[0m \u001b[0mget\u001b[0m\u001b[0;34m(\u001b[0m\u001b[0mself\u001b[0m\u001b[0;34m)\u001b[0m\u001b[0;34m:\u001b[0m\u001b[0;34m\u001b[0m\u001b[0;34m\u001b[0m\u001b[0m\n",
      "\u001b[0;32m~/anaconda3/lib/python3.7/site-packages/joblib/parallel.py\u001b[0m in \u001b[0;36m__call__\u001b[0;34m(self)\u001b[0m\n\u001b[1;32m    223\u001b[0m         \u001b[0;32mwith\u001b[0m \u001b[0mparallel_backend\u001b[0m\u001b[0;34m(\u001b[0m\u001b[0mself\u001b[0m\u001b[0;34m.\u001b[0m\u001b[0m_backend\u001b[0m\u001b[0;34m,\u001b[0m \u001b[0mn_jobs\u001b[0m\u001b[0;34m=\u001b[0m\u001b[0mself\u001b[0m\u001b[0;34m.\u001b[0m\u001b[0m_n_jobs\u001b[0m\u001b[0;34m)\u001b[0m\u001b[0;34m:\u001b[0m\u001b[0;34m\u001b[0m\u001b[0;34m\u001b[0m\u001b[0m\n\u001b[1;32m    224\u001b[0m             return [func(*args, **kwargs)\n\u001b[0;32m--> 225\u001b[0;31m                     for func, args, kwargs in self.items]\n\u001b[0m\u001b[1;32m    226\u001b[0m \u001b[0;34m\u001b[0m\u001b[0m\n\u001b[1;32m    227\u001b[0m     \u001b[0;32mdef\u001b[0m \u001b[0m__len__\u001b[0m\u001b[0;34m(\u001b[0m\u001b[0mself\u001b[0m\u001b[0;34m)\u001b[0m\u001b[0;34m:\u001b[0m\u001b[0;34m\u001b[0m\u001b[0;34m\u001b[0m\u001b[0m\n",
      "\u001b[0;32m~/anaconda3/lib/python3.7/site-packages/joblib/parallel.py\u001b[0m in \u001b[0;36m<listcomp>\u001b[0;34m(.0)\u001b[0m\n\u001b[1;32m    223\u001b[0m         \u001b[0;32mwith\u001b[0m \u001b[0mparallel_backend\u001b[0m\u001b[0;34m(\u001b[0m\u001b[0mself\u001b[0m\u001b[0;34m.\u001b[0m\u001b[0m_backend\u001b[0m\u001b[0;34m,\u001b[0m \u001b[0mn_jobs\u001b[0m\u001b[0;34m=\u001b[0m\u001b[0mself\u001b[0m\u001b[0;34m.\u001b[0m\u001b[0m_n_jobs\u001b[0m\u001b[0;34m)\u001b[0m\u001b[0;34m:\u001b[0m\u001b[0;34m\u001b[0m\u001b[0;34m\u001b[0m\u001b[0m\n\u001b[1;32m    224\u001b[0m             return [func(*args, **kwargs)\n\u001b[0;32m--> 225\u001b[0;31m                     for func, args, kwargs in self.items]\n\u001b[0m\u001b[1;32m    226\u001b[0m \u001b[0;34m\u001b[0m\u001b[0m\n\u001b[1;32m    227\u001b[0m     \u001b[0;32mdef\u001b[0m \u001b[0m__len__\u001b[0m\u001b[0;34m(\u001b[0m\u001b[0mself\u001b[0m\u001b[0;34m)\u001b[0m\u001b[0;34m:\u001b[0m\u001b[0;34m\u001b[0m\u001b[0;34m\u001b[0m\u001b[0m\n",
      "\u001b[0;32m~/anaconda3/lib/python3.7/site-packages/sklearn/model_selection/_validation.py\u001b[0m in \u001b[0;36m_fit_and_predict\u001b[0;34m(estimator, X, y, train, test, verbose, fit_params, method)\u001b[0m\n\u001b[1;32m    874\u001b[0m         \u001b[0mestimator\u001b[0m\u001b[0;34m.\u001b[0m\u001b[0mfit\u001b[0m\u001b[0;34m(\u001b[0m\u001b[0mX_train\u001b[0m\u001b[0;34m,\u001b[0m \u001b[0;34m**\u001b[0m\u001b[0mfit_params\u001b[0m\u001b[0;34m)\u001b[0m\u001b[0;34m\u001b[0m\u001b[0;34m\u001b[0m\u001b[0m\n\u001b[1;32m    875\u001b[0m     \u001b[0;32melse\u001b[0m\u001b[0;34m:\u001b[0m\u001b[0;34m\u001b[0m\u001b[0;34m\u001b[0m\u001b[0m\n\u001b[0;32m--> 876\u001b[0;31m         \u001b[0mestimator\u001b[0m\u001b[0;34m.\u001b[0m\u001b[0mfit\u001b[0m\u001b[0;34m(\u001b[0m\u001b[0mX_train\u001b[0m\u001b[0;34m,\u001b[0m \u001b[0my_train\u001b[0m\u001b[0;34m,\u001b[0m \u001b[0;34m**\u001b[0m\u001b[0mfit_params\u001b[0m\u001b[0;34m)\u001b[0m\u001b[0;34m\u001b[0m\u001b[0;34m\u001b[0m\u001b[0m\n\u001b[0m\u001b[1;32m    877\u001b[0m     \u001b[0mfunc\u001b[0m \u001b[0;34m=\u001b[0m \u001b[0mgetattr\u001b[0m\u001b[0;34m(\u001b[0m\u001b[0mestimator\u001b[0m\u001b[0;34m,\u001b[0m \u001b[0mmethod\u001b[0m\u001b[0;34m)\u001b[0m\u001b[0;34m\u001b[0m\u001b[0;34m\u001b[0m\u001b[0m\n\u001b[1;32m    878\u001b[0m     \u001b[0mpredictions\u001b[0m \u001b[0;34m=\u001b[0m \u001b[0mfunc\u001b[0m\u001b[0;34m(\u001b[0m\u001b[0mX_test\u001b[0m\u001b[0;34m)\u001b[0m\u001b[0;34m\u001b[0m\u001b[0;34m\u001b[0m\u001b[0m\n",
      "\u001b[0;32m~/anaconda3/lib/python3.7/site-packages/sklearn/ensemble/forest.py\u001b[0m in \u001b[0;36mfit\u001b[0;34m(self, X, y, sample_weight)\u001b[0m\n\u001b[1;32m    273\u001b[0m         \u001b[0mself\u001b[0m\u001b[0;34m.\u001b[0m\u001b[0mn_outputs_\u001b[0m \u001b[0;34m=\u001b[0m \u001b[0my\u001b[0m\u001b[0;34m.\u001b[0m\u001b[0mshape\u001b[0m\u001b[0;34m[\u001b[0m\u001b[0;36m1\u001b[0m\u001b[0;34m]\u001b[0m\u001b[0;34m\u001b[0m\u001b[0;34m\u001b[0m\u001b[0m\n\u001b[1;32m    274\u001b[0m \u001b[0;34m\u001b[0m\u001b[0m\n\u001b[0;32m--> 275\u001b[0;31m         \u001b[0my\u001b[0m\u001b[0;34m,\u001b[0m \u001b[0mexpanded_class_weight\u001b[0m \u001b[0;34m=\u001b[0m \u001b[0mself\u001b[0m\u001b[0;34m.\u001b[0m\u001b[0m_validate_y_class_weight\u001b[0m\u001b[0;34m(\u001b[0m\u001b[0my\u001b[0m\u001b[0;34m)\u001b[0m\u001b[0;34m\u001b[0m\u001b[0;34m\u001b[0m\u001b[0m\n\u001b[0m\u001b[1;32m    276\u001b[0m \u001b[0;34m\u001b[0m\u001b[0m\n\u001b[1;32m    277\u001b[0m         \u001b[0;32mif\u001b[0m \u001b[0mgetattr\u001b[0m\u001b[0;34m(\u001b[0m\u001b[0my\u001b[0m\u001b[0;34m,\u001b[0m \u001b[0;34m\"dtype\"\u001b[0m\u001b[0;34m,\u001b[0m \u001b[0;32mNone\u001b[0m\u001b[0;34m)\u001b[0m \u001b[0;34m!=\u001b[0m \u001b[0mDOUBLE\u001b[0m \u001b[0;32mor\u001b[0m \u001b[0;32mnot\u001b[0m \u001b[0my\u001b[0m\u001b[0;34m.\u001b[0m\u001b[0mflags\u001b[0m\u001b[0;34m.\u001b[0m\u001b[0mcontiguous\u001b[0m\u001b[0;34m:\u001b[0m\u001b[0;34m\u001b[0m\u001b[0;34m\u001b[0m\u001b[0m\n",
      "\u001b[0;32m~/anaconda3/lib/python3.7/site-packages/sklearn/ensemble/forest.py\u001b[0m in \u001b[0;36m_validate_y_class_weight\u001b[0;34m(self, y)\u001b[0m\n\u001b[1;32m    519\u001b[0m                     \u001b[0mclass_weight\u001b[0m \u001b[0;34m=\u001b[0m \u001b[0mself\u001b[0m\u001b[0;34m.\u001b[0m\u001b[0mclass_weight\u001b[0m\u001b[0;34m\u001b[0m\u001b[0;34m\u001b[0m\u001b[0m\n\u001b[1;32m    520\u001b[0m                 expanded_class_weight = compute_sample_weight(class_weight,\n\u001b[0;32m--> 521\u001b[0;31m                                                               y_original)\n\u001b[0m\u001b[1;32m    522\u001b[0m \u001b[0;34m\u001b[0m\u001b[0m\n\u001b[1;32m    523\u001b[0m         \u001b[0;32mreturn\u001b[0m \u001b[0my\u001b[0m\u001b[0;34m,\u001b[0m \u001b[0mexpanded_class_weight\u001b[0m\u001b[0;34m\u001b[0m\u001b[0;34m\u001b[0m\u001b[0m\n",
      "\u001b[0;32m~/anaconda3/lib/python3.7/site-packages/sklearn/utils/class_weight.py\u001b[0m in \u001b[0;36mcompute_sample_weight\u001b[0;34m(class_weight, y, indices)\u001b[0m\n\u001b[1;32m    161\u001b[0m             weight_k = compute_class_weight(class_weight_k,\n\u001b[1;32m    162\u001b[0m                                             \u001b[0mclasses_full\u001b[0m\u001b[0;34m,\u001b[0m\u001b[0;34m\u001b[0m\u001b[0;34m\u001b[0m\u001b[0m\n\u001b[0;32m--> 163\u001b[0;31m                                             y_full)\n\u001b[0m\u001b[1;32m    164\u001b[0m \u001b[0;34m\u001b[0m\u001b[0m\n\u001b[1;32m    165\u001b[0m         \u001b[0mweight_k\u001b[0m \u001b[0;34m=\u001b[0m \u001b[0mweight_k\u001b[0m\u001b[0;34m[\u001b[0m\u001b[0mnp\u001b[0m\u001b[0;34m.\u001b[0m\u001b[0msearchsorted\u001b[0m\u001b[0;34m(\u001b[0m\u001b[0mclasses_full\u001b[0m\u001b[0;34m,\u001b[0m \u001b[0my_full\u001b[0m\u001b[0;34m)\u001b[0m\u001b[0;34m]\u001b[0m\u001b[0;34m\u001b[0m\u001b[0;34m\u001b[0m\u001b[0m\n",
      "\u001b[0;32m~/anaconda3/lib/python3.7/site-packages/sklearn/utils/class_weight.py\u001b[0m in \u001b[0;36mcompute_class_weight\u001b[0;34m(class_weight, classes, y)\u001b[0m\n\u001b[1;32m     63\u001b[0m             \u001b[0mi\u001b[0m \u001b[0;34m=\u001b[0m \u001b[0mnp\u001b[0m\u001b[0;34m.\u001b[0m\u001b[0msearchsorted\u001b[0m\u001b[0;34m(\u001b[0m\u001b[0mclasses\u001b[0m\u001b[0;34m,\u001b[0m \u001b[0mc\u001b[0m\u001b[0;34m)\u001b[0m\u001b[0;34m\u001b[0m\u001b[0;34m\u001b[0m\u001b[0m\n\u001b[1;32m     64\u001b[0m             \u001b[0;32mif\u001b[0m \u001b[0mi\u001b[0m \u001b[0;34m>=\u001b[0m \u001b[0mlen\u001b[0m\u001b[0;34m(\u001b[0m\u001b[0mclasses\u001b[0m\u001b[0;34m)\u001b[0m \u001b[0;32mor\u001b[0m \u001b[0mclasses\u001b[0m\u001b[0;34m[\u001b[0m\u001b[0mi\u001b[0m\u001b[0;34m]\u001b[0m \u001b[0;34m!=\u001b[0m \u001b[0mc\u001b[0m\u001b[0;34m:\u001b[0m\u001b[0;34m\u001b[0m\u001b[0;34m\u001b[0m\u001b[0m\n\u001b[0;32m---> 65\u001b[0;31m                 \u001b[0;32mraise\u001b[0m \u001b[0mValueError\u001b[0m\u001b[0;34m(\u001b[0m\u001b[0;34m\"Class label {} not present.\"\u001b[0m\u001b[0;34m.\u001b[0m\u001b[0mformat\u001b[0m\u001b[0;34m(\u001b[0m\u001b[0mc\u001b[0m\u001b[0;34m)\u001b[0m\u001b[0;34m)\u001b[0m\u001b[0;34m\u001b[0m\u001b[0;34m\u001b[0m\u001b[0m\n\u001b[0m\u001b[1;32m     66\u001b[0m             \u001b[0;32melse\u001b[0m\u001b[0;34m:\u001b[0m\u001b[0;34m\u001b[0m\u001b[0;34m\u001b[0m\u001b[0m\n\u001b[1;32m     67\u001b[0m                 \u001b[0mweight\u001b[0m\u001b[0;34m[\u001b[0m\u001b[0mi\u001b[0m\u001b[0;34m]\u001b[0m \u001b[0;34m=\u001b[0m \u001b[0mclass_weight\u001b[0m\u001b[0;34m[\u001b[0m\u001b[0mc\u001b[0m\u001b[0;34m]\u001b[0m\u001b[0;34m\u001b[0m\u001b[0;34m\u001b[0m\u001b[0m\n",
      "\u001b[0;31mValueError\u001b[0m: Class label 0 not present."
     ]
    }
   ],
   "source": [
    "# Import RandomForestClassifier from sklearn\n",
    "from sklearn.ensemble import RandomForestClassifier\n",
    "\n",
    "# Create penalty dictionary\n",
    "penalty = {\n",
    "    0: 100,\n",
    "    1: 1\n",
    "}\n",
    "\n",
    "# Create Random Forest Model\n",
    "rf = RandomForestClassifier(random_state = 1, n_estimators = 12, max_depth = 11, min_samples_leaf = 1, class_weight = penalty)\n",
    "\n",
    "# Create predictions using cross_validation\n",
    "predictions_rf = cross_val_predict(rf, features, target, cv = kf)\n",
    "\n",
    "# Convert predictions to Numpy array\n",
    "np_predictions_rf = np.asarray(predictions_rf)"
   ]
  },
  {
   "cell_type": "code",
   "execution_count": 78,
   "metadata": {},
   "outputs": [
    {
     "ename": "NameError",
     "evalue": "name 'np_predictions_rf' is not defined",
     "output_type": "error",
     "traceback": [
      "\u001b[0;31m---------------------------------------------------------------------------\u001b[0m",
      "\u001b[0;31mNameError\u001b[0m                                 Traceback (most recent call last)",
      "\u001b[0;32m<ipython-input-78-9a7672f32cd2>\u001b[0m in \u001b[0;36m<module>\u001b[0;34m\u001b[0m\n\u001b[1;32m      1\u001b[0m \u001b[0;31m# Determine True Positive count\u001b[0m\u001b[0;34m\u001b[0m\u001b[0;34m\u001b[0m\u001b[0;34m\u001b[0m\u001b[0m\n\u001b[0;32m----> 2\u001b[0;31m \u001b[0mtp_filter_rf\u001b[0m \u001b[0;34m=\u001b[0m \u001b[0;34m(\u001b[0m\u001b[0mnp_predictions_rf\u001b[0m \u001b[0;34m==\u001b[0m \u001b[0;36m1\u001b[0m\u001b[0;34m)\u001b[0m \u001b[0;34m&\u001b[0m \u001b[0;34m(\u001b[0m\u001b[0mnp_target\u001b[0m \u001b[0;34m==\u001b[0m \u001b[0;36m1\u001b[0m\u001b[0;34m)\u001b[0m\u001b[0;34m\u001b[0m\u001b[0;34m\u001b[0m\u001b[0m\n\u001b[0m\u001b[1;32m      3\u001b[0m \u001b[0mtp_rf\u001b[0m \u001b[0;34m=\u001b[0m \u001b[0mlen\u001b[0m\u001b[0;34m(\u001b[0m\u001b[0mnp_predictions_rf\u001b[0m\u001b[0;34m[\u001b[0m\u001b[0mtp_filter_rf\u001b[0m\u001b[0;34m]\u001b[0m\u001b[0;34m)\u001b[0m\u001b[0;34m\u001b[0m\u001b[0;34m\u001b[0m\u001b[0m\n\u001b[1;32m      4\u001b[0m \u001b[0;34m\u001b[0m\u001b[0m\n\u001b[1;32m      5\u001b[0m \u001b[0;31m# Determine False Negative count\u001b[0m\u001b[0;34m\u001b[0m\u001b[0;34m\u001b[0m\u001b[0;34m\u001b[0m\u001b[0m\n",
      "\u001b[0;31mNameError\u001b[0m: name 'np_predictions_rf' is not defined"
     ]
    }
   ],
   "source": [
    "# Determine True Positive count\n",
    "tp_filter_rf = (np_predictions_rf == 1) & (np_target == 1)\n",
    "tp_rf = len(np_predictions_rf[tp_filter_rf])\n",
    "\n",
    "# Determine False Negative count\n",
    "fn_filter_rf = (np_predictions_rf == 0) & (np_target == 1)\n",
    "fn_rf = len(np_predictions_rf[fn_filter_rf])\n",
    "\n",
    "# Determine False Positive count\n",
    "fp_filter_rf = (np_predictions_rf == 1) & (np_target == 0)\n",
    "fp_rf = len(np_predictions_rf[fp_filter_rf])\n",
    "\n",
    "# Determine True Negative count\n",
    "tn_filter_rf = (np_predictions_rf == 0) & (np_target == 0)\n",
    "tn_rf = len(np_predictions_rf[tn_filter_rf])\n",
    "\n",
    "# Determine True Positive rate\n",
    "tpr_rf = tp_rf / (tp_rf + fn_rf)\n",
    "\n",
    "# Determine False Negative rate\n",
    "fnr_rf = fn_rf / (fn_rf + tp_rf)\n",
    "\n",
    "# Determine False Positive rate\n",
    "fpr_rf = fp_rf / (fp_rf + tn_rf)\n",
    "\n",
    "# Print each count\n",
    "print(tp_rf)\n",
    "print(fn_rf)\n",
    "print(fp_rf)\n",
    "\n",
    "# Print each rate\n",
    "print(tpr_rf)\n",
    "print(fnr_rf)\n",
    "print(fpr_rf)"
   ]
  },
  {
   "cell_type": "code",
   "execution_count": 79,
   "metadata": {},
   "outputs": [],
   "source": [
    "# Create a new DataFrame from 'df_eligible' using 'num_col_hitters'\n",
    "new_data = df_eligible[num_cols_hitters]\n",
    "\n",
    "# Create a new features DataFrame\n",
    "new_features = new_data.drop(['playerID', 'nameFirst', 'nameLast', 'HoF'], axis = 1)"
   ]
  },
  {
   "cell_type": "code",
   "execution_count": 80,
   "metadata": {},
   "outputs": [
    {
     "ename": "ValueError",
     "evalue": "Class label 0 not present.",
     "output_type": "error",
     "traceback": [
      "\u001b[0;31m---------------------------------------------------------------------------\u001b[0m",
      "\u001b[0;31mValueError\u001b[0m                                Traceback (most recent call last)",
      "\u001b[0;32m<ipython-input-80-79e111bf88b9>\u001b[0m in \u001b[0;36m<module>\u001b[0;34m\u001b[0m\n\u001b[1;32m      1\u001b[0m \u001b[0;31m# Fit the Random Forest Model\u001b[0m\u001b[0;34m\u001b[0m\u001b[0;34m\u001b[0m\u001b[0;34m\u001b[0m\u001b[0m\n\u001b[0;32m----> 2\u001b[0;31m \u001b[0mrf\u001b[0m\u001b[0;34m.\u001b[0m\u001b[0mfit\u001b[0m\u001b[0;34m(\u001b[0m\u001b[0mfeatures\u001b[0m\u001b[0;34m,\u001b[0m \u001b[0mtarget\u001b[0m\u001b[0;34m)\u001b[0m\u001b[0;34m\u001b[0m\u001b[0;34m\u001b[0m\u001b[0m\n\u001b[0m\u001b[1;32m      3\u001b[0m \u001b[0;34m\u001b[0m\u001b[0m\n\u001b[1;32m      4\u001b[0m \u001b[0;31m# Estimate probabilities of Hall of Fame induction\u001b[0m\u001b[0;34m\u001b[0m\u001b[0;34m\u001b[0m\u001b[0;34m\u001b[0m\u001b[0m\n\u001b[1;32m      5\u001b[0m \u001b[0mprobabilities\u001b[0m \u001b[0;34m=\u001b[0m \u001b[0mrf\u001b[0m\u001b[0;34m.\u001b[0m\u001b[0mpredict_proba\u001b[0m\u001b[0;34m(\u001b[0m\u001b[0mnew_features\u001b[0m\u001b[0;34m)\u001b[0m\u001b[0;34m\u001b[0m\u001b[0;34m\u001b[0m\u001b[0m\n",
      "\u001b[0;32m~/anaconda3/lib/python3.7/site-packages/sklearn/ensemble/forest.py\u001b[0m in \u001b[0;36mfit\u001b[0;34m(self, X, y, sample_weight)\u001b[0m\n\u001b[1;32m    273\u001b[0m         \u001b[0mself\u001b[0m\u001b[0;34m.\u001b[0m\u001b[0mn_outputs_\u001b[0m \u001b[0;34m=\u001b[0m \u001b[0my\u001b[0m\u001b[0;34m.\u001b[0m\u001b[0mshape\u001b[0m\u001b[0;34m[\u001b[0m\u001b[0;36m1\u001b[0m\u001b[0;34m]\u001b[0m\u001b[0;34m\u001b[0m\u001b[0;34m\u001b[0m\u001b[0m\n\u001b[1;32m    274\u001b[0m \u001b[0;34m\u001b[0m\u001b[0m\n\u001b[0;32m--> 275\u001b[0;31m         \u001b[0my\u001b[0m\u001b[0;34m,\u001b[0m \u001b[0mexpanded_class_weight\u001b[0m \u001b[0;34m=\u001b[0m \u001b[0mself\u001b[0m\u001b[0;34m.\u001b[0m\u001b[0m_validate_y_class_weight\u001b[0m\u001b[0;34m(\u001b[0m\u001b[0my\u001b[0m\u001b[0;34m)\u001b[0m\u001b[0;34m\u001b[0m\u001b[0;34m\u001b[0m\u001b[0m\n\u001b[0m\u001b[1;32m    276\u001b[0m \u001b[0;34m\u001b[0m\u001b[0m\n\u001b[1;32m    277\u001b[0m         \u001b[0;32mif\u001b[0m \u001b[0mgetattr\u001b[0m\u001b[0;34m(\u001b[0m\u001b[0my\u001b[0m\u001b[0;34m,\u001b[0m \u001b[0;34m\"dtype\"\u001b[0m\u001b[0;34m,\u001b[0m \u001b[0;32mNone\u001b[0m\u001b[0;34m)\u001b[0m \u001b[0;34m!=\u001b[0m \u001b[0mDOUBLE\u001b[0m \u001b[0;32mor\u001b[0m \u001b[0;32mnot\u001b[0m \u001b[0my\u001b[0m\u001b[0;34m.\u001b[0m\u001b[0mflags\u001b[0m\u001b[0;34m.\u001b[0m\u001b[0mcontiguous\u001b[0m\u001b[0;34m:\u001b[0m\u001b[0;34m\u001b[0m\u001b[0;34m\u001b[0m\u001b[0m\n",
      "\u001b[0;32m~/anaconda3/lib/python3.7/site-packages/sklearn/ensemble/forest.py\u001b[0m in \u001b[0;36m_validate_y_class_weight\u001b[0;34m(self, y)\u001b[0m\n\u001b[1;32m    519\u001b[0m                     \u001b[0mclass_weight\u001b[0m \u001b[0;34m=\u001b[0m \u001b[0mself\u001b[0m\u001b[0;34m.\u001b[0m\u001b[0mclass_weight\u001b[0m\u001b[0;34m\u001b[0m\u001b[0;34m\u001b[0m\u001b[0m\n\u001b[1;32m    520\u001b[0m                 expanded_class_weight = compute_sample_weight(class_weight,\n\u001b[0;32m--> 521\u001b[0;31m                                                               y_original)\n\u001b[0m\u001b[1;32m    522\u001b[0m \u001b[0;34m\u001b[0m\u001b[0m\n\u001b[1;32m    523\u001b[0m         \u001b[0;32mreturn\u001b[0m \u001b[0my\u001b[0m\u001b[0;34m,\u001b[0m \u001b[0mexpanded_class_weight\u001b[0m\u001b[0;34m\u001b[0m\u001b[0;34m\u001b[0m\u001b[0m\n",
      "\u001b[0;32m~/anaconda3/lib/python3.7/site-packages/sklearn/utils/class_weight.py\u001b[0m in \u001b[0;36mcompute_sample_weight\u001b[0;34m(class_weight, y, indices)\u001b[0m\n\u001b[1;32m    161\u001b[0m             weight_k = compute_class_weight(class_weight_k,\n\u001b[1;32m    162\u001b[0m                                             \u001b[0mclasses_full\u001b[0m\u001b[0;34m,\u001b[0m\u001b[0;34m\u001b[0m\u001b[0;34m\u001b[0m\u001b[0m\n\u001b[0;32m--> 163\u001b[0;31m                                             y_full)\n\u001b[0m\u001b[1;32m    164\u001b[0m \u001b[0;34m\u001b[0m\u001b[0m\n\u001b[1;32m    165\u001b[0m         \u001b[0mweight_k\u001b[0m \u001b[0;34m=\u001b[0m \u001b[0mweight_k\u001b[0m\u001b[0;34m[\u001b[0m\u001b[0mnp\u001b[0m\u001b[0;34m.\u001b[0m\u001b[0msearchsorted\u001b[0m\u001b[0;34m(\u001b[0m\u001b[0mclasses_full\u001b[0m\u001b[0;34m,\u001b[0m \u001b[0my_full\u001b[0m\u001b[0;34m)\u001b[0m\u001b[0;34m]\u001b[0m\u001b[0;34m\u001b[0m\u001b[0;34m\u001b[0m\u001b[0m\n",
      "\u001b[0;32m~/anaconda3/lib/python3.7/site-packages/sklearn/utils/class_weight.py\u001b[0m in \u001b[0;36mcompute_class_weight\u001b[0;34m(class_weight, classes, y)\u001b[0m\n\u001b[1;32m     63\u001b[0m             \u001b[0mi\u001b[0m \u001b[0;34m=\u001b[0m \u001b[0mnp\u001b[0m\u001b[0;34m.\u001b[0m\u001b[0msearchsorted\u001b[0m\u001b[0;34m(\u001b[0m\u001b[0mclasses\u001b[0m\u001b[0;34m,\u001b[0m \u001b[0mc\u001b[0m\u001b[0;34m)\u001b[0m\u001b[0;34m\u001b[0m\u001b[0;34m\u001b[0m\u001b[0m\n\u001b[1;32m     64\u001b[0m             \u001b[0;32mif\u001b[0m \u001b[0mi\u001b[0m \u001b[0;34m>=\u001b[0m \u001b[0mlen\u001b[0m\u001b[0;34m(\u001b[0m\u001b[0mclasses\u001b[0m\u001b[0;34m)\u001b[0m \u001b[0;32mor\u001b[0m \u001b[0mclasses\u001b[0m\u001b[0;34m[\u001b[0m\u001b[0mi\u001b[0m\u001b[0;34m]\u001b[0m \u001b[0;34m!=\u001b[0m \u001b[0mc\u001b[0m\u001b[0;34m:\u001b[0m\u001b[0;34m\u001b[0m\u001b[0;34m\u001b[0m\u001b[0m\n\u001b[0;32m---> 65\u001b[0;31m                 \u001b[0;32mraise\u001b[0m \u001b[0mValueError\u001b[0m\u001b[0;34m(\u001b[0m\u001b[0;34m\"Class label {} not present.\"\u001b[0m\u001b[0;34m.\u001b[0m\u001b[0mformat\u001b[0m\u001b[0;34m(\u001b[0m\u001b[0mc\u001b[0m\u001b[0;34m)\u001b[0m\u001b[0;34m)\u001b[0m\u001b[0;34m\u001b[0m\u001b[0;34m\u001b[0m\u001b[0m\n\u001b[0m\u001b[1;32m     66\u001b[0m             \u001b[0;32melse\u001b[0m\u001b[0;34m:\u001b[0m\u001b[0;34m\u001b[0m\u001b[0;34m\u001b[0m\u001b[0m\n\u001b[1;32m     67\u001b[0m                 \u001b[0mweight\u001b[0m\u001b[0;34m[\u001b[0m\u001b[0mi\u001b[0m\u001b[0;34m]\u001b[0m \u001b[0;34m=\u001b[0m \u001b[0mclass_weight\u001b[0m\u001b[0;34m[\u001b[0m\u001b[0mc\u001b[0m\u001b[0;34m]\u001b[0m\u001b[0;34m\u001b[0m\u001b[0;34m\u001b[0m\u001b[0m\n",
      "\u001b[0;31mValueError\u001b[0m: Class label 0 not present."
     ]
    }
   ],
   "source": [
    "# Fit the Random Forest Model\n",
    "rf.fit(features, target)\n",
    "\n",
    "# Estimate probabilities of Hall of Fame induction\n",
    "probabilities = rf.predict_proba(new_features)"
   ]
  },
  {
   "cell_type": "code",
   "execution_count": 81,
   "metadata": {},
   "outputs": [
    {
     "ename": "NameError",
     "evalue": "name 'probabilities' is not defined",
     "output_type": "error",
     "traceback": [
      "\u001b[0;31m---------------------------------------------------------------------------\u001b[0m",
      "\u001b[0;31mNameError\u001b[0m                                 Traceback (most recent call last)",
      "\u001b[0;32m<ipython-input-81-8bb309cb7afe>\u001b[0m in \u001b[0;36m<module>\u001b[0;34m\u001b[0m\n\u001b[1;32m      1\u001b[0m \u001b[0;31m# Convert predictions to a DataFrame\u001b[0m\u001b[0;34m\u001b[0m\u001b[0;34m\u001b[0m\u001b[0;34m\u001b[0m\u001b[0m\n\u001b[0;32m----> 2\u001b[0;31m \u001b[0mhof_predictions\u001b[0m \u001b[0;34m=\u001b[0m \u001b[0mpd\u001b[0m\u001b[0;34m.\u001b[0m\u001b[0mDataFrame\u001b[0m\u001b[0;34m(\u001b[0m\u001b[0mprobabilities\u001b[0m\u001b[0;34m[\u001b[0m\u001b[0;34m:\u001b[0m\u001b[0;34m,\u001b[0m \u001b[0;36m1\u001b[0m\u001b[0;34m]\u001b[0m\u001b[0;34m)\u001b[0m\u001b[0;34m\u001b[0m\u001b[0;34m\u001b[0m\u001b[0m\n\u001b[0m\u001b[1;32m      3\u001b[0m \u001b[0;34m\u001b[0m\u001b[0m\n\u001b[1;32m      4\u001b[0m \u001b[0;31m# Sort the DataFrame (descending)\u001b[0m\u001b[0;34m\u001b[0m\u001b[0;34m\u001b[0m\u001b[0;34m\u001b[0m\u001b[0m\n\u001b[1;32m      5\u001b[0m \u001b[0mhof_predictions\u001b[0m \u001b[0;34m=\u001b[0m \u001b[0mhof_predictions\u001b[0m\u001b[0;34m.\u001b[0m\u001b[0msort_values\u001b[0m\u001b[0;34m(\u001b[0m\u001b[0;36m0\u001b[0m\u001b[0;34m,\u001b[0m \u001b[0mascending\u001b[0m \u001b[0;34m=\u001b[0m \u001b[0;32mFalse\u001b[0m\u001b[0;34m)\u001b[0m\u001b[0;34m\u001b[0m\u001b[0;34m\u001b[0m\u001b[0m\n",
      "\u001b[0;31mNameError\u001b[0m: name 'probabilities' is not defined"
     ]
    }
   ],
   "source": [
    "# Convert predictions to a DataFrame\n",
    "hof_predictions = pd.DataFrame(probabilities[:, 1])\n",
    "\n",
    "# Sort the DataFrame (descending)\n",
    "hof_predictions = hof_predictions.sort_values(0, ascending = False)\n",
    "\n",
    "hof_predictions['Probability'] = hof_predictions[0]\n",
    "\n",
    "# Print 50 highest probability HoF inductees from still eligible players\n",
    "for i, row in hof_predictions.head(50).iterrows():\n",
    "    prob = ' '.join(('HoF Probability = ', str(row['Probability'])))\n",
    "    print('')\n",
    "    print(prob)\n",
    "    print(new_data.iloc[i, 1:27])"
   ]
  },
  {
   "cell_type": "code",
   "execution_count": 82,
   "metadata": {},
   "outputs": [],
   "source": [
    "# It can be observed that in this tutorial \n",
    "# there are lot of missing steps\n",
    "# which is making it hard to implement.\n",
    "# The class labels were not defined\n",
    "# there was only one class label 1.0"
   ]
  },
  {
   "cell_type": "code",
   "execution_count": null,
   "metadata": {},
   "outputs": [],
   "source": []
  }
 ],
 "metadata": {
  "kernelspec": {
   "display_name": "Python 3",
   "language": "python",
   "name": "python3"
  },
  "language_info": {
   "codemirror_mode": {
    "name": "ipython",
    "version": 3
   },
   "file_extension": ".py",
   "mimetype": "text/x-python",
   "name": "python",
   "nbconvert_exporter": "python",
   "pygments_lexer": "ipython3",
   "version": "3.7.4"
  }
 },
 "nbformat": 4,
 "nbformat_minor": 2
}
