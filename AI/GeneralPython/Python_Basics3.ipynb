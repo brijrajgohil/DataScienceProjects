{
 "cells": [
  {
   "cell_type": "markdown",
   "metadata": {},
   "source": [
    "**Contains**\n",
    "1. Lists"
   ]
  },
  {
   "cell_type": "markdown",
   "metadata": {},
   "source": [
    "List is an interesting data structure. It's an ordered collections of elements, different data types could also be used for creating lists, and they are mutable.\n",
    "\n",
    "A lot of operations like append, insert, remove can be performed of lists. We can also extend two lists using 'extend()' method or just by using '+' operator. Lists can be deleted using \"del\".\n",
    "\n",
    "List can be sorted using \"sorted()\" function which is a general purpose function, while \"sort()\" is typically used for lists where we want the original list to change as well, while \"sorted()\" just return the sorted list where the orginal list remains unchanged.\n",
    "\n",
    "Lists can have multiple references, so while programming it's absolutely necessary to keep in check about these things, whether we want the actual list to change, or if a copy is required, we could perform a deep copy for experimental purposes, while the original list remains unchanged.\n",
    "\n",
    "We can split a string to a list using \"split()\" and vice-versa using \"join()\"."
   ]
  },
  {
   "cell_type": "code",
   "execution_count": 1,
   "metadata": {},
   "outputs": [],
   "source": [
    "# Lists"
   ]
  },
  {
   "cell_type": "code",
   "execution_count": 2,
   "metadata": {},
   "outputs": [
    {
     "name": "stdout",
     "output_type": "stream",
     "text": [
      "[1, 'ramu', 24, 1.24]\n"
     ]
    }
   ],
   "source": [
    "# List creation\n",
    "\n",
    "empty = []\n",
    "\n",
    "# list of strings\n",
    "list1 = ['one', 'two', 'three', 'four'] \n",
    "\n",
    "# list of integers\n",
    "list2 = [1, 2, 3, 4]\n",
    "\n",
    "# list of lists\n",
    "list3 = [[1, 2], [3, 4]]\n",
    "\n",
    "# list of different datatypes\n",
    "list4 = [1, 'ramu', 24, 1.24]\n",
    "\n",
    "print(list4)"
   ]
  },
  {
   "cell_type": "code",
   "execution_count": 3,
   "metadata": {},
   "outputs": [
    {
     "name": "stdout",
     "output_type": "stream",
     "text": [
      "4\n"
     ]
    }
   ],
   "source": [
    "# List length\n",
    "\n",
    "temp_list = ['one', 'two', 'three', 'four']\n",
    "\n",
    "# find length of a list\n",
    "print(len(temp_list))"
   ]
  },
  {
   "cell_type": "code",
   "execution_count": 4,
   "metadata": {},
   "outputs": [
    {
     "name": "stdout",
     "output_type": "stream",
     "text": [
      "['one', 'two', 'three', 'four', 'five']\n"
     ]
    }
   ],
   "source": [
    "# List append\n",
    "\n",
    "temp_list.append('five')\n",
    "\n",
    "print(temp_list)"
   ]
  },
  {
   "cell_type": "code",
   "execution_count": 5,
   "metadata": {},
   "outputs": [
    {
     "name": "stdout",
     "output_type": "stream",
     "text": [
      "['one', 'two', 'three', 'four']\n"
     ]
    }
   ],
   "source": [
    "# List insert\n",
    "\n",
    "temp_list = ['one', 'two', 'four']\n",
    "\n",
    "temp_list.insert(2, 'three')\n",
    "\n",
    "print(temp_list)"
   ]
  },
  {
   "cell_type": "code",
   "execution_count": 6,
   "metadata": {},
   "outputs": [
    {
     "name": "stdout",
     "output_type": "stream",
     "text": [
      "['one', 'three', 'four', 'two']\n"
     ]
    }
   ],
   "source": [
    "# List remove\n",
    "\n",
    "temp_list = ['one', 'two', 'three', 'four', 'two']\n",
    "\n",
    "temp_list.remove('two') # remove the first occurence\n",
    "\n",
    "print(temp_list)"
   ]
  },
  {
   "cell_type": "code",
   "execution_count": 7,
   "metadata": {},
   "outputs": [
    {
     "name": "stdout",
     "output_type": "stream",
     "text": [
      "['one', 'two', 'three', 'four', 'five', 'six']\n"
     ]
    }
   ],
   "source": [
    "# List append and extend\n",
    "\n",
    "temp_list = ['one', 'two', 'three', 'four']\n",
    "\n",
    "temp_list2 = ['five', 'six']\n",
    "\n",
    "# extend will join the temp_list and temp_list2\n",
    "\n",
    "temp_list.extend(temp_list2)\n",
    "\n",
    "print(temp_list)"
   ]
  },
  {
   "cell_type": "code",
   "execution_count": 9,
   "metadata": {},
   "outputs": [
    {
     "name": "stdout",
     "output_type": "stream",
     "text": [
      "['one', 'three', 'four', 'five']\n",
      "three\n",
      "['one', 'four', 'five']\n"
     ]
    }
   ],
   "source": [
    "# List delete\n",
    "\n",
    "temp_list = ['one', 'two', 'three', 'four', 'five']\n",
    "\n",
    "del temp_list[1]\n",
    "print(temp_list)\n",
    "\n",
    "# or we can use pop() method\n",
    "t = temp_list.pop(1)\n",
    "print(t)\n",
    "\n",
    "print(temp_list)"
   ]
  },
  {
   "cell_type": "code",
   "execution_count": 10,
   "metadata": {},
   "outputs": [
    {
     "name": "stdout",
     "output_type": "stream",
     "text": [
      "['one', 'two', 'four']\n"
     ]
    }
   ],
   "source": [
    "temp_list = ['one', 'two', 'three', 'four']\n",
    "\n",
    "temp_list.remove('three')\n",
    "\n",
    "print(temp_list)"
   ]
  },
  {
   "cell_type": "code",
   "execution_count": 11,
   "metadata": {},
   "outputs": [
    {
     "name": "stdout",
     "output_type": "stream",
     "text": [
      "Cool\n",
      "Very cool\n"
     ]
    }
   ],
   "source": [
    "# Keywords related to list\n",
    "\n",
    "temp_list = ['one', 'two', 'three', 'four']\n",
    "\n",
    "if 'two' in temp_list:\n",
    "    print('Cool')\n",
    "    \n",
    "if 'six' not in temp_list:\n",
    "    print('Very cool')"
   ]
  },
  {
   "cell_type": "code",
   "execution_count": 12,
   "metadata": {},
   "outputs": [
    {
     "name": "stdout",
     "output_type": "stream",
     "text": [
      "['four', 'three', 'two', 'one']\n"
     ]
    }
   ],
   "source": [
    "# List Reverse\n",
    "\n",
    "temp_list = ['one', 'two', 'three', 'four']\n",
    "\n",
    "temp_list.reverse()\n",
    "\n",
    "print(temp_list)"
   ]
  },
  {
   "cell_type": "code",
   "execution_count": 15,
   "metadata": {},
   "outputs": [
    {
     "name": "stdout",
     "output_type": "stream",
     "text": [
      "Sorted :  [1, 2, 3, 6, 8]\n",
      "Original :  [3, 1, 6, 2, 8]\n"
     ]
    }
   ],
   "source": [
    "# List Sorting\n",
    "nums = [3, 1, 6, 2, 8]\n",
    "\n",
    "sorted_nums = sorted(nums)\n",
    "\n",
    "print('Sorted : ', sorted_nums)\n",
    "\n",
    "# Original remains unchanged\n",
    "print('Original : ', nums)"
   ]
  },
  {
   "cell_type": "code",
   "execution_count": 17,
   "metadata": {},
   "outputs": [
    {
     "name": "stdout",
     "output_type": "stream",
     "text": [
      "Reverse sorted :  [8, 6, 3, 2, 1]\n",
      "Original :  [3, 1, 6, 2, 8]\n"
     ]
    }
   ],
   "source": [
    "# print the list in reverse sorted order\n",
    "print('Reverse sorted : ', sorted(nums, reverse = True))\n",
    "\n",
    "# original remains unchanged\n",
    "print('Original : ', nums)"
   ]
  },
  {
   "cell_type": "code",
   "execution_count": 18,
   "metadata": {},
   "outputs": [
    {
     "name": "stdout",
     "output_type": "stream",
     "text": [
      "Sorted :  [1, 4.2, 5, 5, 20]\n"
     ]
    }
   ],
   "source": [
    "temp_list = [1, 20, 5, 5, 4.2]\n",
    "\n",
    "# sort the list and change the original\n",
    "temp_list.sort()\n",
    "\n",
    "print('Sorted : ', temp_list)"
   ]
  },
  {
   "cell_type": "code",
   "execution_count": 19,
   "metadata": {},
   "outputs": [
    {
     "ename": "TypeError",
     "evalue": "'<' not supported between instances of 'str' and 'int'",
     "output_type": "error",
     "traceback": [
      "\u001b[0;31m---------------------------------------------------------------------------\u001b[0m",
      "\u001b[0;31mTypeError\u001b[0m                                 Traceback (most recent call last)",
      "\u001b[0;32m<ipython-input-19-7527cdf1731d>\u001b[0m in \u001b[0;36m<module>\u001b[0;34m\u001b[0m\n\u001b[1;32m      1\u001b[0m \u001b[0;31m# Gives error when sorting for diff data types\u001b[0m\u001b[0;34m\u001b[0m\u001b[0;34m\u001b[0m\u001b[0;34m\u001b[0m\u001b[0m\n\u001b[1;32m      2\u001b[0m \u001b[0mtemp_list\u001b[0m \u001b[0;34m=\u001b[0m \u001b[0;34m[\u001b[0m\u001b[0;36m1\u001b[0m\u001b[0;34m,\u001b[0m \u001b[0;36m20\u001b[0m\u001b[0;34m,\u001b[0m \u001b[0;34m'b'\u001b[0m\u001b[0;34m,\u001b[0m \u001b[0;36m5\u001b[0m\u001b[0;34m,\u001b[0m \u001b[0;34m'a'\u001b[0m\u001b[0;34m]\u001b[0m\u001b[0;34m\u001b[0m\u001b[0;34m\u001b[0m\u001b[0m\n\u001b[0;32m----> 3\u001b[0;31m \u001b[0mprint\u001b[0m\u001b[0;34m(\u001b[0m\u001b[0mtemp_list\u001b[0m\u001b[0;34m.\u001b[0m\u001b[0msort\u001b[0m\u001b[0;34m(\u001b[0m\u001b[0;34m)\u001b[0m\u001b[0;34m)\u001b[0m\u001b[0;34m\u001b[0m\u001b[0;34m\u001b[0m\u001b[0m\n\u001b[0m",
      "\u001b[0;31mTypeError\u001b[0m: '<' not supported between instances of 'str' and 'int'"
     ]
    }
   ],
   "source": [
    "# Gives error when sorting for diff data types\n",
    "temp_list = [1, 20, 'b', 5, 'a']\n",
    "print(temp_list.sort())"
   ]
  },
  {
   "cell_type": "code",
   "execution_count": 20,
   "metadata": {},
   "outputs": [
    {
     "name": "stdout",
     "output_type": "stream",
     "text": [
      "Original :  [1, 2, 3, 4, 5, 6]\n"
     ]
    }
   ],
   "source": [
    "# Lists having multiple references\n",
    "\n",
    "temp_list = [1, 2, 3, 4, 5]\n",
    "abc_temp = temp_list\n",
    "abc_temp.append(6)\n",
    "\n",
    "print('Original : ', temp_list)"
   ]
  },
  {
   "cell_type": "code",
   "execution_count": 22,
   "metadata": {},
   "outputs": [
    {
     "name": "stdout",
     "output_type": "stream",
     "text": [
      "['one', 'two', 'three', 'four', 'five']\n"
     ]
    }
   ],
   "source": [
    "# String split to create a list\n",
    "\n",
    "str1 = 'one,two,three,four,five'\n",
    "string_list = str1.split(',')\n",
    "print(string_list)"
   ]
  },
  {
   "cell_type": "code",
   "execution_count": 23,
   "metadata": {},
   "outputs": [
    {
     "name": "stdout",
     "output_type": "stream",
     "text": [
      "['This', 'is', 'python', 'practice.']\n"
     ]
    }
   ],
   "source": [
    "str1 = \"This is python practice.\"\n",
    "split_list = str1.split()\n",
    "print(split_list)"
   ]
  },
  {
   "cell_type": "code",
   "execution_count": 24,
   "metadata": {},
   "outputs": [
    {
     "name": "stdout",
     "output_type": "stream",
     "text": [
      "2\n",
      "3\n"
     ]
    }
   ],
   "source": [
    "# List indexing\n",
    "temp_list = [1, 2, 3, 4]\n",
    "print(temp_list[1])\n",
    "\n",
    "print(temp_list[-2])"
   ]
  },
  {
   "cell_type": "code",
   "execution_count": 26,
   "metadata": {},
   "outputs": [
    {
     "name": "stdout",
     "output_type": "stream",
     "text": [
      "[10, 20, 30, 40, 50, 60, 70, 80]\n",
      "[10, 20, 30, 40]\n"
     ]
    }
   ],
   "source": [
    "# List slicing\n",
    "nums = [10, 20, 30, 40, 50, 60, 70, 80]\n",
    "\n",
    "print(nums[:]) # prints every element\n",
    "\n",
    "print(nums[0:4]) # prints every element from 0 to 3 (4-1)"
   ]
  },
  {
   "cell_type": "code",
   "execution_count": 27,
   "metadata": {},
   "outputs": [
    {
     "name": "stdout",
     "output_type": "stream",
     "text": [
      "[10, 20, 30, 40, 50, 60, 70, 80]\n",
      "[10, 30, 50, 70]\n",
      "[30, 50, 70]\n"
     ]
    }
   ],
   "source": [
    "print(nums)\n",
    "\n",
    "# Print alternate elems\n",
    "print(nums[::2])\n",
    "\n",
    "# Print elements start from 2 with 2 as step size\n",
    "print(nums[2::2])"
   ]
  },
  {
   "cell_type": "code",
   "execution_count": 28,
   "metadata": {},
   "outputs": [
    {
     "name": "stdout",
     "output_type": "stream",
     "text": [
      "[1, 2, 3, 4, 'abc', 'cde', 'pqr', 'xyz']\n"
     ]
    }
   ],
   "source": [
    "# List extend using '+'\n",
    "temp_list = [1, 2, 3, 4]\n",
    "temp_list2 = ['abc', 'cde', 'pqr', 'xyz']\n",
    "\n",
    "temp_list12 = temp_list + temp_list2\n",
    "\n",
    "print(temp_list12)"
   ]
  },
  {
   "cell_type": "code",
   "execution_count": 29,
   "metadata": {},
   "outputs": [
    {
     "name": "stdout",
     "output_type": "stream",
     "text": [
      "2\n"
     ]
    }
   ],
   "source": [
    "# List count\n",
    "nums = [1, 2, 3, 1, 3, 4, 2, 5]\n",
    "\n",
    "# frequency of 1 in the list\n",
    "print(nums.count(1))"
   ]
  },
  {
   "cell_type": "code",
   "execution_count": 30,
   "metadata": {},
   "outputs": [
    {
     "name": "stdout",
     "output_type": "stream",
     "text": [
      "one\n",
      "two\n",
      "three\n",
      "four\n"
     ]
    }
   ],
   "source": [
    "# List looping\n",
    "\n",
    "temp_list = ['one', 'two', 'three', 'four']\n",
    "\n",
    "for elem in temp_list:\n",
    "    print(elem)"
   ]
  },
  {
   "cell_type": "code",
   "execution_count": 31,
   "metadata": {},
   "outputs": [],
   "source": [
    "# List comprehensions"
   ]
  },
  {
   "cell_type": "code",
   "execution_count": 32,
   "metadata": {},
   "outputs": [
    {
     "name": "stdout",
     "output_type": "stream",
     "text": [
      "[0, 1, 4, 9, 16, 25, 36, 49, 64, 81]\n"
     ]
    }
   ],
   "source": [
    "# Without comprehensions\n",
    "squares = []\n",
    "for i in range(10):\n",
    "    squares.append(i ** 2) # list append\n",
    "print(squares)"
   ]
  },
  {
   "cell_type": "code",
   "execution_count": 33,
   "metadata": {},
   "outputs": [
    {
     "name": "stdout",
     "output_type": "stream",
     "text": [
      "[0, 1, 4, 9, 16, 25, 36, 49, 64, 81]\n"
     ]
    }
   ],
   "source": [
    "# Using list comprehensions\n",
    "squares = [i ** 2 for i in range(10)]\n",
    "print(squares)"
   ]
  },
  {
   "cell_type": "code",
   "execution_count": 35,
   "metadata": {},
   "outputs": [
    {
     "name": "stdout",
     "output_type": "stream",
     "text": [
      "[1]\n",
      "[1, 5]\n",
      "[1, 5, 9]\n",
      "[2]\n",
      "[2, 6]\n",
      "[2, 6, 10]\n",
      "[3]\n",
      "[3, 7]\n",
      "[3, 7, 11]\n",
      "[4]\n",
      "[4, 8]\n",
      "[4, 8, 12]\n",
      "[[1, 5, 9], [2, 6, 10], [3, 7, 11], [4, 8, 12]]\n"
     ]
    }
   ],
   "source": [
    "# Nested List Comps\n",
    "\n",
    "matrix = [\n",
    "    [1, 2, 3, 4],\n",
    "    [5, 6, 7, 8],\n",
    "    [9, 10, 11, 12]\n",
    "]\n",
    "\n",
    "transposed = []\n",
    "for i in range(4):\n",
    "    lst = []\n",
    "    for row in matrix:\n",
    "        lst.append(row[i])\n",
    "        print(lst)\n",
    "    transposed.append(lst)\n",
    "\n",
    "print(transposed)\n",
    "    "
   ]
  },
  {
   "cell_type": "code",
   "execution_count": null,
   "metadata": {},
   "outputs": [],
   "source": []
  },
  {
   "cell_type": "code",
   "execution_count": 36,
   "metadata": {},
   "outputs": [],
   "source": [
    "# Tuples"
   ]
  },
  {
   "cell_type": "code",
   "execution_count": null,
   "metadata": {},
   "outputs": [],
   "source": [
    "# Tuple creation\n",
    "tup = () # empty tuple\n",
    "\n",
    "tup = (1, 2, 3) # tuple with integers\n",
    "print(tup)\n",
    "\n"
   ]
  },
  {
   "cell_type": "code",
   "execution_count": null,
   "metadata": {},
   "outputs": [],
   "source": []
  },
  {
   "cell_type": "code",
   "execution_count": null,
   "metadata": {},
   "outputs": [],
   "source": []
  },
  {
   "cell_type": "code",
   "execution_count": null,
   "metadata": {},
   "outputs": [],
   "source": []
  },
  {
   "cell_type": "code",
   "execution_count": null,
   "metadata": {},
   "outputs": [],
   "source": []
  },
  {
   "cell_type": "code",
   "execution_count": null,
   "metadata": {},
   "outputs": [],
   "source": []
  },
  {
   "cell_type": "code",
   "execution_count": null,
   "metadata": {},
   "outputs": [],
   "source": []
  },
  {
   "cell_type": "code",
   "execution_count": null,
   "metadata": {},
   "outputs": [],
   "source": []
  },
  {
   "cell_type": "code",
   "execution_count": null,
   "metadata": {},
   "outputs": [],
   "source": []
  },
  {
   "cell_type": "code",
   "execution_count": null,
   "metadata": {},
   "outputs": [],
   "source": []
  }
 ],
 "metadata": {
  "kernelspec": {
   "display_name": "Python 3",
   "language": "python",
   "name": "python3"
  },
  "language_info": {
   "codemirror_mode": {
    "name": "ipython",
    "version": 3
   },
   "file_extension": ".py",
   "mimetype": "text/x-python",
   "name": "python",
   "nbconvert_exporter": "python",
   "pygments_lexer": "ipython3",
   "version": "3.7.4"
  }
 },
 "nbformat": 4,
 "nbformat_minor": 2
}
