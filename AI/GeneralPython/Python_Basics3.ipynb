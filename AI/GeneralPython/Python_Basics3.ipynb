{
 "cells": [
  {
   "cell_type": "markdown",
   "metadata": {},
   "source": [
    "**Contains**\n",
    "1. Lists"
   ]
  },
  {
   "cell_type": "markdown",
   "metadata": {},
   "source": [
    "List is an interesting data structure. It's an ordered collections of elements, different data types could also be used for creating lists, and they are mutable.\n",
    "\n",
    "A lot of operations like append, insert, remove can be performed of lists. We can also extend two lists using 'extend()' method or just by using '+' operator. Lists can be deleted using \"del\".\n",
    "\n",
    "List can be sorted using \"sorted()\" function which is a general purpose function, while \"sort()\" is typically used for lists where we want the original list to change as well, while \"sorted()\" just return the sorted list where the orginal list remains unchanged.\n",
    "\n",
    "Lists can have multiple references, so while programming it's absolutely necessary to keep in check about these things, whether we want the actual list to change, or if a copy is required, we could perform a deep copy for experimental purposes, while the original list remains unchanged.\n",
    "\n",
    "We can split a string to a list using \"split()\" and vice-versa using \"join()\"."
   ]
  },
  {
   "cell_type": "code",
   "execution_count": 1,
   "metadata": {},
   "outputs": [],
   "source": [
    "# Lists"
   ]
  },
  {
   "cell_type": "code",
   "execution_count": 2,
   "metadata": {},
   "outputs": [
    {
     "name": "stdout",
     "output_type": "stream",
     "text": [
      "[1, 'ramu', 24, 1.24]\n"
     ]
    }
   ],
   "source": [
    "# List creation\n",
    "\n",
    "empty = []\n",
    "\n",
    "# list of strings\n",
    "list1 = ['one', 'two', 'three', 'four'] \n",
    "\n",
    "# list of integers\n",
    "list2 = [1, 2, 3, 4]\n",
    "\n",
    "# list of lists\n",
    "list3 = [[1, 2], [3, 4]]\n",
    "\n",
    "# list of different datatypes\n",
    "list4 = [1, 'ramu', 24, 1.24]\n",
    "\n",
    "print(list4)"
   ]
  },
  {
   "cell_type": "code",
   "execution_count": 3,
   "metadata": {},
   "outputs": [
    {
     "name": "stdout",
     "output_type": "stream",
     "text": [
      "4\n"
     ]
    }
   ],
   "source": [
    "# List length\n",
    "\n",
    "temp_list = ['one', 'two', 'three', 'four']\n",
    "\n",
    "# find length of a list\n",
    "print(len(temp_list))"
   ]
  },
  {
   "cell_type": "code",
   "execution_count": 4,
   "metadata": {},
   "outputs": [
    {
     "name": "stdout",
     "output_type": "stream",
     "text": [
      "['one', 'two', 'three', 'four', 'five']\n"
     ]
    }
   ],
   "source": [
    "# List append\n",
    "\n",
    "temp_list.append('five')\n",
    "\n",
    "print(temp_list)"
   ]
  },
  {
   "cell_type": "code",
   "execution_count": 5,
   "metadata": {},
   "outputs": [
    {
     "name": "stdout",
     "output_type": "stream",
     "text": [
      "['one', 'two', 'three', 'four']\n"
     ]
    }
   ],
   "source": [
    "# List insert\n",
    "\n",
    "temp_list = ['one', 'two', 'four']\n",
    "\n",
    "temp_list.insert(2, 'three')\n",
    "\n",
    "print(temp_list)"
   ]
  },
  {
   "cell_type": "code",
   "execution_count": 6,
   "metadata": {},
   "outputs": [
    {
     "name": "stdout",
     "output_type": "stream",
     "text": [
      "['one', 'three', 'four', 'two']\n"
     ]
    }
   ],
   "source": [
    "# List remove\n",
    "\n",
    "temp_list = ['one', 'two', 'three', 'four', 'two']\n",
    "\n",
    "temp_list.remove('two') # remove the first occurence\n",
    "\n",
    "print(temp_list)"
   ]
  },
  {
   "cell_type": "code",
   "execution_count": 7,
   "metadata": {},
   "outputs": [
    {
     "name": "stdout",
     "output_type": "stream",
     "text": [
      "['one', 'two', 'three', 'four', 'five', 'six']\n"
     ]
    }
   ],
   "source": [
    "# List append and extend\n",
    "\n",
    "temp_list = ['one', 'two', 'three', 'four']\n",
    "\n",
    "temp_list2 = ['five', 'six']\n",
    "\n",
    "# extend will join the temp_list and temp_list2\n",
    "\n",
    "temp_list.extend(temp_list2)\n",
    "\n",
    "print(temp_list)"
   ]
  },
  {
   "cell_type": "code",
   "execution_count": 9,
   "metadata": {},
   "outputs": [
    {
     "name": "stdout",
     "output_type": "stream",
     "text": [
      "['one', 'three', 'four', 'five']\n",
      "three\n",
      "['one', 'four', 'five']\n"
     ]
    }
   ],
   "source": [
    "# List delete\n",
    "\n",
    "temp_list = ['one', 'two', 'three', 'four', 'five']\n",
    "\n",
    "del temp_list[1]\n",
    "print(temp_list)\n",
    "\n",
    "# or we can use pop() method\n",
    "t = temp_list.pop(1)\n",
    "print(t)\n",
    "\n",
    "print(temp_list)"
   ]
  },
  {
   "cell_type": "code",
   "execution_count": 10,
   "metadata": {},
   "outputs": [
    {
     "name": "stdout",
     "output_type": "stream",
     "text": [
      "['one', 'two', 'four']\n"
     ]
    }
   ],
   "source": [
    "temp_list = ['one', 'two', 'three', 'four']\n",
    "\n",
    "temp_list.remove('three')\n",
    "\n",
    "print(temp_list)"
   ]
  },
  {
   "cell_type": "code",
   "execution_count": 11,
   "metadata": {},
   "outputs": [
    {
     "name": "stdout",
     "output_type": "stream",
     "text": [
      "Cool\n",
      "Very cool\n"
     ]
    }
   ],
   "source": [
    "# Keywords related to list\n",
    "\n",
    "temp_list = ['one', 'two', 'three', 'four']\n",
    "\n",
    "if 'two' in temp_list:\n",
    "    print('Cool')\n",
    "    \n",
    "if 'six' not in temp_list:\n",
    "    print('Very cool')"
   ]
  },
  {
   "cell_type": "code",
   "execution_count": 12,
   "metadata": {},
   "outputs": [
    {
     "name": "stdout",
     "output_type": "stream",
     "text": [
      "['four', 'three', 'two', 'one']\n"
     ]
    }
   ],
   "source": [
    "# List Reverse\n",
    "\n",
    "temp_list = ['one', 'two', 'three', 'four']\n",
    "\n",
    "temp_list.reverse()\n",
    "\n",
    "print(temp_list)"
   ]
  },
  {
   "cell_type": "code",
   "execution_count": 15,
   "metadata": {},
   "outputs": [
    {
     "name": "stdout",
     "output_type": "stream",
     "text": [
      "Sorted :  [1, 2, 3, 6, 8]\n",
      "Original :  [3, 1, 6, 2, 8]\n"
     ]
    }
   ],
   "source": [
    "# List Sorting\n",
    "nums = [3, 1, 6, 2, 8]\n",
    "\n",
    "sorted_nums = sorted(nums)\n",
    "\n",
    "print('Sorted : ', sorted_nums)\n",
    "\n",
    "# Original remains unchanged\n",
    "print('Original : ', nums)"
   ]
  },
  {
   "cell_type": "code",
   "execution_count": 17,
   "metadata": {},
   "outputs": [
    {
     "name": "stdout",
     "output_type": "stream",
     "text": [
      "Reverse sorted :  [8, 6, 3, 2, 1]\n",
      "Original :  [3, 1, 6, 2, 8]\n"
     ]
    }
   ],
   "source": [
    "# print the list in reverse sorted order\n",
    "print('Reverse sorted : ', sorted(nums, reverse = True))\n",
    "\n",
    "# original remains unchanged\n",
    "print('Original : ', nums)"
   ]
  },
  {
   "cell_type": "code",
   "execution_count": 18,
   "metadata": {},
   "outputs": [
    {
     "name": "stdout",
     "output_type": "stream",
     "text": [
      "Sorted :  [1, 4.2, 5, 5, 20]\n"
     ]
    }
   ],
   "source": [
    "temp_list = [1, 20, 5, 5, 4.2]\n",
    "\n",
    "# sort the list and change the original\n",
    "temp_list.sort()\n",
    "\n",
    "print('Sorted : ', temp_list)"
   ]
  },
  {
   "cell_type": "code",
   "execution_count": 19,
   "metadata": {},
   "outputs": [
    {
     "ename": "TypeError",
     "evalue": "'<' not supported between instances of 'str' and 'int'",
     "output_type": "error",
     "traceback": [
      "\u001b[0;31m---------------------------------------------------------------------------\u001b[0m",
      "\u001b[0;31mTypeError\u001b[0m                                 Traceback (most recent call last)",
      "\u001b[0;32m<ipython-input-19-7527cdf1731d>\u001b[0m in \u001b[0;36m<module>\u001b[0;34m\u001b[0m\n\u001b[1;32m      1\u001b[0m \u001b[0;31m# Gives error when sorting for diff data types\u001b[0m\u001b[0;34m\u001b[0m\u001b[0;34m\u001b[0m\u001b[0;34m\u001b[0m\u001b[0m\n\u001b[1;32m      2\u001b[0m \u001b[0mtemp_list\u001b[0m \u001b[0;34m=\u001b[0m \u001b[0;34m[\u001b[0m\u001b[0;36m1\u001b[0m\u001b[0;34m,\u001b[0m \u001b[0;36m20\u001b[0m\u001b[0;34m,\u001b[0m \u001b[0;34m'b'\u001b[0m\u001b[0;34m,\u001b[0m \u001b[0;36m5\u001b[0m\u001b[0;34m,\u001b[0m \u001b[0;34m'a'\u001b[0m\u001b[0;34m]\u001b[0m\u001b[0;34m\u001b[0m\u001b[0;34m\u001b[0m\u001b[0m\n\u001b[0;32m----> 3\u001b[0;31m \u001b[0mprint\u001b[0m\u001b[0;34m(\u001b[0m\u001b[0mtemp_list\u001b[0m\u001b[0;34m.\u001b[0m\u001b[0msort\u001b[0m\u001b[0;34m(\u001b[0m\u001b[0;34m)\u001b[0m\u001b[0;34m)\u001b[0m\u001b[0;34m\u001b[0m\u001b[0;34m\u001b[0m\u001b[0m\n\u001b[0m",
      "\u001b[0;31mTypeError\u001b[0m: '<' not supported between instances of 'str' and 'int'"
     ]
    }
   ],
   "source": [
    "# Gives error when sorting for diff data types\n",
    "temp_list = [1, 20, 'b', 5, 'a']\n",
    "print(temp_list.sort())"
   ]
  },
  {
   "cell_type": "code",
   "execution_count": 20,
   "metadata": {},
   "outputs": [
    {
     "name": "stdout",
     "output_type": "stream",
     "text": [
      "Original :  [1, 2, 3, 4, 5, 6]\n"
     ]
    }
   ],
   "source": [
    "# Lists having multiple references\n",
    "\n",
    "temp_list = [1, 2, 3, 4, 5]\n",
    "abc_temp = temp_list\n",
    "abc_temp.append(6)\n",
    "\n",
    "print('Original : ', temp_list)"
   ]
  },
  {
   "cell_type": "code",
   "execution_count": 22,
   "metadata": {},
   "outputs": [
    {
     "name": "stdout",
     "output_type": "stream",
     "text": [
      "['one', 'two', 'three', 'four', 'five']\n"
     ]
    }
   ],
   "source": [
    "# String split to create a list\n",
    "\n",
    "str1 = 'one,two,three,four,five'\n",
    "string_list = str1.split(',')\n",
    "print(string_list)"
   ]
  },
  {
   "cell_type": "code",
   "execution_count": 23,
   "metadata": {},
   "outputs": [
    {
     "name": "stdout",
     "output_type": "stream",
     "text": [
      "['This', 'is', 'python', 'practice.']\n"
     ]
    }
   ],
   "source": [
    "str1 = \"This is python practice.\"\n",
    "split_list = str1.split()\n",
    "print(split_list)"
   ]
  },
  {
   "cell_type": "code",
   "execution_count": 24,
   "metadata": {},
   "outputs": [
    {
     "name": "stdout",
     "output_type": "stream",
     "text": [
      "2\n",
      "3\n"
     ]
    }
   ],
   "source": [
    "# List indexing\n",
    "temp_list = [1, 2, 3, 4]\n",
    "print(temp_list[1])\n",
    "\n",
    "print(temp_list[-2])"
   ]
  },
  {
   "cell_type": "code",
   "execution_count": 26,
   "metadata": {},
   "outputs": [
    {
     "name": "stdout",
     "output_type": "stream",
     "text": [
      "[10, 20, 30, 40, 50, 60, 70, 80]\n",
      "[10, 20, 30, 40]\n"
     ]
    }
   ],
   "source": [
    "# List slicing\n",
    "nums = [10, 20, 30, 40, 50, 60, 70, 80]\n",
    "\n",
    "print(nums[:]) # prints every element\n",
    "\n",
    "print(nums[0:4]) # prints every element from 0 to 3 (4-1)"
   ]
  },
  {
   "cell_type": "code",
   "execution_count": 27,
   "metadata": {},
   "outputs": [
    {
     "name": "stdout",
     "output_type": "stream",
     "text": [
      "[10, 20, 30, 40, 50, 60, 70, 80]\n",
      "[10, 30, 50, 70]\n",
      "[30, 50, 70]\n"
     ]
    }
   ],
   "source": [
    "print(nums)\n",
    "\n",
    "# Print alternate elems\n",
    "print(nums[::2])\n",
    "\n",
    "# Print elements start from 2 with 2 as step size\n",
    "print(nums[2::2])"
   ]
  },
  {
   "cell_type": "code",
   "execution_count": 28,
   "metadata": {},
   "outputs": [
    {
     "name": "stdout",
     "output_type": "stream",
     "text": [
      "[1, 2, 3, 4, 'abc', 'cde', 'pqr', 'xyz']\n"
     ]
    }
   ],
   "source": [
    "# List extend using '+'\n",
    "temp_list = [1, 2, 3, 4]\n",
    "temp_list2 = ['abc', 'cde', 'pqr', 'xyz']\n",
    "\n",
    "temp_list12 = temp_list + temp_list2\n",
    "\n",
    "print(temp_list12)"
   ]
  },
  {
   "cell_type": "code",
   "execution_count": 29,
   "metadata": {},
   "outputs": [
    {
     "name": "stdout",
     "output_type": "stream",
     "text": [
      "2\n"
     ]
    }
   ],
   "source": [
    "# List count\n",
    "nums = [1, 2, 3, 1, 3, 4, 2, 5]\n",
    "\n",
    "# frequency of 1 in the list\n",
    "print(nums.count(1))"
   ]
  },
  {
   "cell_type": "code",
   "execution_count": 30,
   "metadata": {},
   "outputs": [
    {
     "name": "stdout",
     "output_type": "stream",
     "text": [
      "one\n",
      "two\n",
      "three\n",
      "four\n"
     ]
    }
   ],
   "source": [
    "# List looping\n",
    "\n",
    "temp_list = ['one', 'two', 'three', 'four']\n",
    "\n",
    "for elem in temp_list:\n",
    "    print(elem)"
   ]
  },
  {
   "cell_type": "code",
   "execution_count": 31,
   "metadata": {},
   "outputs": [],
   "source": [
    "# List comprehensions"
   ]
  },
  {
   "cell_type": "code",
   "execution_count": 32,
   "metadata": {},
   "outputs": [
    {
     "name": "stdout",
     "output_type": "stream",
     "text": [
      "[0, 1, 4, 9, 16, 25, 36, 49, 64, 81]\n"
     ]
    }
   ],
   "source": [
    "# Without comprehensions\n",
    "squares = []\n",
    "for i in range(10):\n",
    "    squares.append(i ** 2) # list append\n",
    "print(squares)"
   ]
  },
  {
   "cell_type": "code",
   "execution_count": 33,
   "metadata": {},
   "outputs": [
    {
     "name": "stdout",
     "output_type": "stream",
     "text": [
      "[0, 1, 4, 9, 16, 25, 36, 49, 64, 81]\n"
     ]
    }
   ],
   "source": [
    "# Using list comprehensions\n",
    "squares = [i ** 2 for i in range(10)]\n",
    "print(squares)"
   ]
  },
  {
   "cell_type": "code",
   "execution_count": 35,
   "metadata": {},
   "outputs": [
    {
     "name": "stdout",
     "output_type": "stream",
     "text": [
      "[1]\n",
      "[1, 5]\n",
      "[1, 5, 9]\n",
      "[2]\n",
      "[2, 6]\n",
      "[2, 6, 10]\n",
      "[3]\n",
      "[3, 7]\n",
      "[3, 7, 11]\n",
      "[4]\n",
      "[4, 8]\n",
      "[4, 8, 12]\n",
      "[[1, 5, 9], [2, 6, 10], [3, 7, 11], [4, 8, 12]]\n"
     ]
    }
   ],
   "source": [
    "# Nested List Comps\n",
    "\n",
    "matrix = [\n",
    "    [1, 2, 3, 4],\n",
    "    [5, 6, 7, 8],\n",
    "    [9, 10, 11, 12]\n",
    "]\n",
    "\n",
    "transposed = []\n",
    "for i in range(4):\n",
    "    lst = []\n",
    "    for row in matrix:\n",
    "        lst.append(row[i])\n",
    "        print(lst)\n",
    "    transposed.append(lst)\n",
    "\n",
    "print(transposed)\n",
    "    "
   ]
  },
  {
   "cell_type": "markdown",
   "metadata": {},
   "source": [
    "Tuples are very similar to lists, the only major difference is mutability,\n",
    "tuples are immutable.\n",
    "But there's one interest thing to look out for, if the tuple contains a mutable item in it, we can change it, for example a list.\n",
    "So if a tuple contains certain integers and a list, we can change the contents of the list."
   ]
  },
  {
   "cell_type": "code",
   "execution_count": 36,
   "metadata": {},
   "outputs": [],
   "source": [
    "# Tuples"
   ]
  },
  {
   "cell_type": "code",
   "execution_count": 37,
   "metadata": {},
   "outputs": [
    {
     "name": "stdout",
     "output_type": "stream",
     "text": [
      "(1, 2, 3)\n",
      "(1, 'abc', 30, 'xyz')\n",
      "(1, (2, 3, 4), [1, 'abc', 30, 'xyz'])\n"
     ]
    }
   ],
   "source": [
    "# Tuple creation\n",
    "tup = () # empty tuple\n",
    "\n",
    "tup = (1, 2, 3) # tuple with integers\n",
    "print(tup)\n",
    "\n",
    "tup = (1, 'abc', 30, 'xyz') # tuple with mixed data types\n",
    "print(tup)\n",
    "\n",
    "tup = (1, (2, 3, 4), [1, 'abc', 30, 'xyz']) # nested tuple\n",
    "print(tup)"
   ]
  },
  {
   "cell_type": "code",
   "execution_count": 38,
   "metadata": {},
   "outputs": [
    {
     "name": "stdout",
     "output_type": "stream",
     "text": [
      "cde\n"
     ]
    }
   ],
   "source": [
    "# Accessing elements in tuple\n",
    "\n",
    "temp_tup = ('abc', 'cde', 'pqr', 'xyz')\n",
    "print(temp_tup[1])"
   ]
  },
  {
   "cell_type": "code",
   "execution_count": 39,
   "metadata": {},
   "outputs": [
    {
     "name": "stdout",
     "output_type": "stream",
     "text": [
      "xyz\n"
     ]
    }
   ],
   "source": [
    "# -ve index\n",
    "print(temp_tup[-1])"
   ]
  },
  {
   "cell_type": "code",
   "execution_count": 40,
   "metadata": {},
   "outputs": [
    {
     "name": "stdout",
     "output_type": "stream",
     "text": [
      "('cde', 'pqr', 'xyz')\n"
     ]
    }
   ],
   "source": [
    "temp_tup = ('ABC', ('cde', 'pqr', 'xyz'))\n",
    "print(temp_tup[1])"
   ]
  },
  {
   "cell_type": "code",
   "execution_count": 41,
   "metadata": {},
   "outputs": [
    {
     "name": "stdout",
     "output_type": "stream",
     "text": [
      "(2, 3, 4)\n"
     ]
    }
   ],
   "source": [
    "# Slicing\n",
    "\n",
    "temp_tup = (1, 2, 3, 4, 5, 6)\n",
    "print(temp_tup[1:4])"
   ]
  },
  {
   "cell_type": "code",
   "execution_count": 45,
   "metadata": {},
   "outputs": [
    {
     "ename": "TypeError",
     "evalue": "'tuple' object does not support item assignment",
     "output_type": "error",
     "traceback": [
      "\u001b[0;31m---------------------------------------------------------------------------\u001b[0m",
      "\u001b[0;31mTypeError\u001b[0m                                 Traceback (most recent call last)",
      "\u001b[0;32m<ipython-input-45-c393bb52584b>\u001b[0m in \u001b[0;36m<module>\u001b[0;34m\u001b[0m\n\u001b[1;32m      2\u001b[0m \u001b[0;34m\u001b[0m\u001b[0m\n\u001b[1;32m      3\u001b[0m \u001b[0mtemp_tup\u001b[0m \u001b[0;34m=\u001b[0m \u001b[0;34m(\u001b[0m\u001b[0;36m1\u001b[0m\u001b[0;34m,\u001b[0m \u001b[0;36m2\u001b[0m\u001b[0;34m,\u001b[0m \u001b[0;36m3\u001b[0m\u001b[0;34m,\u001b[0m \u001b[0;36m4\u001b[0m\u001b[0;34m,\u001b[0m \u001b[0;34m[\u001b[0m\u001b[0;36m5\u001b[0m\u001b[0;34m,\u001b[0m \u001b[0;36m6\u001b[0m\u001b[0;34m,\u001b[0m \u001b[0;36m7\u001b[0m\u001b[0;34m]\u001b[0m\u001b[0;34m)\u001b[0m\u001b[0;34m\u001b[0m\u001b[0;34m\u001b[0m\u001b[0m\n\u001b[0;32m----> 4\u001b[0;31m \u001b[0mtemp_tup\u001b[0m\u001b[0;34m[\u001b[0m\u001b[0;36m2\u001b[0m\u001b[0;34m]\u001b[0m \u001b[0;34m=\u001b[0m \u001b[0;34m'x'\u001b[0m\u001b[0;34m\u001b[0m\u001b[0;34m\u001b[0m\u001b[0m\n\u001b[0m",
      "\u001b[0;31mTypeError\u001b[0m: 'tuple' object does not support item assignment"
     ]
    }
   ],
   "source": [
    "# Changing tuple\n",
    "\n",
    "temp_tup = (1, 2, 3, 4, [5, 6, 7])\n",
    "temp_tup[2] = 'x'"
   ]
  },
  {
   "cell_type": "code",
   "execution_count": 46,
   "metadata": {},
   "outputs": [
    {
     "name": "stdout",
     "output_type": "stream",
     "text": [
      "(1, 2, 3, 4, [5, 'abc', 7])\n"
     ]
    }
   ],
   "source": [
    "temp_tup[4][1] = 'abc'\n",
    "print(temp_tup)"
   ]
  },
  {
   "cell_type": "code",
   "execution_count": 47,
   "metadata": {},
   "outputs": [
    {
     "name": "stdout",
     "output_type": "stream",
     "text": [
      "(1, 2, 3, 4, 5, 6)\n"
     ]
    }
   ],
   "source": [
    "# Concatinationg tuples\n",
    "temp_tup = (1, 2, 3) + (4, 5, 6)\n",
    "print(temp_tup)"
   ]
  },
  {
   "cell_type": "code",
   "execution_count": 49,
   "metadata": {},
   "outputs": [
    {
     "data": {
      "text/plain": [
       "(1, 2, 3, 4, 5, 6)"
      ]
     },
     "execution_count": 49,
     "metadata": {},
     "output_type": "execute_result"
    }
   ],
   "source": [
    "# Experiment\n",
    "t1 = (1, 2, 3)\n",
    "t2 = (4, 5, 6)\n",
    "t1 = t1 + t2\n",
    "t1"
   ]
  },
  {
   "cell_type": "code",
   "execution_count": 50,
   "metadata": {},
   "outputs": [],
   "source": [
    "# Tuple Deletion\n",
    "del t1"
   ]
  },
  {
   "cell_type": "code",
   "execution_count": 52,
   "metadata": {},
   "outputs": [
    {
     "name": "stdout",
     "output_type": "stream",
     "text": [
      "1\n"
     ]
    }
   ],
   "source": [
    "# Tuple counting\n",
    "temp_t1 = (1, 2, 3, 1, 3, 3, 4, 1)\n",
    "\n",
    "print(temp_t1.count(4))"
   ]
  },
  {
   "cell_type": "code",
   "execution_count": 54,
   "metadata": {},
   "outputs": [
    {
     "name": "stdout",
     "output_type": "stream",
     "text": [
      "6\n"
     ]
    }
   ],
   "source": [
    "# Tuple index\n",
    "print(temp_t1.index(4))"
   ]
  },
  {
   "cell_type": "code",
   "execution_count": 55,
   "metadata": {},
   "outputs": [
    {
     "name": "stdout",
     "output_type": "stream",
     "text": [
      "True\n"
     ]
    }
   ],
   "source": [
    "# Tuple membership\n",
    "\n",
    "print(1 in temp_t1)"
   ]
  },
  {
   "cell_type": "code",
   "execution_count": 56,
   "metadata": {},
   "outputs": [
    {
     "name": "stdout",
     "output_type": "stream",
     "text": [
      "False\n"
     ]
    }
   ],
   "source": [
    "print(7 in temp_t1)"
   ]
  },
  {
   "cell_type": "code",
   "execution_count": 57,
   "metadata": {},
   "outputs": [
    {
     "name": "stdout",
     "output_type": "stream",
     "text": [
      "8\n"
     ]
    }
   ],
   "source": [
    "# Tuple length\n",
    "print(len(temp_t1))"
   ]
  },
  {
   "cell_type": "code",
   "execution_count": 59,
   "metadata": {},
   "outputs": [
    {
     "name": "stdout",
     "output_type": "stream",
     "text": [
      "[1, 2, 4, 4, 5]\n"
     ]
    }
   ],
   "source": [
    "# Tuple Sorting\n",
    "\n",
    "temp_tup = (4, 5, 1, 2, 4)\n",
    "\n",
    "new_tup = sorted(temp_tup)\n",
    "print(new_tup)"
   ]
  },
  {
   "cell_type": "code",
   "execution_count": 60,
   "metadata": {},
   "outputs": [
    {
     "name": "stdout",
     "output_type": "stream",
     "text": [
      "5\n"
     ]
    }
   ],
   "source": [
    "print(max(temp_tup))"
   ]
  },
  {
   "cell_type": "code",
   "execution_count": 61,
   "metadata": {},
   "outputs": [
    {
     "name": "stdout",
     "output_type": "stream",
     "text": [
      "1\n"
     ]
    }
   ],
   "source": [
    "print(min(temp_tup))"
   ]
  },
  {
   "cell_type": "code",
   "execution_count": 62,
   "metadata": {},
   "outputs": [
    {
     "name": "stdout",
     "output_type": "stream",
     "text": [
      "16\n"
     ]
    }
   ],
   "source": [
    "print(sum(temp_tup))"
   ]
  },
  {
   "cell_type": "markdown",
   "metadata": {},
   "source": [
    "Set is an unordered collection of items, we can add/remove items, hence they are mutable. We can perform a lot of operations on them such as union, intersection, difference, symmetric difference. Sets being mutable cannot be used as keys for dictionaries, while frozensets can be used for this purpose as they are immutable, once intialized cannot be changes, therefore they do not support functions such as add/remove. Both set and frozenset do not support indexing."
   ]
  },
  {
   "cell_type": "code",
   "execution_count": 1,
   "metadata": {},
   "outputs": [],
   "source": [
    "# Sets"
   ]
  },
  {
   "cell_type": "code",
   "execution_count": 2,
   "metadata": {},
   "outputs": [
    {
     "name": "stdout",
     "output_type": "stream",
     "text": [
      "{1, 2, 3}\n",
      "<class 'set'>\n"
     ]
    }
   ],
   "source": [
    "# Set creation\n",
    "\n",
    "temp_set = {1, 2, 3}\n",
    "print(temp_set)\n",
    "\n",
    "print(type(temp_set))"
   ]
  },
  {
   "cell_type": "code",
   "execution_count": 3,
   "metadata": {},
   "outputs": [
    {
     "name": "stdout",
     "output_type": "stream",
     "text": [
      "{1, 2, 3}\n"
     ]
    }
   ],
   "source": [
    "temp_set = set([1, 2, 3, 1])\n",
    "print(temp_set)"
   ]
  },
  {
   "cell_type": "code",
   "execution_count": 4,
   "metadata": {},
   "outputs": [
    {
     "name": "stdout",
     "output_type": "stream",
     "text": [
      "{1, 2, 3}\n"
     ]
    }
   ],
   "source": [
    "temp_set = set([1, 2, 3, 1])\n",
    "print(temp_set)"
   ]
  },
  {
   "cell_type": "code",
   "execution_count": 5,
   "metadata": {},
   "outputs": [
    {
     "ename": "TypeError",
     "evalue": "'set' object is not subscriptable",
     "output_type": "error",
     "traceback": [
      "\u001b[0;31m---------------------------------------------------------------------------\u001b[0m",
      "\u001b[0;31mTypeError\u001b[0m                                 Traceback (most recent call last)",
      "\u001b[0;32m<ipython-input-5-c217a340c3ad>\u001b[0m in \u001b[0;36m<module>\u001b[0;34m\u001b[0m\n\u001b[1;32m      3\u001b[0m \u001b[0mtemp_set\u001b[0m \u001b[0;34m=\u001b[0m \u001b[0;34m{\u001b[0m\u001b[0;36m1\u001b[0m\u001b[0;34m,\u001b[0m \u001b[0;36m3\u001b[0m\u001b[0;34m}\u001b[0m\u001b[0;34m\u001b[0m\u001b[0;34m\u001b[0m\u001b[0m\n\u001b[1;32m      4\u001b[0m \u001b[0;34m\u001b[0m\u001b[0m\n\u001b[0;32m----> 5\u001b[0;31m \u001b[0mprint\u001b[0m\u001b[0;34m(\u001b[0m\u001b[0mtemp_set\u001b[0m\u001b[0;34m[\u001b[0m\u001b[0;36m1\u001b[0m\u001b[0;34m]\u001b[0m\u001b[0;34m)\u001b[0m \u001b[0;31m# no support for indexing\u001b[0m\u001b[0;34m\u001b[0m\u001b[0;34m\u001b[0m\u001b[0m\n\u001b[0m",
      "\u001b[0;31mTypeError\u001b[0m: 'set' object is not subscriptable"
     ]
    }
   ],
   "source": [
    "# Add element to set\n",
    "\n",
    "temp_set = {1, 3}\n",
    "\n",
    "print(temp_set[1]) # no support for indexing"
   ]
  },
  {
   "cell_type": "code",
   "execution_count": 7,
   "metadata": {},
   "outputs": [
    {
     "name": "stdout",
     "output_type": "stream",
     "text": [
      "{1, 2, 3}\n"
     ]
    }
   ],
   "source": [
    "temp_set.add(2)\n",
    "print(temp_set)"
   ]
  },
  {
   "cell_type": "code",
   "execution_count": 8,
   "metadata": {},
   "outputs": [
    {
     "name": "stdout",
     "output_type": "stream",
     "text": [
      "{1, 2, 3, 5, 6}\n"
     ]
    }
   ],
   "source": [
    "temp_set.update([5, 6, 1]) # add multiple elems\n",
    "print(temp_set)"
   ]
  },
  {
   "cell_type": "code",
   "execution_count": 9,
   "metadata": {},
   "outputs": [
    {
     "name": "stdout",
     "output_type": "stream",
     "text": [
      "{1, 2, 3, 4, 5}\n",
      "{1, 2, 3, 5}\n"
     ]
    }
   ],
   "source": [
    "# Remove element from Set\n",
    "\n",
    "temp_set = {1, 2, 3, 5, 4}\n",
    "print(temp_set)\n",
    "\n",
    "temp_set.discard(4) # 4 is removed\n",
    "\n",
    "print(temp_set)"
   ]
  },
  {
   "cell_type": "code",
   "execution_count": 10,
   "metadata": {},
   "outputs": [
    {
     "name": "stdout",
     "output_type": "stream",
     "text": [
      "{1, 3, 5}\n"
     ]
    }
   ],
   "source": [
    "temp_set.remove(2)\n",
    "\n",
    "print(temp_set)"
   ]
  },
  {
   "cell_type": "code",
   "execution_count": 11,
   "metadata": {},
   "outputs": [
    {
     "ename": "KeyError",
     "evalue": "7",
     "output_type": "error",
     "traceback": [
      "\u001b[0;31m---------------------------------------------------------------------------\u001b[0m",
      "\u001b[0;31mKeyError\u001b[0m                                  Traceback (most recent call last)",
      "\u001b[0;32m<ipython-input-11-9f5376101d18>\u001b[0m in \u001b[0;36m<module>\u001b[0;34m\u001b[0m\n\u001b[0;32m----> 1\u001b[0;31m \u001b[0mtemp_set\u001b[0m\u001b[0;34m.\u001b[0m\u001b[0mremove\u001b[0m\u001b[0;34m(\u001b[0m\u001b[0;36m7\u001b[0m\u001b[0;34m)\u001b[0m \u001b[0;31m# will give and error, as not element is present\u001b[0m\u001b[0;34m\u001b[0m\u001b[0;34m\u001b[0m\u001b[0m\n\u001b[0m",
      "\u001b[0;31mKeyError\u001b[0m: 7"
     ]
    }
   ],
   "source": [
    "temp_set.remove(7) # will give and error, as not element is present"
   ]
  },
  {
   "cell_type": "code",
   "execution_count": 12,
   "metadata": {},
   "outputs": [
    {
     "name": "stdout",
     "output_type": "stream",
     "text": [
      "{1, 3, 5}\n"
     ]
    }
   ],
   "source": [
    "temp_set.discard(7)\n",
    "print(temp_set) # no error"
   ]
  },
  {
   "cell_type": "code",
   "execution_count": 13,
   "metadata": {},
   "outputs": [
    {
     "name": "stdout",
     "output_type": "stream",
     "text": [
      "{2, 3, 4, 5}\n"
     ]
    }
   ],
   "source": [
    "temp_set = {1, 2, 3, 4, 5}\n",
    "\n",
    "temp_set.pop() # removes a random elem\n",
    "\n",
    "print(temp_set)"
   ]
  },
  {
   "cell_type": "code",
   "execution_count": 14,
   "metadata": {},
   "outputs": [
    {
     "name": "stdout",
     "output_type": "stream",
     "text": [
      "set()\n"
     ]
    }
   ],
   "source": [
    "#  all elements can be remvoed using clear()\n",
    "\n",
    "temp_set = {1, 5, 2, 3, 6}\n",
    "\n",
    "temp_set.clear()\n",
    "\n",
    "print(temp_set)"
   ]
  },
  {
   "cell_type": "code",
   "execution_count": 15,
   "metadata": {},
   "outputs": [
    {
     "name": "stdout",
     "output_type": "stream",
     "text": [
      "{1, 2, 3, 4, 5, 6, 7}\n"
     ]
    }
   ],
   "source": [
    "# Python Set operations\n",
    "\n",
    "temp_s1 = {1, 2, 3, 4, 5}\n",
    "temp_s2 = {3, 4, 5, 6, 7}\n",
    "\n",
    "# union of 2 sets\n",
    "print(temp_s1 | temp_s2)"
   ]
  },
  {
   "cell_type": "code",
   "execution_count": 17,
   "metadata": {},
   "outputs": [
    {
     "name": "stdout",
     "output_type": "stream",
     "text": [
      "{3, 4, 5}\n"
     ]
    }
   ],
   "source": [
    "# intersection\n",
    "print(temp_s1 & temp_s2)"
   ]
  },
  {
   "cell_type": "code",
   "execution_count": 18,
   "metadata": {},
   "outputs": [
    {
     "name": "stdout",
     "output_type": "stream",
     "text": [
      "{1, 2}\n"
     ]
    }
   ],
   "source": [
    "# Diff\n",
    "print(temp_s1 - temp_s2)"
   ]
  },
  {
   "cell_type": "code",
   "execution_count": 19,
   "metadata": {},
   "outputs": [
    {
     "name": "stdout",
     "output_type": "stream",
     "text": [
      "{1, 2, 6, 7}\n"
     ]
    }
   ],
   "source": [
    "# symmetric diff\n",
    "print(temp_s1 ^ temp_s2)"
   ]
  },
  {
   "cell_type": "code",
   "execution_count": 21,
   "metadata": {},
   "outputs": [
    {
     "name": "stdout",
     "output_type": "stream",
     "text": [
      "X is a subset of Y? False\n",
      "y is a subset of x? True\n"
     ]
    }
   ],
   "source": [
    "# issubset()\n",
    "x = {'a', 'b', 'c', 'd', 'e'}\n",
    "y = {'c', 'd'}\n",
    "\n",
    "print('X is a subset of Y?', x.issubset(y))\n",
    "print('y is a subset of x?', y.issubset(x))"
   ]
  },
  {
   "cell_type": "code",
   "execution_count": 22,
   "metadata": {},
   "outputs": [
    {
     "ename": "AttributeError",
     "evalue": "'frozenset' object has no attribute 'add'",
     "output_type": "error",
     "traceback": [
      "\u001b[0;31m---------------------------------------------------------------------------\u001b[0m",
      "\u001b[0;31mAttributeError\u001b[0m                            Traceback (most recent call last)",
      "\u001b[0;32m<ipython-input-22-a332262b315f>\u001b[0m in \u001b[0;36m<module>\u001b[0;34m\u001b[0m\n\u001b[1;32m      4\u001b[0m \u001b[0;34m\u001b[0m\u001b[0m\n\u001b[1;32m      5\u001b[0m \u001b[0;31m# try adding\u001b[0m\u001b[0;34m\u001b[0m\u001b[0;34m\u001b[0m\u001b[0;34m\u001b[0m\u001b[0m\n\u001b[0;32m----> 6\u001b[0;31m \u001b[0mtemp_s1\u001b[0m\u001b[0;34m.\u001b[0m\u001b[0madd\u001b[0m\u001b[0;34m(\u001b[0m\u001b[0;36m5\u001b[0m\u001b[0;34m)\u001b[0m\u001b[0;34m\u001b[0m\u001b[0;34m\u001b[0m\u001b[0m\n\u001b[0m",
      "\u001b[0;31mAttributeError\u001b[0m: 'frozenset' object has no attribute 'add'"
     ]
    }
   ],
   "source": [
    "# Frozen set\n",
    "temp_s1 = frozenset([1, 2, 3, 4])\n",
    "temp_s2 = frozenset([3, 4, 5, 6])\n",
    "\n",
    "# try adding\n",
    "temp_s1.add(5)"
   ]
  },
  {
   "cell_type": "code",
   "execution_count": 23,
   "metadata": {},
   "outputs": [
    {
     "ename": "TypeError",
     "evalue": "'frozenset' object is not subscriptable",
     "output_type": "error",
     "traceback": [
      "\u001b[0;31m---------------------------------------------------------------------------\u001b[0m",
      "\u001b[0;31mTypeError\u001b[0m                                 Traceback (most recent call last)",
      "\u001b[0;32m<ipython-input-23-877c4ecf066e>\u001b[0m in \u001b[0;36m<module>\u001b[0;34m\u001b[0m\n\u001b[1;32m      1\u001b[0m \u001b[0;31m# no support for indexing\u001b[0m\u001b[0;34m\u001b[0m\u001b[0;34m\u001b[0m\u001b[0;34m\u001b[0m\u001b[0m\n\u001b[0;32m----> 2\u001b[0;31m \u001b[0mprint\u001b[0m\u001b[0;34m(\u001b[0m\u001b[0mtemp_s1\u001b[0m\u001b[0;34m[\u001b[0m\u001b[0;36m1\u001b[0m\u001b[0;34m]\u001b[0m\u001b[0;34m)\u001b[0m\u001b[0;34m\u001b[0m\u001b[0;34m\u001b[0m\u001b[0m\n\u001b[0m",
      "\u001b[0;31mTypeError\u001b[0m: 'frozenset' object is not subscriptable"
     ]
    }
   ],
   "source": [
    "# no support for indexing\n",
    "print(temp_s1[1])"
   ]
  },
  {
   "cell_type": "code",
   "execution_count": 24,
   "metadata": {},
   "outputs": [
    {
     "name": "stdout",
     "output_type": "stream",
     "text": [
      "frozenset({1, 2, 3, 4, 5, 6})\n"
     ]
    }
   ],
   "source": [
    "print(temp_s1 | temp_s2)"
   ]
  },
  {
   "cell_type": "code",
   "execution_count": 25,
   "metadata": {},
   "outputs": [
    {
     "name": "stdout",
     "output_type": "stream",
     "text": [
      "frozenset({3, 4})\n"
     ]
    }
   ],
   "source": [
    "print(temp_s1.intersection(temp_s2))"
   ]
  },
  {
   "cell_type": "markdown",
   "metadata": {},
   "source": [
    "Dictionary is a really useful data structure, that is used for a lot of applications, such json and in particular api's. Dictionaries are pretty easy to create and have support adding, removing and updating the values based on their keys. Just like lists, it's better to create a deep copy as the orginal dictionary might get affected as well."
   ]
  },
  {
   "cell_type": "code",
   "execution_count": 26,
   "metadata": {},
   "outputs": [],
   "source": [
    "# Dictionary"
   ]
  },
  {
   "cell_type": "code",
   "execution_count": 28,
   "metadata": {},
   "outputs": [
    {
     "name": "stdout",
     "output_type": "stream",
     "text": [
      "{1: 'abc', 2: 'xyz'}\n",
      "{'name': 'benjamin', 1: ['abc', 'xyz']}\n",
      "{1: 'abc', 2: 'xyz'}\n"
     ]
    }
   ],
   "source": [
    "# Dictionary creation\n",
    "\n",
    "my_dict = {} # empty dict\n",
    "\n",
    "my_dict = {1: 'abc', 2: 'xyz'} # dict with integer keys\n",
    "print(my_dict)\n",
    "\n",
    "my_dict = {'name': 'benjamin', 1: ['abc', 'xyz']} # dict with mixed keys\n",
    "print(my_dict)\n",
    "\n",
    "my_dict = dict() # create an empty dict()\n",
    "\n",
    "my_dict = dict([(1, 'abc'), (2, 'xyz')])\n",
    "print(my_dict)"
   ]
  },
  {
   "cell_type": "code",
   "execution_count": 31,
   "metadata": {},
   "outputs": [
    {
     "name": "stdout",
     "output_type": "stream",
     "text": [
      "NY\n"
     ]
    }
   ],
   "source": [
    "# Dict access\n",
    "\n",
    "my_dict = {\n",
    "    'name': 'Benjamin',\n",
    "    'age': 20,\n",
    "    'address': 'NY'\n",
    "}\n",
    "\n",
    "print(my_dict['address'])"
   ]
  },
  {
   "cell_type": "code",
   "execution_count": 32,
   "metadata": {},
   "outputs": [
    {
     "ename": "KeyError",
     "evalue": "'desgination'",
     "output_type": "error",
     "traceback": [
      "\u001b[0;31m---------------------------------------------------------------------------\u001b[0m",
      "\u001b[0;31mKeyError\u001b[0m                                  Traceback (most recent call last)",
      "\u001b[0;32m<ipython-input-32-7c8ce42aa466>\u001b[0m in \u001b[0;36m<module>\u001b[0;34m\u001b[0m\n\u001b[0;32m----> 1\u001b[0;31m \u001b[0mprint\u001b[0m\u001b[0;34m(\u001b[0m\u001b[0mmy_dict\u001b[0m\u001b[0;34m[\u001b[0m\u001b[0;34m'desgination'\u001b[0m\u001b[0;34m]\u001b[0m\u001b[0;34m)\u001b[0m\u001b[0;34m\u001b[0m\u001b[0;34m\u001b[0m\u001b[0m\n\u001b[0m",
      "\u001b[0;31mKeyError\u001b[0m: 'desgination'"
     ]
    }
   ],
   "source": [
    "print(my_dict['desgination'])"
   ]
  },
  {
   "cell_type": "code",
   "execution_count": 33,
   "metadata": {},
   "outputs": [
    {
     "name": "stdout",
     "output_type": "stream",
     "text": [
      "20\n"
     ]
    }
   ],
   "source": [
    "print(my_dict.get('age')) # another way of accessing"
   ]
  },
  {
   "cell_type": "code",
   "execution_count": 34,
   "metadata": {},
   "outputs": [
    {
     "name": "stdout",
     "output_type": "stream",
     "text": [
      "None\n"
     ]
    }
   ],
   "source": [
    "print(my_dict.get('designation'))"
   ]
  },
  {
   "cell_type": "code",
   "execution_count": 35,
   "metadata": {},
   "outputs": [
    {
     "name": "stdout",
     "output_type": "stream",
     "text": [
      "{'name': 'Roosevelt', 'age': 20, 'address': 'NY'}\n"
     ]
    }
   ],
   "source": [
    "# Dict add or modify elements\n",
    "\n",
    "my_dict = {\n",
    "    'name': 'Benjamin',\n",
    "    'age': 20,\n",
    "    'address': 'NY'\n",
    "}\n",
    "\n",
    "# update name\n",
    "my_dict['name'] = 'Roosevelt'\n",
    "\n",
    "print(my_dict)"
   ]
  },
  {
   "cell_type": "code",
   "execution_count": 36,
   "metadata": {},
   "outputs": [
    {
     "name": "stdout",
     "output_type": "stream",
     "text": [
      "{'name': 'Roosevelt', 'age': 20, 'address': 'NY', 'degree': 'Masters'}\n"
     ]
    }
   ],
   "source": [
    "my_dict['degree'] = 'Masters' # add new key-val pair\n",
    "print(my_dict)"
   ]
  },
  {
   "cell_type": "code",
   "execution_count": 37,
   "metadata": {},
   "outputs": [
    {
     "name": "stdout",
     "output_type": "stream",
     "text": [
      "20\n",
      "{'name': 'Benjamin', 'address': 'NY'}\n"
     ]
    }
   ],
   "source": [
    "# Dict delete or remove element\n",
    "my_dict = {\n",
    "    'name': 'Benjamin',\n",
    "    'age': 20,\n",
    "    'address': 'NY'\n",
    "}\n",
    "\n",
    "print(my_dict.pop('age')) # remove a particular item\n",
    "print(my_dict)"
   ]
  },
  {
   "cell_type": "code",
   "execution_count": 38,
   "metadata": {},
   "outputs": [
    {
     "name": "stdout",
     "output_type": "stream",
     "text": [
      "{'name': 'Benjamin', 'age': 20}\n"
     ]
    }
   ],
   "source": [
    "my_dict = {\n",
    "    'name': 'Benjamin',\n",
    "    'age': 20,\n",
    "    'address': 'NY'\n",
    "}\n",
    "\n",
    "my_dict.popitem() # random removal\n",
    "print(my_dict)"
   ]
  },
  {
   "cell_type": "code",
   "execution_count": 39,
   "metadata": {},
   "outputs": [
    {
     "name": "stdout",
     "output_type": "stream",
     "text": [
      "{3: 9, 4: 16, 5: 25}\n"
     ]
    }
   ],
   "source": [
    "squares = {\n",
    "    2: 4,\n",
    "    3: 9,\n",
    "    4: 16,\n",
    "    5: 25\n",
    "}\n",
    "\n",
    "del squares[2]\n",
    "print(squares)"
   ]
  },
  {
   "cell_type": "code",
   "execution_count": 40,
   "metadata": {},
   "outputs": [
    {
     "name": "stdout",
     "output_type": "stream",
     "text": [
      "{}\n"
     ]
    }
   ],
   "source": [
    "squares.clear() # remove all items\n",
    "\n",
    "print(squares)"
   ]
  },
  {
   "cell_type": "code",
   "execution_count": 41,
   "metadata": {},
   "outputs": [
    {
     "ename": "NameError",
     "evalue": "name 'squares' is not defined",
     "output_type": "error",
     "traceback": [
      "\u001b[0;31m---------------------------------------------------------------------------\u001b[0m",
      "\u001b[0;31mNameError\u001b[0m                                 Traceback (most recent call last)",
      "\u001b[0;32m<ipython-input-41-a0f63a7d2b5e>\u001b[0m in \u001b[0;36m<module>\u001b[0;34m\u001b[0m\n\u001b[1;32m      7\u001b[0m \u001b[0;34m\u001b[0m\u001b[0m\n\u001b[1;32m      8\u001b[0m \u001b[0;32mdel\u001b[0m \u001b[0msquares\u001b[0m \u001b[0;31m# remove full dictionary\u001b[0m\u001b[0;34m\u001b[0m\u001b[0;34m\u001b[0m\u001b[0m\n\u001b[0;32m----> 9\u001b[0;31m \u001b[0mprint\u001b[0m\u001b[0;34m(\u001b[0m\u001b[0msquares\u001b[0m\u001b[0;34m)\u001b[0m\u001b[0;34m\u001b[0m\u001b[0;34m\u001b[0m\u001b[0m\n\u001b[0m",
      "\u001b[0;31mNameError\u001b[0m: name 'squares' is not defined"
     ]
    }
   ],
   "source": [
    "squares = {\n",
    "    2: 4,\n",
    "    3: 9,\n",
    "    4: 16,\n",
    "    5: 25\n",
    "}\n",
    "\n",
    "del squares # remove full dictionary\n",
    "print(squares)"
   ]
  },
  {
   "cell_type": "code",
   "execution_count": 42,
   "metadata": {},
   "outputs": [
    {
     "name": "stdout",
     "output_type": "stream",
     "text": [
      "{2: 4, 3: 9, 4: 16, 5: 25}\n"
     ]
    }
   ],
   "source": [
    "# Dictionary methods\n",
    "\n",
    "squares = {\n",
    "    2: 4,\n",
    "    3: 9,\n",
    "    4: 16,\n",
    "    5: 25\n",
    "}\n",
    "\n",
    "my_dict = squares.copy()\n",
    "print(my_dict)"
   ]
  },
  {
   "cell_type": "code",
   "execution_count": 43,
   "metadata": {},
   "outputs": [
    {
     "name": "stdout",
     "output_type": "stream",
     "text": [
      "{'Programming': 0, 'Finance': 0, 'Data': 0}\n"
     ]
    }
   ],
   "source": [
    "subjects = {}.fromkeys(['Programming', 'Finance', 'Data'], 0)\n",
    "print(subjects)"
   ]
  },
  {
   "cell_type": "code",
   "execution_count": 44,
   "metadata": {},
   "outputs": [
    {
     "name": "stdout",
     "output_type": "stream",
     "text": [
      "dict_items([(2, 4), (3, 9), (4, 16), (5, 25)])\n"
     ]
    }
   ],
   "source": [
    "squares = {\n",
    "    2: 4,\n",
    "    3: 9,\n",
    "    4: 16,\n",
    "    5: 25\n",
    "}\n",
    "print(squares.items())"
   ]
  },
  {
   "cell_type": "code",
   "execution_count": 45,
   "metadata": {},
   "outputs": [
    {
     "name": "stdout",
     "output_type": "stream",
     "text": [
      "['__class__', '__contains__', '__delattr__', '__delitem__', '__dir__', '__doc__', '__eq__', '__format__', '__ge__', '__getattribute__', '__getitem__', '__gt__', '__hash__', '__init__', '__init_subclass__', '__iter__', '__le__', '__len__', '__lt__', '__ne__', '__new__', '__reduce__', '__reduce_ex__', '__repr__', '__setattr__', '__setitem__', '__sizeof__', '__str__', '__subclasshook__', 'clear', 'copy', 'fromkeys', 'get', 'items', 'keys', 'pop', 'popitem', 'setdefault', 'update', 'values']\n"
     ]
    }
   ],
   "source": [
    "# list of attributes and methods\n",
    "temp_dict = {}\n",
    "print(dir(temp_dict))"
   ]
  },
  {
   "cell_type": "code",
   "execution_count": 46,
   "metadata": {},
   "outputs": [
    {
     "name": "stdout",
     "output_type": "stream",
     "text": [
      "('a', 1)\n",
      "('b', 2)\n",
      "('c', 3)\n"
     ]
    }
   ],
   "source": [
    "# Dict comp\n",
    "temp_dict = {'a': 1, 'b': 2, 'c': 3}\n",
    "for item in temp_dict.items():\n",
    "    print(item)"
   ]
  },
  {
   "cell_type": "code",
   "execution_count": 47,
   "metadata": {},
   "outputs": [
    {
     "name": "stdout",
     "output_type": "stream",
     "text": [
      "{'c': 3, 'd': 4}\n"
     ]
    }
   ],
   "source": [
    "temp_dict = {'a': 1, 'b': 2, 'c': 3, 'd': 4}\n",
    "new_dict = {k:v for k, v in temp_dict.items() if v > 2}\n",
    "print(new_dict)"
   ]
  },
  {
   "cell_type": "code",
   "execution_count": null,
   "metadata": {},
   "outputs": [],
   "source": []
  },
  {
   "cell_type": "code",
   "execution_count": null,
   "metadata": {},
   "outputs": [],
   "source": [
    "# Strings"
   ]
  },
  {
   "cell_type": "code",
   "execution_count": null,
   "metadata": {},
   "outputs": [],
   "source": []
  },
  {
   "cell_type": "code",
   "execution_count": null,
   "metadata": {},
   "outputs": [],
   "source": []
  },
  {
   "cell_type": "code",
   "execution_count": null,
   "metadata": {},
   "outputs": [],
   "source": []
  },
  {
   "cell_type": "code",
   "execution_count": null,
   "metadata": {},
   "outputs": [],
   "source": []
  },
  {
   "cell_type": "code",
   "execution_count": null,
   "metadata": {},
   "outputs": [],
   "source": []
  },
  {
   "cell_type": "code",
   "execution_count": null,
   "metadata": {},
   "outputs": [],
   "source": []
  },
  {
   "cell_type": "code",
   "execution_count": null,
   "metadata": {},
   "outputs": [],
   "source": []
  },
  {
   "cell_type": "code",
   "execution_count": null,
   "metadata": {},
   "outputs": [],
   "source": []
  },
  {
   "cell_type": "code",
   "execution_count": null,
   "metadata": {},
   "outputs": [],
   "source": []
  },
  {
   "cell_type": "code",
   "execution_count": null,
   "metadata": {},
   "outputs": [],
   "source": []
  },
  {
   "cell_type": "code",
   "execution_count": null,
   "metadata": {},
   "outputs": [],
   "source": []
  },
  {
   "cell_type": "code",
   "execution_count": null,
   "metadata": {},
   "outputs": [],
   "source": []
  }
 ],
 "metadata": {
  "kernelspec": {
   "display_name": "Python 3",
   "language": "python",
   "name": "python3"
  },
  "language_info": {
   "codemirror_mode": {
    "name": "ipython",
    "version": 3
   },
   "file_extension": ".py",
   "mimetype": "text/x-python",
   "name": "python",
   "nbconvert_exporter": "python",
   "pygments_lexer": "ipython3",
   "version": "3.7.4"
  }
 },
 "nbformat": 4,
 "nbformat_minor": 2
}
