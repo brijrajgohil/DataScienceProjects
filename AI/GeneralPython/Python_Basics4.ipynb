{
 "cells": [
  {
   "cell_type": "markdown",
   "metadata": {},
   "source": [
    "Contains\n",
    "1. Function Introduction\n",
    "2. Types of Functions"
   ]
  },
  {
   "cell_type": "markdown",
   "metadata": {},
   "source": [
    "Functions are a really good way to write concise and modular code, functions are typically useful when the code in the program is repetited, when we can put this repetited code into a single function, we can resuse it, without writing it down again and again.\n",
    "\n",
    "The concept of scope is really important while using functions, local variables have the scope only inside of the functions, while global variables can be called outside of the function as well.\n",
    "\n",
    "We can use \"return\" to get back the processed variables, after the computations are performed in that function using the variables which were passed."
   ]
  },
  {
   "cell_type": "code",
   "execution_count": 1,
   "metadata": {},
   "outputs": [],
   "source": [
    "# Python functions"
   ]
  },
  {
   "cell_type": "code",
   "execution_count": 2,
   "metadata": {},
   "outputs": [],
   "source": [
    "# Print function example\n",
    "def print_name(name):\n",
    "    \"\"\"\n",
    "    This function prints the same\n",
    "    \"\"\"\n",
    "    print(\"Hello \" + str(name))"
   ]
  },
  {
   "cell_type": "code",
   "execution_count": 3,
   "metadata": {},
   "outputs": [
    {
     "name": "stdout",
     "output_type": "stream",
     "text": [
      "Hello Benjamin\n"
     ]
    }
   ],
   "source": [
    "# Function call\n",
    "print_name('Benjamin')"
   ]
  },
  {
   "cell_type": "code",
   "execution_count": 4,
   "metadata": {},
   "outputs": [
    {
     "name": "stdout",
     "output_type": "stream",
     "text": [
      "\n",
      "    This function prints the same\n",
      "    \n"
     ]
    }
   ],
   "source": [
    "# Doc string\n",
    "print(print_name.__doc__)"
   ]
  },
  {
   "cell_type": "code",
   "execution_count": 5,
   "metadata": {},
   "outputs": [],
   "source": [
    "# Return statement\n",
    "def get_sum(temp_list):\n",
    "    \"\"\"\n",
    "    This function returns the sum of all the elements in a list\n",
    "    \"\"\"\n",
    "    # init sum\n",
    "    _sum = 0\n",
    "    \n",
    "    # iterating over the list\n",
    "    for num in temp_list:\n",
    "        _sum += num\n",
    "    return _sum"
   ]
  },
  {
   "cell_type": "code",
   "execution_count": 6,
   "metadata": {},
   "outputs": [
    {
     "name": "stdout",
     "output_type": "stream",
     "text": [
      "10\n"
     ]
    }
   ],
   "source": [
    "s = get_sum([1, 2, 3, 4])\n",
    "print(s)"
   ]
  },
  {
   "cell_type": "code",
   "execution_count": 7,
   "metadata": {},
   "outputs": [
    {
     "name": "stdout",
     "output_type": "stream",
     "text": [
      "\n",
      "    This function returns the sum of all the elements in a list\n",
      "    \n"
     ]
    }
   ],
   "source": [
    "# print doc string\n",
    "print(get_sum.__doc__)"
   ]
  },
  {
   "cell_type": "code",
   "execution_count": 8,
   "metadata": {},
   "outputs": [
    {
     "name": "stdout",
     "output_type": "stream",
     "text": [
      "This is a local variable\n",
      "This is a global variable\n",
      "This is a global variable\n"
     ]
    },
    {
     "ename": "NameError",
     "evalue": "name 'local_var' is not defined",
     "output_type": "error",
     "traceback": [
      "\u001b[0;31m---------------------------------------------------------------------------\u001b[0m",
      "\u001b[0;31mNameError\u001b[0m                                 Traceback (most recent call last)",
      "\u001b[0;32m<ipython-input-8-fc6b6bee2b08>\u001b[0m in \u001b[0;36m<module>\u001b[0;34m\u001b[0m\n\u001b[1;32m     18\u001b[0m \u001b[0;34m\u001b[0m\u001b[0m\n\u001b[1;32m     19\u001b[0m \u001b[0;31m# print local variable local_var\u001b[0m\u001b[0;34m\u001b[0m\u001b[0;34m\u001b[0m\u001b[0;34m\u001b[0m\u001b[0m\n\u001b[0;32m---> 20\u001b[0;31m \u001b[0mprint\u001b[0m\u001b[0;34m(\u001b[0m\u001b[0mlocal_var\u001b[0m\u001b[0;34m)\u001b[0m\u001b[0;34m\u001b[0m\u001b[0;34m\u001b[0m\u001b[0m\n\u001b[0m",
      "\u001b[0;31mNameError\u001b[0m: name 'local_var' is not defined"
     ]
    }
   ],
   "source": [
    "# Scope and Life Time of Variables\n",
    "global_var = \"This is a global variable\"\n",
    "\n",
    "def test_the_life_time():\n",
    "    \"\"\"\n",
    "    This function test the life time of a variable\n",
    "    \"\"\"\n",
    "    local_var = \"This is a local variable\"\n",
    "    print(local_var) # print local variable local_var\n",
    "    \n",
    "    print(global_var) # print global variable global_var\n",
    "    \n",
    "# calling function\n",
    "test_the_life_time()\n",
    "\n",
    "# print global variable global_var\n",
    "print(global_var)\n",
    "\n",
    "# print local variable local_var\n",
    "print(local_var)"
   ]
  },
  {
   "cell_type": "code",
   "execution_count": 10,
   "metadata": {},
   "outputs": [
    {
     "name": "stdout",
     "output_type": "stream",
     "text": [
      "HCF of 6 and 36 is: 6\n"
     ]
    }
   ],
   "source": [
    "# Highest Common Factor(HCF)\n",
    "\n",
    "def compute_hcf(num1, num2):\n",
    "    \"\"\"\n",
    "    Computing HCF of two numbers\n",
    "    \"\"\"\n",
    "    smaller = num1 if num1 > num2 else num1 # consice if-else\n",
    "    \n",
    "    hcf = 1\n",
    "    for i in range(1, smaller + 1):\n",
    "        if (num1 % i == 0) and (num2 % i == 0):\n",
    "            hcf = i\n",
    "    return hcf\n",
    "\n",
    "n1 = 6\n",
    "n2 = 36\n",
    "print(\"HCF of {0} and {1} is: {2}\".format(n1, n2, compute_hcf(n1, n2)))"
   ]
  },
  {
   "cell_type": "markdown",
   "metadata": {},
   "source": [
    "There are two basic types of functions, built-it and user defined functions.\n",
    "Built in functions are already defined for us and can be accessed through it's library or API's. Some of the functions available to us are \"abs()\" - which returns the absolute value of the number passed to it, \"all()\" - returns true only if all values are iterable,\n",
    "\"dir()\" - lists all of the methods and attributes available for a particular object\"\n",
    "\"divmod()\" - returns the quotient and remainder of two nums passed to it,\n",
    "\"enumerate()\" - adds counter to an iterable and returns it,\n",
    "\"filter()\" - filters out elements based on specified conditionals (very important),\n",
    "\"isinstance()\" - returns true if the object is of particular instance/ false otherwise,\n",
    "\"map()\" - a function is provided which contains the operations we want to perform on each of the elems, returns after performing each operation on the list, \n",
    "\"reduc"
   ]
  },
  {
   "cell_type": "code",
   "execution_count": 12,
   "metadata": {},
   "outputs": [],
   "source": [
    "# Types of Functions"
   ]
  },
  {
   "cell_type": "code",
   "execution_count": 13,
   "metadata": {},
   "outputs": [
    {
     "name": "stdout",
     "output_type": "stream",
     "text": [
      "100\n"
     ]
    }
   ],
   "source": [
    "# Built-in functions\n",
    "\n",
    "# find absolute value\n",
    "num = -100\n",
    "print(abs(num))"
   ]
  },
  {
   "cell_type": "code",
   "execution_count": 14,
   "metadata": {},
   "outputs": [
    {
     "name": "stdout",
     "output_type": "stream",
     "text": [
      "True\n",
      "False\n",
      "True\n",
      "False\n"
     ]
    }
   ],
   "source": [
    "# all() \n",
    "# true : all items are iterable\n",
    "# false : if any items are not iterable [0, None, False]\n",
    "\n",
    "list1 = [1, 2, 3, 4]\n",
    "print(all(list1)) # returns True\n",
    "\n",
    "list1 = (0, 2, 3, 4) # 0 present\n",
    "print(all(list1)) # returns False\n",
    "\n",
    "list1 = []\n",
    "print(all(list1)) # True\n",
    "\n",
    "list1 = [False, 1, 2]\n",
    "print(all(list1)) # False"
   ]
  },
  {
   "cell_type": "code",
   "execution_count": 15,
   "metadata": {},
   "outputs": [
    {
     "name": "stdout",
     "output_type": "stream",
     "text": [
      "['__add__', '__class__', '__contains__', '__delattr__', '__delitem__', '__dir__', '__doc__', '__eq__', '__format__', '__ge__', '__getattribute__', '__getitem__', '__gt__', '__hash__', '__iadd__', '__imul__', '__init__', '__init_subclass__', '__iter__', '__le__', '__len__', '__lt__', '__mul__', '__ne__', '__new__', '__reduce__', '__reduce_ex__', '__repr__', '__reversed__', '__rmul__', '__setattr__', '__setitem__', '__sizeof__', '__str__', '__subclasshook__', 'append', 'clear', 'copy', 'count', 'extend', 'index', 'insert', 'pop', 'remove', 'reverse', 'sort']\n"
     ]
    }
   ],
   "source": [
    "# dir()\n",
    "# valid attributes of the object\n",
    "nums = [1, 2, 3]\n",
    "print(dir(nums))"
   ]
  },
  {
   "cell_type": "code",
   "execution_count": 16,
   "metadata": {},
   "outputs": [
    {
     "name": "stdout",
     "output_type": "stream",
     "text": [
      "(4, 1)\n"
     ]
    }
   ],
   "source": [
    "# divmod()\n",
    "print(divmod(9, 2)) # print quotient and remainder as a tuple"
   ]
  },
  {
   "cell_type": "code",
   "execution_count": 17,
   "metadata": {},
   "outputs": [
    {
     "name": "stdout",
     "output_type": "stream",
     "text": [
      "index 10 has value 10\n",
      "index 11 has value 20\n",
      "index 12 has value 30\n",
      "index 13 has value 40\n"
     ]
    }
   ],
   "source": [
    "# enumerate()\n",
    "# adds counter to an iterable and returns it\n",
    "nums = [10, 20, 30, 40]\n",
    "for idx, num in enumerate(nums, 10): # start index at 10\n",
    "    print('index {0} has value {1}'.format(idx, num))\n",
    "    "
   ]
  },
  {
   "cell_type": "code",
   "execution_count": 18,
   "metadata": {},
   "outputs": [],
   "source": [
    "# filter()\n",
    "def find_pos_num(num):\n",
    "    \"\"\"\n",
    "    This function returns the positive number if num is positive\n",
    "    \"\"\"\n",
    "    if num > 0:\n",
    "        return num"
   ]
  },
  {
   "cell_type": "code",
   "execution_count": 20,
   "metadata": {},
   "outputs": [
    {
     "name": "stdout",
     "output_type": "stream",
     "text": [
      "[-10, -9, -8, -7, -6, -5, -4, -3, -2, -1, 0, 1, 2, 3, 4, 5, 6, 7, 8, 9]\n",
      "[1, 2, 3, 4, 5, 6, 7, 8, 9]\n"
     ]
    }
   ],
   "source": [
    "numbers_list = range(-10, 10) # list from [-10 to 9]\n",
    "print(list(numbers_list))\n",
    "\n",
    "pos_num_list = list(filter(find_pos_num, numbers_list))\n",
    "print(pos_num_list)"
   ]
  },
  {
   "cell_type": "code",
   "execution_count": 22,
   "metadata": {},
   "outputs": [
    {
     "name": "stdout",
     "output_type": "stream",
     "text": [
      "True\n",
      "False\n"
     ]
    }
   ],
   "source": [
    "# isinstance()\n",
    "list1 = [1, 2, 3, 4]\n",
    "print(isinstance(list1, list))\n",
    "\n",
    "tupe1 = (1, 2, 3, 4)\n",
    "print(isinstance(tupe1, list))"
   ]
  },
  {
   "cell_type": "code",
   "execution_count": 23,
   "metadata": {},
   "outputs": [
    {
     "name": "stdout",
     "output_type": "stream",
     "text": [
      "[1, 4, 9, 16]\n"
     ]
    }
   ],
   "source": [
    "# map()\n",
    "nums = [1, 2, 3, 4]\n",
    "\n",
    "# normal method\n",
    "squared = []\n",
    "for num in nums:\n",
    "    squared.append(num ** 2)\n",
    "\n",
    "print(squared)"
   ]
  },
  {
   "cell_type": "code",
   "execution_count": 24,
   "metadata": {},
   "outputs": [
    {
     "name": "stdout",
     "output_type": "stream",
     "text": [
      "[1, 4, 9, 16]\n"
     ]
    }
   ],
   "source": [
    "# using map\n",
    "def powerOfTwo(num):\n",
    "    return num**2\n",
    "squared = list(map(powerOfTwo, nums))\n",
    "print(squared)"
   ]
  },
  {
   "cell_type": "code",
   "execution_count": 25,
   "metadata": {},
   "outputs": [
    {
     "name": "stdout",
     "output_type": "stream",
     "text": [
      "24\n"
     ]
    }
   ],
   "source": [
    "# reduce()\n",
    "\n",
    "product = 1\n",
    "nums = [1, 2, 3, 4]\n",
    "\n",
    "# normally\n",
    "for num in nums:\n",
    "    product *= num\n",
    "\n",
    "print(product)"
   ]
  },
  {
   "cell_type": "code",
   "execution_count": 26,
   "metadata": {},
   "outputs": [
    {
     "name": "stdout",
     "output_type": "stream",
     "text": [
      "24\n"
     ]
    }
   ],
   "source": [
    "# using reduce()\n",
    "\n",
    "from functools import reduce\n",
    "\n",
    "def mult(x, y):\n",
    "    return x * y\n",
    "\n",
    "product = reduce(mult, nums)\n",
    "print(product)"
   ]
  },
  {
   "cell_type": "code",
   "execution_count": 27,
   "metadata": {},
   "outputs": [
    {
     "name": "stdout",
     "output_type": "stream",
     "text": [
      "Product of 10 and 20 is : 200\n"
     ]
    }
   ],
   "source": [
    "# User defined functions\n",
    "def product_numbers(a, b):\n",
    "    \"\"\"\n",
    "    returns product of two numbers\n",
    "    \"\"\"\n",
    "    product = a * b\n",
    "    return product\n",
    "\n",
    "num1 = 10\n",
    "num2 = 20\n",
    "\n",
    "print(\"Product of {0} and {1} is : {2}\".format(num1, num2, product_numbers(num1, num2)))"
   ]
  },
  {
   "cell_type": "code",
   "execution_count": 29,
   "metadata": {},
   "outputs": [
    {
     "name": "stdout",
     "output_type": "stream",
     "text": [
      "Select option\n",
      "1. Addition\n",
      "2. Subtraction\n",
      "3. Multiplication\n",
      "4. Division\n",
      "Enter choice 1/2/3/4 3\n",
      "Enter first number: 1\n",
      "Enter second number: 2\n",
      "Multiplication: 1.0 * 2.0 = 2.0\n"
     ]
    }
   ],
   "source": [
    "# Basic calculator\n",
    "\n",
    "def add(a, b):\n",
    "    \"\"\"\n",
    "    returns addition\n",
    "    \"\"\"\n",
    "    return a + b\n",
    "\n",
    "def mult(a, b):\n",
    "    \"\"\"\n",
    "    return product\n",
    "    \"\"\"\n",
    "    return a * b\n",
    "\n",
    "def subtract(a, b):\n",
    "    \"\"\"\n",
    "    return subtraction\n",
    "    \"\"\"\n",
    "    return a - b\n",
    "\n",
    "def division(a, b):\n",
    "    \"\"\"\n",
    "    return division\n",
    "    \"\"\"\n",
    "    return a / b\n",
    "\n",
    "print(\"Select option\")\n",
    "print(\"1. Addition\")\n",
    "print(\"2. Subtraction\")\n",
    "print(\"3. Multiplication\")\n",
    "print(\"4. Division\")\n",
    "\n",
    "choice = int(input(\"Enter choice 1/2/3/4 \"))\n",
    "\n",
    "num1 = float(input(\"Enter first number: \"))\n",
    "num2 = float(input(\"Enter second number: \"))\n",
    "\n",
    "if choice == 1:\n",
    "    print(\"Addition: {0} + {1} = {2}\".format(num1, num2, add(num1, num2)))\n",
    "elif choice == 2:\n",
    "    print(\"Subtraction: {0} - {1} = {2}\".format(num1, num2, subtrac(num1, num2)))\n",
    "elif choice == 3:\n",
    "    print(\"Multiplication: {0} * {1} = {2}\".format(num1, num2, mult(num1, num2)))\n",
    "elif choice == 4:\n",
    "    print(\"Division: {0} / {1} = {2}\".format(num1, num2, division(num1, num2)))\n",
    "else:\n",
    "    print(\"Invalid Choice\")\n",
    "          "
   ]
  },
  {
   "cell_type": "code",
   "execution_count": null,
   "metadata": {},
   "outputs": [],
   "source": []
  },
  {
   "cell_type": "code",
   "execution_count": null,
   "metadata": {},
   "outputs": [],
   "source": []
  },
  {
   "cell_type": "code",
   "execution_count": null,
   "metadata": {},
   "outputs": [],
   "source": []
  },
  {
   "cell_type": "code",
   "execution_count": null,
   "metadata": {},
   "outputs": [],
   "source": []
  },
  {
   "cell_type": "code",
   "execution_count": null,
   "metadata": {},
   "outputs": [],
   "source": []
  },
  {
   "cell_type": "code",
   "execution_count": null,
   "metadata": {},
   "outputs": [],
   "source": []
  },
  {
   "cell_type": "code",
   "execution_count": null,
   "metadata": {},
   "outputs": [],
   "source": []
  },
  {
   "cell_type": "code",
   "execution_count": null,
   "metadata": {},
   "outputs": [],
   "source": []
  },
  {
   "cell_type": "code",
   "execution_count": null,
   "metadata": {},
   "outputs": [],
   "source": []
  },
  {
   "cell_type": "code",
   "execution_count": null,
   "metadata": {},
   "outputs": [],
   "source": []
  },
  {
   "cell_type": "code",
   "execution_count": null,
   "metadata": {},
   "outputs": [],
   "source": []
  },
  {
   "cell_type": "code",
   "execution_count": null,
   "metadata": {},
   "outputs": [],
   "source": []
  },
  {
   "cell_type": "code",
   "execution_count": null,
   "metadata": {},
   "outputs": [],
   "source": []
  },
  {
   "cell_type": "code",
   "execution_count": null,
   "metadata": {},
   "outputs": [],
   "source": []
  },
  {
   "cell_type": "code",
   "execution_count": null,
   "metadata": {},
   "outputs": [],
   "source": []
  },
  {
   "cell_type": "code",
   "execution_count": null,
   "metadata": {},
   "outputs": [],
   "source": []
  },
  {
   "cell_type": "code",
   "execution_count": null,
   "metadata": {},
   "outputs": [],
   "source": []
  },
  {
   "cell_type": "code",
   "execution_count": null,
   "metadata": {},
   "outputs": [],
   "source": []
  },
  {
   "cell_type": "code",
   "execution_count": null,
   "metadata": {},
   "outputs": [],
   "source": []
  },
  {
   "cell_type": "code",
   "execution_count": null,
   "metadata": {},
   "outputs": [],
   "source": []
  },
  {
   "cell_type": "code",
   "execution_count": null,
   "metadata": {},
   "outputs": [],
   "source": []
  },
  {
   "cell_type": "code",
   "execution_count": null,
   "metadata": {},
   "outputs": [],
   "source": []
  },
  {
   "cell_type": "code",
   "execution_count": null,
   "metadata": {},
   "outputs": [],
   "source": []
  },
  {
   "cell_type": "code",
   "execution_count": null,
   "metadata": {},
   "outputs": [],
   "source": []
  },
  {
   "cell_type": "code",
   "execution_count": null,
   "metadata": {},
   "outputs": [],
   "source": []
  },
  {
   "cell_type": "code",
   "execution_count": null,
   "metadata": {},
   "outputs": [],
   "source": []
  },
  {
   "cell_type": "code",
   "execution_count": null,
   "metadata": {},
   "outputs": [],
   "source": []
  },
  {
   "cell_type": "code",
   "execution_count": null,
   "metadata": {},
   "outputs": [],
   "source": []
  },
  {
   "cell_type": "code",
   "execution_count": null,
   "metadata": {},
   "outputs": [],
   "source": []
  },
  {
   "cell_type": "code",
   "execution_count": null,
   "metadata": {},
   "outputs": [],
   "source": []
  },
  {
   "cell_type": "code",
   "execution_count": null,
   "metadata": {},
   "outputs": [],
   "source": []
  },
  {
   "cell_type": "code",
   "execution_count": null,
   "metadata": {},
   "outputs": [],
   "source": []
  },
  {
   "cell_type": "code",
   "execution_count": null,
   "metadata": {},
   "outputs": [],
   "source": []
  },
  {
   "cell_type": "code",
   "execution_count": null,
   "metadata": {},
   "outputs": [],
   "source": []
  }
 ],
 "metadata": {
  "kernelspec": {
   "display_name": "Python 3",
   "language": "python",
   "name": "python3"
  },
  "language_info": {
   "codemirror_mode": {
    "name": "ipython",
    "version": 3
   },
   "file_extension": ".py",
   "mimetype": "text/x-python",
   "name": "python",
   "nbconvert_exporter": "python",
   "pygments_lexer": "ipython3",
   "version": "3.7.4"
  }
 },
 "nbformat": 4,
 "nbformat_minor": 2
}
