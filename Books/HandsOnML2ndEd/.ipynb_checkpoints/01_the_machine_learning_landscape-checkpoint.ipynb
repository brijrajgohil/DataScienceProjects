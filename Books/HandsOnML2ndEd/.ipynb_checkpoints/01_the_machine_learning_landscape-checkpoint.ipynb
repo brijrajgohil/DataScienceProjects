{
 "cells": [
  {
   "cell_type": "code",
   "execution_count": 1,
   "metadata": {},
   "outputs": [],
   "source": [
    "# Chapter 1 - The Machine Learning Landscape"
   ]
  },
  {
   "cell_type": "code",
   "execution_count": 2,
   "metadata": {},
   "outputs": [],
   "source": [
    "# Import sklearn\n",
    "import sklearn"
   ]
  },
  {
   "cell_type": "markdown",
   "metadata": {},
   "source": [
    "The function just merges the OECD's life satisfaction data and the IMF's GDP per capita data. It's a bit too long and boring and it's not specific to Machine Learning, which is why I left it our of the book"
   ]
  },
  {
   "cell_type": "code",
   "execution_count": null,
   "metadata": {},
   "outputs": [],
   "source": [
    "def prepare_country_stats(oecd_bli, gdp_per_capita):\n",
    "    oecd_bli = oecd_bli[oecd_bli['INEQUALITY'] == 'TOT']\n",
    "    oecd_bli = oecd_bli.pivot(index = 'Country', columns = 'Indicator', values = 'Value')\n",
    "    gdp_per_capita.rename(columns = {'2015': 'GDP per capita'}, inplace = True)\n",
    "    gdp_per_capita.set_index('Country', inplace = True)\n",
    "    full_country_stats = pd.merge(left = oecd_bli, right = gdp_per_capita,\n",
    "                                  left_index = True, right_index = True)\n",
    "    full_country_stats.sort_values(by = 'GDP per capita', inplace = True)\n",
    "    remove_indices = [0, 1, 6, 8, 33, 34 ,35]\n",
    "    keep_indices = list(set(range(36)) - set(remove_indices))\n",
    "    "
   ]
  }
 ],
 "metadata": {
  "kernelspec": {
   "display_name": "Python 3",
   "language": "python",
   "name": "python3"
  },
  "language_info": {
   "codemirror_mode": {
    "name": "ipython",
    "version": 3
   },
   "file_extension": ".py",
   "mimetype": "text/x-python",
   "name": "python",
   "nbconvert_exporter": "python",
   "pygments_lexer": "ipython3",
   "version": "3.7.4"
  }
 },
 "nbformat": 4,
 "nbformat_minor": 2
}
